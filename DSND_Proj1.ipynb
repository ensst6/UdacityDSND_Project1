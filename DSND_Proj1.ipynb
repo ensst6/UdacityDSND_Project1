{
 "cells": [
  {
   "cell_type": "markdown",
   "metadata": {},
   "source": [
    "# Solar Energy Adoption by County in the US\n",
    "\n",
    "This project explores adoption of solar energy in the US."
   ]
  },
  {
   "cell_type": "markdown",
   "metadata": {},
   "source": [
    "## Business Understanding\n",
    "\n",
    "The first aim is to examine the relationship between solar energy adoption and demographics. The specific variables analyzed, and the rationale for their selection, are:\n",
    "- Per-capita income: is solar a luxury, installed mostly in high-income areas?\n",
    "- Population density: is solar more prominent in urban areas, perhaps associated with a more progressive population, or in rural areas, where the conventional grid may be less reliable or self-reliance more important?\n",
    "- Homeowner status: homeowners would have the ability to add solar panels that might be prohibited by renters' landlords or not an option in large multi-unit apartment buildings.\n",
    "\n",
    "Understanding these relationships could be useful for targeting consumer solar marketing campaigns, or political campaigns supporting increased use of clean energy.\n",
    "\n",
    "The second aim is to identify the areas with the largest and smallest growth (based on change in percentage of qualified roofs with installations) over time. \n",
    "\n",
    "This might give additional insight into which regions could be targeted for increased marketing of solar, or which might be more receptive to political initiatives promoting renewable energy."
   ]
  },
  {
   "cell_type": "markdown",
   "metadata": {},
   "source": [
    "## Data Understanding\n",
    "\n",
    "For this analysis, we require data on solar installations (at multiple timepoints for the second aim), and on population demographics.\n",
    "\n",
    "A search of publicly-available data on solar energy identified [Google Project Sunroof](https://www.google.com/get/sunroof). Their datasets include an estimate of the number of solar installations for various geographic units. Data for 2021 were available directly from the [site](https://www.google.com/get/sunroof/data-explorer/), while a 2017 dataset was found on [Kaggle](https://www.kaggle.com/jboysen/google-project-sunroof). This gives us data for two timepoints. \n",
    "\n",
    "Demographic data are available from the [US Census Bureau](https://data.census.gov/cedsci/). This site can be difficult to navigate if one is not sure exactly whih tables of data one wants. Fortunately, census data from 2017 which includes population and per-capita household income are available from [this Kaggle source](https://www.kaggle.com/muonneutrino/us-census-demographic-data). \n",
    "\n",
    "Data on home ownership from the 2019 American Community Survey are in table [DP04]((https://data.census.gov/cedsci/table?q=tenure&tid=ACSDP1Y2019.DP04&hidePreview=false).\n",
    "\n",
    "Finally, land area data (to calculate population density) were found on [this Census bureau page](https://www.census.gov/library/publications/2011/compendia/usa-counties-2011.html#LND). \n",
    "\n",
    "For both sources, data are avialble for multiple geographic units:\n",
    "- State\n",
    "- County\n",
    "- City\n",
    "- Census tract\n",
    "- Zip code\n",
    "\n",
    "County-level data were selected to provide more granularity than state data, as well as (hopefully) some degree of homogeneity in demographics, governmental structure, and geography.  I chose to exclude city-level data as it would not include rural/unincorporated areas, and zip code and census tract  as they were likely to be too small to reveal discernible trends.  "
   ]
  },
  {
   "cell_type": "markdown",
   "metadata": {},
   "source": [
    "#### Examining the data "
   ]
  },
  {
   "cell_type": "code",
   "execution_count": 218,
   "metadata": {},
   "outputs": [],
   "source": [
    "# import all the necessary libraries\n",
    "import numpy as np\n",
    "import pandas as pd\n",
    "import matplotlib.pyplot as plt\n",
    "%matplotlib inline\n",
    "import seaborn as sb\n",
    "from sklearn.linear_model import LinearRegression\n",
    "from sklearn.model_selection import train_test_split\n",
    "import re"
   ]
  },
  {
   "cell_type": "code",
   "execution_count": 219,
   "metadata": {},
   "outputs": [],
   "source": [
    "# read in the data\n",
    "# Google project sunroof for 2017 & 2021\n",
    "df_ps17 = pd.read_csv('projsunrf_cty_2017.csv')\n",
    "df_ps21 = pd.read_csv('projsunrf_cty_2021.csv')"
   ]
  },
  {
   "cell_type": "code",
   "execution_count": 220,
   "metadata": {},
   "outputs": [
    {
     "data": {
      "text/html": [
       "<div>\n",
       "<style scoped>\n",
       "    .dataframe tbody tr th:only-of-type {\n",
       "        vertical-align: middle;\n",
       "    }\n",
       "\n",
       "    .dataframe tbody tr th {\n",
       "        vertical-align: top;\n",
       "    }\n",
       "\n",
       "    .dataframe thead th {\n",
       "        text-align: right;\n",
       "    }\n",
       "</style>\n",
       "<table border=\"1\" class=\"dataframe\">\n",
       "  <thead>\n",
       "    <tr style=\"text-align: right;\">\n",
       "      <th></th>\n",
       "      <th>region_name</th>\n",
       "      <th>state_name</th>\n",
       "      <th>lat_max</th>\n",
       "      <th>lat_min</th>\n",
       "      <th>lng_max</th>\n",
       "      <th>lng_min</th>\n",
       "      <th>lat_avg</th>\n",
       "      <th>lng_avg</th>\n",
       "      <th>yearly_sunlight_kwh_kw_threshold_avg</th>\n",
       "      <th>count_qualified</th>\n",
       "      <th>...</th>\n",
       "      <th>yearly_sunlight_kwh_n</th>\n",
       "      <th>yearly_sunlight_kwh_s</th>\n",
       "      <th>yearly_sunlight_kwh_e</th>\n",
       "      <th>yearly_sunlight_kwh_w</th>\n",
       "      <th>yearly_sunlight_kwh_f</th>\n",
       "      <th>yearly_sunlight_kwh_median</th>\n",
       "      <th>yearly_sunlight_kwh_total</th>\n",
       "      <th>install_size_kw_buckets_json</th>\n",
       "      <th>carbon_offset_metric_tons</th>\n",
       "      <th>existing_installs_count</th>\n",
       "    </tr>\n",
       "  </thead>\n",
       "  <tbody>\n",
       "    <tr>\n",
       "      <th>0</th>\n",
       "      <td>Acadia Parish</td>\n",
       "      <td>Louisiana</td>\n",
       "      <td>30.480512</td>\n",
       "      <td>30.150698</td>\n",
       "      <td>-92.144065</td>\n",
       "      <td>-92.598066</td>\n",
       "      <td>30.256188</td>\n",
       "      <td>-92.331117</td>\n",
       "      <td>1073.55</td>\n",
       "      <td>28</td>\n",
       "      <td>...</td>\n",
       "      <td>3.663058e+04</td>\n",
       "      <td>1.084676e+05</td>\n",
       "      <td>7.170529e+04</td>\n",
       "      <td>9.811702e+04</td>\n",
       "      <td>3.557943e+06</td>\n",
       "      <td>18455.689746</td>\n",
       "      <td>3.872863e+06</td>\n",
       "      <td>[[0,5],[5,2],[10,5],[15,3],[20,2],[25,1],[40,1...</td>\n",
       "      <td>2.619893e+03</td>\n",
       "      <td>0</td>\n",
       "    </tr>\n",
       "    <tr>\n",
       "      <th>1</th>\n",
       "      <td>Ada County</td>\n",
       "      <td>Idaho</td>\n",
       "      <td>43.776411</td>\n",
       "      <td>43.297448</td>\n",
       "      <td>-115.998789</td>\n",
       "      <td>-116.512796</td>\n",
       "      <td>43.614095</td>\n",
       "      <td>-116.308027</td>\n",
       "      <td>1161.95</td>\n",
       "      <td>127097</td>\n",
       "      <td>...</td>\n",
       "      <td>4.510353e+07</td>\n",
       "      <td>7.928349e+08</td>\n",
       "      <td>3.305852e+08</td>\n",
       "      <td>5.466880e+08</td>\n",
       "      <td>9.644616e+08</td>\n",
       "      <td>12656.146387</td>\n",
       "      <td>2.679673e+09</td>\n",
       "      <td>[[0,21743],[5,46490],[10,31665],[15,13302],[20...</td>\n",
       "      <td>7.125475e+05</td>\n",
       "      <td>333</td>\n",
       "    </tr>\n",
       "    <tr>\n",
       "      <th>2</th>\n",
       "      <td>Adams County</td>\n",
       "      <td>Colorado</td>\n",
       "      <td>40.000318</td>\n",
       "      <td>39.738577</td>\n",
       "      <td>-104.310944</td>\n",
       "      <td>-105.052979</td>\n",
       "      <td>39.879721</td>\n",
       "      <td>-104.923252</td>\n",
       "      <td>1250.35</td>\n",
       "      <td>103951</td>\n",
       "      <td>...</td>\n",
       "      <td>1.402637e+07</td>\n",
       "      <td>5.047118e+08</td>\n",
       "      <td>2.529707e+08</td>\n",
       "      <td>2.968862e+08</td>\n",
       "      <td>1.160027e+09</td>\n",
       "      <td>8740.831396</td>\n",
       "      <td>2.228622e+09</td>\n",
       "      <td>[[0,37831],[5,40975],[10,12770],[15,4216],[20,...</td>\n",
       "      <td>1.356972e+06</td>\n",
       "      <td>2218</td>\n",
       "    </tr>\n",
       "    <tr>\n",
       "      <th>3</th>\n",
       "      <td>Aiken County</td>\n",
       "      <td>South Carolina</td>\n",
       "      <td>33.853912</td>\n",
       "      <td>33.271435</td>\n",
       "      <td>-81.276617</td>\n",
       "      <td>-82.007226</td>\n",
       "      <td>33.517511</td>\n",
       "      <td>-81.801685</td>\n",
       "      <td>1099.05</td>\n",
       "      <td>45852</td>\n",
       "      <td>...</td>\n",
       "      <td>6.609113e+07</td>\n",
       "      <td>2.521735e+08</td>\n",
       "      <td>1.524194e+08</td>\n",
       "      <td>1.672472e+08</td>\n",
       "      <td>2.772775e+08</td>\n",
       "      <td>12029.735608</td>\n",
       "      <td>9.152087e+08</td>\n",
       "      <td>[[0,8380],[5,15615],[10,11092],[15,5170],[20,2...</td>\n",
       "      <td>5.372701e+05</td>\n",
       "      <td>84</td>\n",
       "    </tr>\n",
       "    <tr>\n",
       "      <th>4</th>\n",
       "      <td>Alachua County</td>\n",
       "      <td>Florida</td>\n",
       "      <td>29.920934</td>\n",
       "      <td>29.417511</td>\n",
       "      <td>-82.050280</td>\n",
       "      <td>-82.655919</td>\n",
       "      <td>29.667960</td>\n",
       "      <td>-82.388744</td>\n",
       "      <td>1110.10</td>\n",
       "      <td>42187</td>\n",
       "      <td>...</td>\n",
       "      <td>9.294607e+07</td>\n",
       "      <td>2.768720e+08</td>\n",
       "      <td>1.658361e+08</td>\n",
       "      <td>1.942860e+08</td>\n",
       "      <td>5.696316e+08</td>\n",
       "      <td>14539.132959</td>\n",
       "      <td>1.299572e+09</td>\n",
       "      <td>[[0,6904],[5,10651],[10,8698],[15,5524],[20,28...</td>\n",
       "      <td>6.946478e+05</td>\n",
       "      <td>913</td>\n",
       "    </tr>\n",
       "  </tbody>\n",
       "</table>\n",
       "<p>5 rows × 31 columns</p>\n",
       "</div>"
      ],
      "text/plain": [
       "      region_name      state_name    lat_max    lat_min     lng_max  \\\n",
       "0   Acadia Parish       Louisiana  30.480512  30.150698  -92.144065   \n",
       "1      Ada County           Idaho  43.776411  43.297448 -115.998789   \n",
       "2    Adams County        Colorado  40.000318  39.738577 -104.310944   \n",
       "3    Aiken County  South Carolina  33.853912  33.271435  -81.276617   \n",
       "4  Alachua County         Florida  29.920934  29.417511  -82.050280   \n",
       "\n",
       "      lng_min    lat_avg     lng_avg  yearly_sunlight_kwh_kw_threshold_avg  \\\n",
       "0  -92.598066  30.256188  -92.331117                               1073.55   \n",
       "1 -116.512796  43.614095 -116.308027                               1161.95   \n",
       "2 -105.052979  39.879721 -104.923252                               1250.35   \n",
       "3  -82.007226  33.517511  -81.801685                               1099.05   \n",
       "4  -82.655919  29.667960  -82.388744                               1110.10   \n",
       "\n",
       "   count_qualified  ...  yearly_sunlight_kwh_n  yearly_sunlight_kwh_s  \\\n",
       "0               28  ...           3.663058e+04           1.084676e+05   \n",
       "1           127097  ...           4.510353e+07           7.928349e+08   \n",
       "2           103951  ...           1.402637e+07           5.047118e+08   \n",
       "3            45852  ...           6.609113e+07           2.521735e+08   \n",
       "4            42187  ...           9.294607e+07           2.768720e+08   \n",
       "\n",
       "   yearly_sunlight_kwh_e  yearly_sunlight_kwh_w  yearly_sunlight_kwh_f  \\\n",
       "0           7.170529e+04           9.811702e+04           3.557943e+06   \n",
       "1           3.305852e+08           5.466880e+08           9.644616e+08   \n",
       "2           2.529707e+08           2.968862e+08           1.160027e+09   \n",
       "3           1.524194e+08           1.672472e+08           2.772775e+08   \n",
       "4           1.658361e+08           1.942860e+08           5.696316e+08   \n",
       "\n",
       "   yearly_sunlight_kwh_median  yearly_sunlight_kwh_total  \\\n",
       "0                18455.689746               3.872863e+06   \n",
       "1                12656.146387               2.679673e+09   \n",
       "2                 8740.831396               2.228622e+09   \n",
       "3                12029.735608               9.152087e+08   \n",
       "4                14539.132959               1.299572e+09   \n",
       "\n",
       "                        install_size_kw_buckets_json  \\\n",
       "0  [[0,5],[5,2],[10,5],[15,3],[20,2],[25,1],[40,1...   \n",
       "1  [[0,21743],[5,46490],[10,31665],[15,13302],[20...   \n",
       "2  [[0,37831],[5,40975],[10,12770],[15,4216],[20,...   \n",
       "3  [[0,8380],[5,15615],[10,11092],[15,5170],[20,2...   \n",
       "4  [[0,6904],[5,10651],[10,8698],[15,5524],[20,28...   \n",
       "\n",
       "   carbon_offset_metric_tons  existing_installs_count  \n",
       "0               2.619893e+03                        0  \n",
       "1               7.125475e+05                      333  \n",
       "2               1.356972e+06                     2218  \n",
       "3               5.372701e+05                       84  \n",
       "4               6.946478e+05                      913  \n",
       "\n",
       "[5 rows x 31 columns]"
      ]
     },
     "metadata": {},
     "output_type": "display_data"
    },
    {
     "data": {
      "text/html": [
       "<div>\n",
       "<style scoped>\n",
       "    .dataframe tbody tr th:only-of-type {\n",
       "        vertical-align: middle;\n",
       "    }\n",
       "\n",
       "    .dataframe tbody tr th {\n",
       "        vertical-align: top;\n",
       "    }\n",
       "\n",
       "    .dataframe thead th {\n",
       "        text-align: right;\n",
       "    }\n",
       "</style>\n",
       "<table border=\"1\" class=\"dataframe\">\n",
       "  <thead>\n",
       "    <tr style=\"text-align: right;\">\n",
       "      <th></th>\n",
       "      <th>region_name</th>\n",
       "      <th>state_name</th>\n",
       "      <th>lat_max</th>\n",
       "      <th>lat_min</th>\n",
       "      <th>lng_max</th>\n",
       "      <th>lng_min</th>\n",
       "      <th>lat_avg</th>\n",
       "      <th>lng_avg</th>\n",
       "      <th>yearly_sunlight_kwh_kw_threshold_avg</th>\n",
       "      <th>count_qualified</th>\n",
       "      <th>...</th>\n",
       "      <th>yearly_sunlight_kwh_n</th>\n",
       "      <th>yearly_sunlight_kwh_s</th>\n",
       "      <th>yearly_sunlight_kwh_e</th>\n",
       "      <th>yearly_sunlight_kwh_w</th>\n",
       "      <th>yearly_sunlight_kwh_f</th>\n",
       "      <th>yearly_sunlight_kwh_median</th>\n",
       "      <th>yearly_sunlight_kwh_total</th>\n",
       "      <th>install_size_kw_buckets_json</th>\n",
       "      <th>carbon_offset_metric_tons</th>\n",
       "      <th>existing_installs_count</th>\n",
       "    </tr>\n",
       "  </thead>\n",
       "  <tbody>\n",
       "    <tr>\n",
       "      <th>0</th>\n",
       "      <td>Acadia Parish</td>\n",
       "      <td>Louisiana</td>\n",
       "      <td>30.480765</td>\n",
       "      <td>30.054137</td>\n",
       "      <td>-92.141898</td>\n",
       "      <td>-92.629793</td>\n",
       "      <td>30.280735</td>\n",
       "      <td>-92.355786</td>\n",
       "      <td>1087.15</td>\n",
       "      <td>362.0</td>\n",
       "      <td>...</td>\n",
       "      <td>9.995661e+05</td>\n",
       "      <td>2.387640e+06</td>\n",
       "      <td>1.415127e+06</td>\n",
       "      <td>1.684958e+06</td>\n",
       "      <td>5.161133e+06</td>\n",
       "      <td>18059.321216</td>\n",
       "      <td>1.164842e+07</td>\n",
       "      <td>[[0,62],[5,66],[10,60],[15,59],[20,39],[25,19]...</td>\n",
       "      <td>7.793978e+03</td>\n",
       "      <td>0.0</td>\n",
       "    </tr>\n",
       "    <tr>\n",
       "      <th>1</th>\n",
       "      <td>Ada County</td>\n",
       "      <td>Idaho</td>\n",
       "      <td>43.805558</td>\n",
       "      <td>43.146687</td>\n",
       "      <td>-115.998789</td>\n",
       "      <td>-116.513522</td>\n",
       "      <td>43.613109</td>\n",
       "      <td>-116.311758</td>\n",
       "      <td>1156.85</td>\n",
       "      <td>133937.0</td>\n",
       "      <td>...</td>\n",
       "      <td>5.387239e+07</td>\n",
       "      <td>1.055632e+09</td>\n",
       "      <td>4.744878e+08</td>\n",
       "      <td>7.089169e+08</td>\n",
       "      <td>1.091175e+09</td>\n",
       "      <td>16631.278882</td>\n",
       "      <td>3.384084e+09</td>\n",
       "      <td>[[0,12980],[5,32607],[10,38390],[15,24736],[20...</td>\n",
       "      <td>8.998563e+05</td>\n",
       "      <td>333.0</td>\n",
       "    </tr>\n",
       "    <tr>\n",
       "      <th>2</th>\n",
       "      <td>Adams County</td>\n",
       "      <td>Colorado</td>\n",
       "      <td>40.000733</td>\n",
       "      <td>39.738577</td>\n",
       "      <td>-103.723147</td>\n",
       "      <td>-105.052979</td>\n",
       "      <td>39.879421</td>\n",
       "      <td>-104.918297</td>\n",
       "      <td>1246.10</td>\n",
       "      <td>117399.0</td>\n",
       "      <td>...</td>\n",
       "      <td>1.826940e+07</td>\n",
       "      <td>7.158679e+08</td>\n",
       "      <td>3.635472e+08</td>\n",
       "      <td>4.020793e+08</td>\n",
       "      <td>1.415316e+09</td>\n",
       "      <td>11511.443750</td>\n",
       "      <td>2.915079e+09</td>\n",
       "      <td>[[0,24956],[5,49919],[10,23209],[15,8129],[20,...</td>\n",
       "      <td>1.774944e+06</td>\n",
       "      <td>2223.0</td>\n",
       "    </tr>\n",
       "    <tr>\n",
       "      <th>3</th>\n",
       "      <td>Adams County</td>\n",
       "      <td>Pennsylvania</td>\n",
       "      <td>40.068780</td>\n",
       "      <td>39.720016</td>\n",
       "      <td>-76.957161</td>\n",
       "      <td>-77.464169</td>\n",
       "      <td>39.846869</td>\n",
       "      <td>-77.150446</td>\n",
       "      <td>997.05</td>\n",
       "      <td>4500.0</td>\n",
       "      <td>...</td>\n",
       "      <td>4.286321e+06</td>\n",
       "      <td>2.210173e+07</td>\n",
       "      <td>2.234452e+07</td>\n",
       "      <td>1.889155e+07</td>\n",
       "      <td>3.672815e+07</td>\n",
       "      <td>11940.525037</td>\n",
       "      <td>1.043523e+08</td>\n",
       "      <td>[[0,795],[5,1343],[10,877],[15,594],[20,305],[...</td>\n",
       "      <td>6.631176e+04</td>\n",
       "      <td>0.0</td>\n",
       "    </tr>\n",
       "    <tr>\n",
       "      <th>4</th>\n",
       "      <td>Aiken County</td>\n",
       "      <td>South Carolina</td>\n",
       "      <td>33.871800</td>\n",
       "      <td>33.201889</td>\n",
       "      <td>-81.193502</td>\n",
       "      <td>-82.007226</td>\n",
       "      <td>33.526340</td>\n",
       "      <td>-81.764469</td>\n",
       "      <td>1093.95</td>\n",
       "      <td>49051.0</td>\n",
       "      <td>...</td>\n",
       "      <td>8.508118e+07</td>\n",
       "      <td>3.292865e+08</td>\n",
       "      <td>1.973077e+08</td>\n",
       "      <td>2.153019e+08</td>\n",
       "      <td>3.459476e+08</td>\n",
       "      <td>15252.523682</td>\n",
       "      <td>1.172925e+09</td>\n",
       "      <td>[[0,5920],[5,12846],[10,12402],[15,8113],[20,4...</td>\n",
       "      <td>6.885615e+05</td>\n",
       "      <td>83.0</td>\n",
       "    </tr>\n",
       "  </tbody>\n",
       "</table>\n",
       "<p>5 rows × 31 columns</p>\n",
       "</div>"
      ],
      "text/plain": [
       "     region_name      state_name    lat_max    lat_min     lng_max  \\\n",
       "0  Acadia Parish       Louisiana  30.480765  30.054137  -92.141898   \n",
       "1     Ada County           Idaho  43.805558  43.146687 -115.998789   \n",
       "2   Adams County        Colorado  40.000733  39.738577 -103.723147   \n",
       "3   Adams County    Pennsylvania  40.068780  39.720016  -76.957161   \n",
       "4   Aiken County  South Carolina  33.871800  33.201889  -81.193502   \n",
       "\n",
       "      lng_min    lat_avg     lng_avg  yearly_sunlight_kwh_kw_threshold_avg  \\\n",
       "0  -92.629793  30.280735  -92.355786                               1087.15   \n",
       "1 -116.513522  43.613109 -116.311758                               1156.85   \n",
       "2 -105.052979  39.879421 -104.918297                               1246.10   \n",
       "3  -77.464169  39.846869  -77.150446                                997.05   \n",
       "4  -82.007226  33.526340  -81.764469                               1093.95   \n",
       "\n",
       "   count_qualified  ...  yearly_sunlight_kwh_n  yearly_sunlight_kwh_s  \\\n",
       "0            362.0  ...           9.995661e+05           2.387640e+06   \n",
       "1         133937.0  ...           5.387239e+07           1.055632e+09   \n",
       "2         117399.0  ...           1.826940e+07           7.158679e+08   \n",
       "3           4500.0  ...           4.286321e+06           2.210173e+07   \n",
       "4          49051.0  ...           8.508118e+07           3.292865e+08   \n",
       "\n",
       "   yearly_sunlight_kwh_e  yearly_sunlight_kwh_w  yearly_sunlight_kwh_f  \\\n",
       "0           1.415127e+06           1.684958e+06           5.161133e+06   \n",
       "1           4.744878e+08           7.089169e+08           1.091175e+09   \n",
       "2           3.635472e+08           4.020793e+08           1.415316e+09   \n",
       "3           2.234452e+07           1.889155e+07           3.672815e+07   \n",
       "4           1.973077e+08           2.153019e+08           3.459476e+08   \n",
       "\n",
       "   yearly_sunlight_kwh_median  yearly_sunlight_kwh_total  \\\n",
       "0                18059.321216               1.164842e+07   \n",
       "1                16631.278882               3.384084e+09   \n",
       "2                11511.443750               2.915079e+09   \n",
       "3                11940.525037               1.043523e+08   \n",
       "4                15252.523682               1.172925e+09   \n",
       "\n",
       "                        install_size_kw_buckets_json  \\\n",
       "0  [[0,62],[5,66],[10,60],[15,59],[20,39],[25,19]...   \n",
       "1  [[0,12980],[5,32607],[10,38390],[15,24736],[20...   \n",
       "2  [[0,24956],[5,49919],[10,23209],[15,8129],[20,...   \n",
       "3  [[0,795],[5,1343],[10,877],[15,594],[20,305],[...   \n",
       "4  [[0,5920],[5,12846],[10,12402],[15,8113],[20,4...   \n",
       "\n",
       "   carbon_offset_metric_tons  existing_installs_count  \n",
       "0               7.793978e+03                      0.0  \n",
       "1               8.998563e+05                    333.0  \n",
       "2               1.774944e+06                   2223.0  \n",
       "3               6.631176e+04                      0.0  \n",
       "4               6.885615e+05                     83.0  \n",
       "\n",
       "[5 rows x 31 columns]"
      ]
     },
     "metadata": {},
     "output_type": "display_data"
    },
    {
     "data": {
      "text/plain": [
       "'2017 entries: 909'"
      ]
     },
     "metadata": {},
     "output_type": "display_data"
    },
    {
     "data": {
      "text/plain": [
       "'2021 entries: 1032'"
      ]
     },
     "metadata": {},
     "output_type": "display_data"
    }
   ],
   "source": [
    "display(df_ps17.head())\n",
    "display(df_ps21.head())\n",
    "display('2017 entries: {}'.format(df_ps17.shape[0]))\n",
    "display('2021 entries: {}'.format(df_ps21.shape[0]))"
   ]
  },
  {
   "cell_type": "markdown",
   "metadata": {},
   "source": [
    "The 2021 data cover more counties. According to [Wikipedia](https://en.wikipedia.org/wiki/County_(United_States)):\n",
    "> As of 2020, there are currently 3,143 counties and county-equivalents in the 50 states and the District of Columbia\n",
    "\n",
    "so our datasets cover about a third of counties. Since these were the only datasets I could find with installation data, we will have to accept this level of coverage. "
   ]
  },
  {
   "cell_type": "code",
   "execution_count": 221,
   "metadata": {},
   "outputs": [
    {
     "name": "stdout",
     "output_type": "stream",
     "text": [
      "<class 'pandas.core.frame.DataFrame'>\n",
      "RangeIndex: 909 entries, 0 to 908\n",
      "Data columns (total 6 columns):\n",
      " #   Column                   Non-Null Count  Dtype  \n",
      "---  ------                   --------------  -----  \n",
      " 0   region_name              909 non-null    object \n",
      " 1   state_name               909 non-null    object \n",
      " 2   count_qualified          909 non-null    int64  \n",
      " 3   percent_covered          909 non-null    float64\n",
      " 4   percent_qualified        909 non-null    float64\n",
      " 5   existing_installs_count  909 non-null    int64  \n",
      "dtypes: float64(2), int64(2), object(2)\n",
      "memory usage: 42.7+ KB\n"
     ]
    },
    {
     "data": {
      "text/plain": [
       "None"
      ]
     },
     "metadata": {},
     "output_type": "display_data"
    },
    {
     "name": "stdout",
     "output_type": "stream",
     "text": [
      "<class 'pandas.core.frame.DataFrame'>\n",
      "RangeIndex: 1032 entries, 0 to 1031\n",
      "Data columns (total 6 columns):\n",
      " #   Column                   Non-Null Count  Dtype  \n",
      "---  ------                   --------------  -----  \n",
      " 0   region_name              1032 non-null   object \n",
      " 1   state_name               1032 non-null   object \n",
      " 2   count_qualified          1032 non-null   float64\n",
      " 3   percent_covered          1032 non-null   float64\n",
      " 4   percent_qualified        1032 non-null   float64\n",
      " 5   existing_installs_count  1032 non-null   float64\n",
      "dtypes: float64(4), object(2)\n",
      "memory usage: 48.5+ KB\n"
     ]
    },
    {
     "data": {
      "text/plain": [
       "None"
      ]
     },
     "metadata": {},
     "output_type": "display_data"
    }
   ],
   "source": [
    "# look at the completeness of the fields we need\n",
    "# 'region_name' = county\n",
    "# 'state_name' = state\n",
    "# 'count_qualified' = # of roofs estimated to be solar-eligible by Project Sunroof criteria\n",
    "# 'percent_covered' = % of roos in Google Maps covered by Project Sunroof\n",
    "# 'percent_qualified' = % of roofs covered by Project Sunroof that are solar-eligible\n",
    "# 'existing_installs_count' = # of existing solar installations estimated by Project Sunroof\n",
    "ps_keepcols = ['region_name','state_name','count_qualified','percent_covered','percent_qualified',\\\n",
    "              'existing_installs_count']\n",
    "display(df_ps17[ps_keepcols].info())\n",
    "display(df_ps21[ps_keepcols].info())"
   ]
  },
  {
   "cell_type": "markdown",
   "metadata": {},
   "source": [
    "Neither dataset is missing data for any of the required fields. \n",
    "\n",
    "Based on the [metadata](https://storage.googleapis.com/project-sunroof/csv/latest/metadata.csv), the data type of each field is appropriate, although 'count_qualified' and 'existing_installs_count' are integers in the 2017 file and floats in the 2021 file.\n",
    "\n",
    "Each column here represents a unique attribute (Project Sunroof coverage or existing installations) and each row represents a county, so the data appear to be tidy."
   ]
  },
  {
   "cell_type": "code",
   "execution_count": 222,
   "metadata": {},
   "outputs": [
    {
     "data": {
      "text/html": [
       "<div>\n",
       "<style scoped>\n",
       "    .dataframe tbody tr th:only-of-type {\n",
       "        vertical-align: middle;\n",
       "    }\n",
       "\n",
       "    .dataframe tbody tr th {\n",
       "        vertical-align: top;\n",
       "    }\n",
       "\n",
       "    .dataframe thead th {\n",
       "        text-align: right;\n",
       "    }\n",
       "</style>\n",
       "<table border=\"1\" class=\"dataframe\">\n",
       "  <thead>\n",
       "    <tr style=\"text-align: right;\">\n",
       "      <th></th>\n",
       "      <th>CountyId</th>\n",
       "      <th>State</th>\n",
       "      <th>County</th>\n",
       "      <th>TotalPop</th>\n",
       "      <th>Men</th>\n",
       "      <th>Women</th>\n",
       "      <th>Hispanic</th>\n",
       "      <th>White</th>\n",
       "      <th>Black</th>\n",
       "      <th>Native</th>\n",
       "      <th>...</th>\n",
       "      <th>Walk</th>\n",
       "      <th>OtherTransp</th>\n",
       "      <th>WorkAtHome</th>\n",
       "      <th>MeanCommute</th>\n",
       "      <th>Employed</th>\n",
       "      <th>PrivateWork</th>\n",
       "      <th>PublicWork</th>\n",
       "      <th>SelfEmployed</th>\n",
       "      <th>FamilyWork</th>\n",
       "      <th>Unemployment</th>\n",
       "    </tr>\n",
       "  </thead>\n",
       "  <tbody>\n",
       "    <tr>\n",
       "      <th>0</th>\n",
       "      <td>1001</td>\n",
       "      <td>Alabama</td>\n",
       "      <td>Autauga County</td>\n",
       "      <td>55036</td>\n",
       "      <td>26899</td>\n",
       "      <td>28137</td>\n",
       "      <td>2.7</td>\n",
       "      <td>75.4</td>\n",
       "      <td>18.9</td>\n",
       "      <td>0.3</td>\n",
       "      <td>...</td>\n",
       "      <td>0.6</td>\n",
       "      <td>1.3</td>\n",
       "      <td>2.5</td>\n",
       "      <td>25.8</td>\n",
       "      <td>24112</td>\n",
       "      <td>74.1</td>\n",
       "      <td>20.2</td>\n",
       "      <td>5.6</td>\n",
       "      <td>0.1</td>\n",
       "      <td>5.2</td>\n",
       "    </tr>\n",
       "    <tr>\n",
       "      <th>1</th>\n",
       "      <td>1003</td>\n",
       "      <td>Alabama</td>\n",
       "      <td>Baldwin County</td>\n",
       "      <td>203360</td>\n",
       "      <td>99527</td>\n",
       "      <td>103833</td>\n",
       "      <td>4.4</td>\n",
       "      <td>83.1</td>\n",
       "      <td>9.5</td>\n",
       "      <td>0.8</td>\n",
       "      <td>...</td>\n",
       "      <td>0.8</td>\n",
       "      <td>1.1</td>\n",
       "      <td>5.6</td>\n",
       "      <td>27.0</td>\n",
       "      <td>89527</td>\n",
       "      <td>80.7</td>\n",
       "      <td>12.9</td>\n",
       "      <td>6.3</td>\n",
       "      <td>0.1</td>\n",
       "      <td>5.5</td>\n",
       "    </tr>\n",
       "    <tr>\n",
       "      <th>2</th>\n",
       "      <td>1005</td>\n",
       "      <td>Alabama</td>\n",
       "      <td>Barbour County</td>\n",
       "      <td>26201</td>\n",
       "      <td>13976</td>\n",
       "      <td>12225</td>\n",
       "      <td>4.2</td>\n",
       "      <td>45.7</td>\n",
       "      <td>47.8</td>\n",
       "      <td>0.2</td>\n",
       "      <td>...</td>\n",
       "      <td>2.2</td>\n",
       "      <td>1.7</td>\n",
       "      <td>1.3</td>\n",
       "      <td>23.4</td>\n",
       "      <td>8878</td>\n",
       "      <td>74.1</td>\n",
       "      <td>19.1</td>\n",
       "      <td>6.5</td>\n",
       "      <td>0.3</td>\n",
       "      <td>12.4</td>\n",
       "    </tr>\n",
       "    <tr>\n",
       "      <th>3</th>\n",
       "      <td>1007</td>\n",
       "      <td>Alabama</td>\n",
       "      <td>Bibb County</td>\n",
       "      <td>22580</td>\n",
       "      <td>12251</td>\n",
       "      <td>10329</td>\n",
       "      <td>2.4</td>\n",
       "      <td>74.6</td>\n",
       "      <td>22.0</td>\n",
       "      <td>0.4</td>\n",
       "      <td>...</td>\n",
       "      <td>0.3</td>\n",
       "      <td>1.7</td>\n",
       "      <td>1.5</td>\n",
       "      <td>30.0</td>\n",
       "      <td>8171</td>\n",
       "      <td>76.0</td>\n",
       "      <td>17.4</td>\n",
       "      <td>6.3</td>\n",
       "      <td>0.3</td>\n",
       "      <td>8.2</td>\n",
       "    </tr>\n",
       "    <tr>\n",
       "      <th>4</th>\n",
       "      <td>1009</td>\n",
       "      <td>Alabama</td>\n",
       "      <td>Blount County</td>\n",
       "      <td>57667</td>\n",
       "      <td>28490</td>\n",
       "      <td>29177</td>\n",
       "      <td>9.0</td>\n",
       "      <td>87.4</td>\n",
       "      <td>1.5</td>\n",
       "      <td>0.3</td>\n",
       "      <td>...</td>\n",
       "      <td>0.4</td>\n",
       "      <td>0.4</td>\n",
       "      <td>2.1</td>\n",
       "      <td>35.0</td>\n",
       "      <td>21380</td>\n",
       "      <td>83.9</td>\n",
       "      <td>11.9</td>\n",
       "      <td>4.0</td>\n",
       "      <td>0.1</td>\n",
       "      <td>4.9</td>\n",
       "    </tr>\n",
       "  </tbody>\n",
       "</table>\n",
       "<p>5 rows × 37 columns</p>\n",
       "</div>"
      ],
      "text/plain": [
       "   CountyId    State          County  TotalPop    Men   Women  Hispanic  \\\n",
       "0      1001  Alabama  Autauga County     55036  26899   28137       2.7   \n",
       "1      1003  Alabama  Baldwin County    203360  99527  103833       4.4   \n",
       "2      1005  Alabama  Barbour County     26201  13976   12225       4.2   \n",
       "3      1007  Alabama     Bibb County     22580  12251   10329       2.4   \n",
       "4      1009  Alabama   Blount County     57667  28490   29177       9.0   \n",
       "\n",
       "   White  Black  Native  ...  Walk  OtherTransp  WorkAtHome  MeanCommute  \\\n",
       "0   75.4   18.9     0.3  ...   0.6          1.3         2.5         25.8   \n",
       "1   83.1    9.5     0.8  ...   0.8          1.1         5.6         27.0   \n",
       "2   45.7   47.8     0.2  ...   2.2          1.7         1.3         23.4   \n",
       "3   74.6   22.0     0.4  ...   0.3          1.7         1.5         30.0   \n",
       "4   87.4    1.5     0.3  ...   0.4          0.4         2.1         35.0   \n",
       "\n",
       "   Employed  PrivateWork  PublicWork  SelfEmployed  FamilyWork  Unemployment  \n",
       "0     24112         74.1        20.2           5.6         0.1           5.2  \n",
       "1     89527         80.7        12.9           6.3         0.1           5.5  \n",
       "2      8878         74.1        19.1           6.5         0.3          12.4  \n",
       "3      8171         76.0        17.4           6.3         0.3           8.2  \n",
       "4     21380         83.9        11.9           4.0         0.1           4.9  \n",
       "\n",
       "[5 rows x 37 columns]"
      ]
     },
     "metadata": {},
     "output_type": "display_data"
    },
    {
     "data": {
      "text/plain": [
       "'number counties census pop/income: 3220'"
      ]
     },
     "metadata": {},
     "output_type": "display_data"
    },
    {
     "data": {
      "text/plain": [
       "'number of unique entries: 3220'"
      ]
     },
     "metadata": {},
     "output_type": "display_data"
    }
   ],
   "source": [
    "# look at the basic census data (population, income)\n",
    "df_cens1 = pd.read_csv('acs2017_county_data.csv')\n",
    "display(df_cens1.head())\n",
    "display('number counties census pop/income: {}'.format(df_cens1.shape[0]))\n",
    "display('number of unique entries: {}'.format(df_cens1['CountyId'].nunique()))"
   ]
  },
  {
   "cell_type": "markdown",
   "metadata": {},
   "source": [
    "This dataset appears to contain more counties than the Wikipedia entry says there should be. This does not apppear to be due to duplicate entries. Let's see what states are covered."
   ]
  },
  {
   "cell_type": "code",
   "execution_count": 223,
   "metadata": {},
   "outputs": [
    {
     "data": {
      "text/plain": [
       "Texas                   254\n",
       "Georgia                 159\n",
       "Virginia                133\n",
       "Kentucky                120\n",
       "Missouri                115\n",
       "Kansas                  105\n",
       "Illinois                102\n",
       "North Carolina          100\n",
       "Iowa                     99\n",
       "Tennessee                95\n",
       "Nebraska                 93\n",
       "Indiana                  92\n",
       "Ohio                     88\n",
       "Minnesota                87\n",
       "Michigan                 83\n",
       "Mississippi              82\n",
       "Puerto Rico              78\n",
       "Oklahoma                 77\n",
       "Arkansas                 75\n",
       "Wisconsin                72\n",
       "Florida                  67\n",
       "Pennsylvania             67\n",
       "Alabama                  67\n",
       "South Dakota             66\n",
       "Louisiana                64\n",
       "Colorado                 64\n",
       "New York                 62\n",
       "California               58\n",
       "Montana                  56\n",
       "West Virginia            55\n",
       "North Dakota             53\n",
       "South Carolina           46\n",
       "Idaho                    44\n",
       "Washington               39\n",
       "Oregon                   36\n",
       "New Mexico               33\n",
       "Alaska                   29\n",
       "Utah                     29\n",
       "Maryland                 24\n",
       "Wyoming                  23\n",
       "New Jersey               21\n",
       "Nevada                   17\n",
       "Maine                    16\n",
       "Arizona                  15\n",
       "Massachusetts            14\n",
       "Vermont                  14\n",
       "New Hampshire            10\n",
       "Connecticut               8\n",
       "Hawaii                    5\n",
       "Rhode Island              5\n",
       "Delaware                  3\n",
       "District of Columbia      1\n",
       "Name: State, dtype: int64"
      ]
     },
     "execution_count": 223,
     "metadata": {},
     "output_type": "execute_result"
    }
   ],
   "source": [
    "df_cens1['State'].value_counts()"
   ]
  },
  {
   "cell_type": "markdown",
   "metadata": {},
   "source": [
    "This dataset includes 78 counties from Puerto Rico, whereas Wikipedia's count doesn't include territories. This explains the difference, albeit with a discrepancy of 1 less county in this dataset. \n",
    "\n",
    "These data are from the 2017 census. It might be possible that 1 additional county (possibly rural/underpopulated) was captured in the 2020 data cited by Wikipedia. Regardless, this dataset should cover all the counties in Project Sunroof."
   ]
  },
  {
   "cell_type": "code",
   "execution_count": 224,
   "metadata": {},
   "outputs": [
    {
     "name": "stdout",
     "output_type": "stream",
     "text": [
      "<class 'pandas.core.frame.DataFrame'>\n",
      "RangeIndex: 3220 entries, 0 to 3219\n",
      "Data columns (total 5 columns):\n",
      " #   Column        Non-Null Count  Dtype \n",
      "---  ------        --------------  ----- \n",
      " 0   CountyId      3220 non-null   int64 \n",
      " 1   State         3220 non-null   object\n",
      " 2   County        3220 non-null   object\n",
      " 3   TotalPop      3220 non-null   int64 \n",
      " 4   IncomePerCap  3220 non-null   int64 \n",
      "dtypes: int64(3), object(2)\n",
      "memory usage: 125.9+ KB\n"
     ]
    }
   ],
   "source": [
    "# check the completeness of the fields we need\n",
    "# 'CountyId' = a unique numeric field identifying state & county. Since there are duplicated county names across\n",
    "# multiple states, this field will be used for merging tables\n",
    "# 'State' = state name\n",
    "# 'County' = county name\n",
    "# 'TotalPop' = county population\n",
    "# 'IncomePerCap' = per-capita income ($)\n",
    "df_cens1[['CountyId','State','County','TotalPop','IncomePerCap']].info()"
   ]
  },
  {
   "cell_type": "markdown",
   "metadata": {},
   "source": [
    "All the required fields are complete and have an approriate data type.\n",
    "\n",
    "Each column represents a unique demographic variable, and each row represents a county, so the data are tidy."
   ]
  },
  {
   "cell_type": "code",
   "execution_count": 225,
   "metadata": {},
   "outputs": [
    {
     "data": {
      "text/html": [
       "<div>\n",
       "<style scoped>\n",
       "    .dataframe tbody tr th:only-of-type {\n",
       "        vertical-align: middle;\n",
       "    }\n",
       "\n",
       "    .dataframe tbody tr th {\n",
       "        vertical-align: top;\n",
       "    }\n",
       "\n",
       "    .dataframe thead th {\n",
       "        text-align: right;\n",
       "    }\n",
       "</style>\n",
       "<table border=\"1\" class=\"dataframe\">\n",
       "  <thead>\n",
       "    <tr style=\"text-align: right;\">\n",
       "      <th></th>\n",
       "      <th>Areaname</th>\n",
       "      <th>STCOU</th>\n",
       "      <th>LND010190F</th>\n",
       "      <th>LND010190D</th>\n",
       "      <th>LND010190N1</th>\n",
       "      <th>LND010190N2</th>\n",
       "      <th>LND010200F</th>\n",
       "      <th>LND010200D</th>\n",
       "      <th>LND010200N1</th>\n",
       "      <th>LND010200N2</th>\n",
       "      <th>...</th>\n",
       "      <th>LND110210N1</th>\n",
       "      <th>LND110210N2</th>\n",
       "      <th>LND210190F</th>\n",
       "      <th>LND210190D</th>\n",
       "      <th>LND210190N1</th>\n",
       "      <th>LND210190N2</th>\n",
       "      <th>LND210200F</th>\n",
       "      <th>LND210200D</th>\n",
       "      <th>LND210200N1</th>\n",
       "      <th>LND210200N2</th>\n",
       "    </tr>\n",
       "  </thead>\n",
       "  <tbody>\n",
       "    <tr>\n",
       "      <th>0</th>\n",
       "      <td>UNITED STATES</td>\n",
       "      <td>0</td>\n",
       "      <td>0</td>\n",
       "      <td>3787425.08</td>\n",
       "      <td>0</td>\n",
       "      <td>0</td>\n",
       "      <td>0</td>\n",
       "      <td>3794083.06</td>\n",
       "      <td>0</td>\n",
       "      <td>0</td>\n",
       "      <td>...</td>\n",
       "      <td>0</td>\n",
       "      <td>0</td>\n",
       "      <td>0</td>\n",
       "      <td>251083.35</td>\n",
       "      <td>0</td>\n",
       "      <td>0</td>\n",
       "      <td>0</td>\n",
       "      <td>256644.62</td>\n",
       "      <td>0</td>\n",
       "      <td>0</td>\n",
       "    </tr>\n",
       "    <tr>\n",
       "      <th>1</th>\n",
       "      <td>ALABAMA</td>\n",
       "      <td>1000</td>\n",
       "      <td>0</td>\n",
       "      <td>52422.94</td>\n",
       "      <td>0</td>\n",
       "      <td>0</td>\n",
       "      <td>0</td>\n",
       "      <td>52419.02</td>\n",
       "      <td>0</td>\n",
       "      <td>0</td>\n",
       "      <td>...</td>\n",
       "      <td>0</td>\n",
       "      <td>0</td>\n",
       "      <td>0</td>\n",
       "      <td>1672.71</td>\n",
       "      <td>0</td>\n",
       "      <td>0</td>\n",
       "      <td>0</td>\n",
       "      <td>1675.01</td>\n",
       "      <td>0</td>\n",
       "      <td>0</td>\n",
       "    </tr>\n",
       "    <tr>\n",
       "      <th>2</th>\n",
       "      <td>Autauga, AL</td>\n",
       "      <td>1001</td>\n",
       "      <td>0</td>\n",
       "      <td>604.49</td>\n",
       "      <td>0</td>\n",
       "      <td>0</td>\n",
       "      <td>0</td>\n",
       "      <td>604.45</td>\n",
       "      <td>0</td>\n",
       "      <td>0</td>\n",
       "      <td>...</td>\n",
       "      <td>0</td>\n",
       "      <td>0</td>\n",
       "      <td>0</td>\n",
       "      <td>8.48</td>\n",
       "      <td>0</td>\n",
       "      <td>0</td>\n",
       "      <td>0</td>\n",
       "      <td>8.48</td>\n",
       "      <td>0</td>\n",
       "      <td>0</td>\n",
       "    </tr>\n",
       "    <tr>\n",
       "      <th>3</th>\n",
       "      <td>Baldwin, AL</td>\n",
       "      <td>1003</td>\n",
       "      <td>0</td>\n",
       "      <td>2027.08</td>\n",
       "      <td>0</td>\n",
       "      <td>0</td>\n",
       "      <td>0</td>\n",
       "      <td>2026.93</td>\n",
       "      <td>0</td>\n",
       "      <td>0</td>\n",
       "      <td>...</td>\n",
       "      <td>0</td>\n",
       "      <td>0</td>\n",
       "      <td>0</td>\n",
       "      <td>430.55</td>\n",
       "      <td>0</td>\n",
       "      <td>0</td>\n",
       "      <td>0</td>\n",
       "      <td>430.58</td>\n",
       "      <td>0</td>\n",
       "      <td>0</td>\n",
       "    </tr>\n",
       "    <tr>\n",
       "      <th>4</th>\n",
       "      <td>Barbour, AL</td>\n",
       "      <td>1005</td>\n",
       "      <td>0</td>\n",
       "      <td>904.59</td>\n",
       "      <td>0</td>\n",
       "      <td>0</td>\n",
       "      <td>0</td>\n",
       "      <td>904.52</td>\n",
       "      <td>0</td>\n",
       "      <td>0</td>\n",
       "      <td>...</td>\n",
       "      <td>0</td>\n",
       "      <td>0</td>\n",
       "      <td>0</td>\n",
       "      <td>19.59</td>\n",
       "      <td>0</td>\n",
       "      <td>0</td>\n",
       "      <td>0</td>\n",
       "      <td>19.61</td>\n",
       "      <td>0</td>\n",
       "      <td>0</td>\n",
       "    </tr>\n",
       "  </tbody>\n",
       "</table>\n",
       "<p>5 rows × 34 columns</p>\n",
       "</div>"
      ],
      "text/plain": [
       "        Areaname  STCOU  LND010190F  LND010190D  LND010190N1  LND010190N2  \\\n",
       "0  UNITED STATES      0           0  3787425.08            0            0   \n",
       "1        ALABAMA   1000           0    52422.94            0            0   \n",
       "2    Autauga, AL   1001           0      604.49            0            0   \n",
       "3    Baldwin, AL   1003           0     2027.08            0            0   \n",
       "4    Barbour, AL   1005           0      904.59            0            0   \n",
       "\n",
       "   LND010200F  LND010200D  LND010200N1  LND010200N2  ...  LND110210N1  \\\n",
       "0           0  3794083.06            0            0  ...            0   \n",
       "1           0    52419.02            0            0  ...            0   \n",
       "2           0      604.45            0            0  ...            0   \n",
       "3           0     2026.93            0            0  ...            0   \n",
       "4           0      904.52            0            0  ...            0   \n",
       "\n",
       "   LND110210N2  LND210190F  LND210190D  LND210190N1  LND210190N2  LND210200F  \\\n",
       "0            0           0   251083.35            0            0           0   \n",
       "1            0           0     1672.71            0            0           0   \n",
       "2            0           0        8.48            0            0           0   \n",
       "3            0           0      430.55            0            0           0   \n",
       "4            0           0       19.59            0            0           0   \n",
       "\n",
       "   LND210200D  LND210200N1  LND210200N2  \n",
       "0   256644.62            0            0  \n",
       "1     1675.01            0            0  \n",
       "2        8.48            0            0  \n",
       "3      430.58            0            0  \n",
       "4       19.61            0            0  \n",
       "\n",
       "[5 rows x 34 columns]"
      ]
     },
     "metadata": {},
     "output_type": "display_data"
    },
    {
     "data": {
      "text/plain": [
       "'number entries census land area: 3198'"
      ]
     },
     "metadata": {},
     "output_type": "display_data"
    },
    {
     "data": {
      "text/plain": [
       "'number of unique entries: 3198'"
      ]
     },
     "metadata": {},
     "output_type": "display_data"
    }
   ],
   "source": [
    "# look at the land area data (for population density)\n",
    "df_lnd = pd.read_csv('LND01.csv')\n",
    "display(df_lnd.head())\n",
    "display('number entries census land area: {}'.format(df_lnd.shape[0]))\n",
    "display('number of unique entries: {}'.format(df_lnd['STCOU'].nunique()))"
   ]
  },
  {
   "cell_type": "markdown",
   "metadata": {},
   "source": [
    "This is again slightly higher than the Wikepedia count, and again not due to duplication. Looking at the header above, it apppears there is an entry for United States and a state entry for Alabama, so this (an extra entry for each state and another for the country) would explain the discrepancy, although again there is one extra county."
   ]
  },
  {
   "cell_type": "code",
   "execution_count": 226,
   "metadata": {},
   "outputs": [
    {
     "name": "stdout",
     "output_type": "stream",
     "text": [
      "<class 'pandas.core.frame.DataFrame'>\n",
      "RangeIndex: 3198 entries, 0 to 3197\n",
      "Data columns (total 2 columns):\n",
      " #   Column      Non-Null Count  Dtype  \n",
      "---  ------      --------------  -----  \n",
      " 0   STCOU       3198 non-null   int64  \n",
      " 1   LND110210D  3198 non-null   float64\n",
      "dtypes: float64(1), int64(1)\n",
      "memory usage: 50.1 KB\n"
     ]
    }
   ],
   "source": [
    "# check the completeness of the fields we need\n",
    "# 'STCOU' = state & county numeric ID, as in previous census file\n",
    "# 'LND110210D' = land area based on 2010 census (i.e., exluding water, which presumably is uninhabited)\n",
    "df_lnd[['STCOU','LND110210D']].info()"
   ]
  },
  {
   "cell_type": "markdown",
   "metadata": {},
   "source": [
    "Both fields are complete and in the appropriate format.\n",
    "\n",
    "Again, the columns represents unique variables, and each row represents a county, so the data are tidy."
   ]
  },
  {
   "cell_type": "code",
   "execution_count": 227,
   "metadata": {},
   "outputs": [
    {
     "data": {
      "text/html": [
       "<div>\n",
       "<style scoped>\n",
       "    .dataframe tbody tr th:only-of-type {\n",
       "        vertical-align: middle;\n",
       "    }\n",
       "\n",
       "    .dataframe tbody tr th {\n",
       "        vertical-align: top;\n",
       "    }\n",
       "\n",
       "    .dataframe thead th {\n",
       "        text-align: right;\n",
       "    }\n",
       "</style>\n",
       "<table border=\"1\" class=\"dataframe\">\n",
       "  <thead>\n",
       "    <tr style=\"text-align: right;\">\n",
       "      <th></th>\n",
       "      <th>GEO_ID</th>\n",
       "      <th>NAME</th>\n",
       "      <th>DP04_0001E</th>\n",
       "      <th>DP04_0001M</th>\n",
       "      <th>DP04_0001PE</th>\n",
       "      <th>DP04_0001PM</th>\n",
       "      <th>DP04_0002E</th>\n",
       "      <th>DP04_0002M</th>\n",
       "      <th>DP04_0002PE</th>\n",
       "      <th>DP04_0002PM</th>\n",
       "      <th>...</th>\n",
       "      <th>DP04_0141PE</th>\n",
       "      <th>DP04_0141PM</th>\n",
       "      <th>DP04_0142E</th>\n",
       "      <th>DP04_0142M</th>\n",
       "      <th>DP04_0142PE</th>\n",
       "      <th>DP04_0142PM</th>\n",
       "      <th>DP04_0143E</th>\n",
       "      <th>DP04_0143M</th>\n",
       "      <th>DP04_0143PE</th>\n",
       "      <th>DP04_0143PM</th>\n",
       "    </tr>\n",
       "  </thead>\n",
       "  <tbody>\n",
       "    <tr>\n",
       "      <th>0</th>\n",
       "      <td>0500000US01003</td>\n",
       "      <td>Baldwin County, Alabama</td>\n",
       "      <td>119425</td>\n",
       "      <td>483</td>\n",
       "      <td>119425</td>\n",
       "      <td>(X)</td>\n",
       "      <td>82325</td>\n",
       "      <td>3231</td>\n",
       "      <td>68.9</td>\n",
       "      <td>2.7</td>\n",
       "      <td>...</td>\n",
       "      <td>8.2</td>\n",
       "      <td>4.5</td>\n",
       "      <td>6003</td>\n",
       "      <td>1790</td>\n",
       "      <td>41.7</td>\n",
       "      <td>10</td>\n",
       "      <td>2648</td>\n",
       "      <td>1235</td>\n",
       "      <td>(X)</td>\n",
       "      <td>(X)</td>\n",
       "    </tr>\n",
       "    <tr>\n",
       "      <th>1</th>\n",
       "      <td>0500000US01015</td>\n",
       "      <td>Calhoun County, Alabama</td>\n",
       "      <td>53809</td>\n",
       "      <td>404</td>\n",
       "      <td>53809</td>\n",
       "      <td>(X)</td>\n",
       "      <td>44636</td>\n",
       "      <td>2010</td>\n",
       "      <td>83.0</td>\n",
       "      <td>3.7</td>\n",
       "      <td>...</td>\n",
       "      <td>8.4</td>\n",
       "      <td>5.2</td>\n",
       "      <td>4659</td>\n",
       "      <td>1199</td>\n",
       "      <td>38.6</td>\n",
       "      <td>8.6</td>\n",
       "      <td>1074</td>\n",
       "      <td>642</td>\n",
       "      <td>(X)</td>\n",
       "      <td>(X)</td>\n",
       "    </tr>\n",
       "    <tr>\n",
       "      <th>2</th>\n",
       "      <td>0500000US01043</td>\n",
       "      <td>Cullman County, Alabama</td>\n",
       "      <td>38256</td>\n",
       "      <td>332</td>\n",
       "      <td>38256</td>\n",
       "      <td>(X)</td>\n",
       "      <td>32090</td>\n",
       "      <td>1233</td>\n",
       "      <td>83.9</td>\n",
       "      <td>3.2</td>\n",
       "      <td>...</td>\n",
       "      <td>8</td>\n",
       "      <td>5.7</td>\n",
       "      <td>1839</td>\n",
       "      <td>569</td>\n",
       "      <td>25.5</td>\n",
       "      <td>7.6</td>\n",
       "      <td>575</td>\n",
       "      <td>279</td>\n",
       "      <td>(X)</td>\n",
       "      <td>(X)</td>\n",
       "    </tr>\n",
       "    <tr>\n",
       "      <th>3</th>\n",
       "      <td>0500000US01049</td>\n",
       "      <td>DeKalb County, Alabama</td>\n",
       "      <td>31606</td>\n",
       "      <td>256</td>\n",
       "      <td>31606</td>\n",
       "      <td>(X)</td>\n",
       "      <td>24880</td>\n",
       "      <td>1347</td>\n",
       "      <td>78.7</td>\n",
       "      <td>4.1</td>\n",
       "      <td>...</td>\n",
       "      <td>22.6</td>\n",
       "      <td>10.7</td>\n",
       "      <td>1292</td>\n",
       "      <td>711</td>\n",
       "      <td>22.7</td>\n",
       "      <td>10.4</td>\n",
       "      <td>1392</td>\n",
       "      <td>635</td>\n",
       "      <td>(X)</td>\n",
       "      <td>(X)</td>\n",
       "    </tr>\n",
       "    <tr>\n",
       "      <th>4</th>\n",
       "      <td>0500000US01051</td>\n",
       "      <td>Elmore County, Alabama</td>\n",
       "      <td>34481</td>\n",
       "      <td>471</td>\n",
       "      <td>34481</td>\n",
       "      <td>(X)</td>\n",
       "      <td>30712</td>\n",
       "      <td>1330</td>\n",
       "      <td>89.1</td>\n",
       "      <td>3.4</td>\n",
       "      <td>...</td>\n",
       "      <td>4.3</td>\n",
       "      <td>3.6</td>\n",
       "      <td>3726</td>\n",
       "      <td>1274</td>\n",
       "      <td>54.1</td>\n",
       "      <td>11.8</td>\n",
       "      <td>968</td>\n",
       "      <td>629</td>\n",
       "      <td>(X)</td>\n",
       "      <td>(X)</td>\n",
       "    </tr>\n",
       "  </tbody>\n",
       "</table>\n",
       "<p>5 rows × 574 columns</p>\n",
       "</div>"
      ],
      "text/plain": [
       "           GEO_ID                     NAME  DP04_0001E  DP04_0001M  \\\n",
       "0  0500000US01003  Baldwin County, Alabama      119425         483   \n",
       "1  0500000US01015  Calhoun County, Alabama       53809         404   \n",
       "2  0500000US01043  Cullman County, Alabama       38256         332   \n",
       "3  0500000US01049   DeKalb County, Alabama       31606         256   \n",
       "4  0500000US01051   Elmore County, Alabama       34481         471   \n",
       "\n",
       "   DP04_0001PE DP04_0001PM  DP04_0002E  DP04_0002M  DP04_0002PE  DP04_0002PM  \\\n",
       "0       119425         (X)       82325        3231         68.9          2.7   \n",
       "1        53809         (X)       44636        2010         83.0          3.7   \n",
       "2        38256         (X)       32090        1233         83.9          3.2   \n",
       "3        31606         (X)       24880        1347         78.7          4.1   \n",
       "4        34481         (X)       30712        1330         89.1          3.4   \n",
       "\n",
       "   ...  DP04_0141PE  DP04_0141PM  DP04_0142E  DP04_0142M DP04_0142PE  \\\n",
       "0  ...          8.2          4.5        6003        1790        41.7   \n",
       "1  ...          8.4          5.2        4659        1199        38.6   \n",
       "2  ...            8          5.7        1839         569        25.5   \n",
       "3  ...         22.6         10.7        1292         711        22.7   \n",
       "4  ...          4.3          3.6        3726        1274        54.1   \n",
       "\n",
       "  DP04_0142PM DP04_0143E DP04_0143M DP04_0143PE DP04_0143PM  \n",
       "0          10       2648       1235         (X)         (X)  \n",
       "1         8.6       1074        642         (X)         (X)  \n",
       "2         7.6        575        279         (X)         (X)  \n",
       "3        10.4       1392        635         (X)         (X)  \n",
       "4        11.8        968        629         (X)         (X)  \n",
       "\n",
       "[5 rows x 574 columns]"
      ]
     },
     "metadata": {},
     "output_type": "display_data"
    },
    {
     "data": {
      "text/plain": [
       "'number counties housing tenure: 840'"
      ]
     },
     "metadata": {},
     "output_type": "display_data"
    },
    {
     "data": {
      "text/plain": [
       "'number of unique entries: 840'"
      ]
     },
     "metadata": {},
     "output_type": "display_data"
    }
   ],
   "source": [
    "# look at homeowner status\n",
    "# NB: the census calls this 'housing tenure' (which made it hard to find)\n",
    "df_ho = pd.read_csv('hsg_tenure.csv')\n",
    "display(df_ho.head())\n",
    "display('number counties housing tenure: {}'.format(df_ho.shape[0]))\n",
    "display('number of unique entries: {}'.format(df_ho['GEO_ID'].nunique()))"
   ]
  },
  {
   "cell_type": "markdown",
   "metadata": {},
   "source": [
    "This file contains data for only 840 counties, less than for the Project Sunroof dataset. Again, no duplication.\n",
    "\n",
    "According to the [ACS Information Guide](https://www.census.gov/content/dam/Census/programs-surveys/acs/about/ACS_Information_Guide.pdf), the ACS is a subsample, with roughly 1 in 38 households contact, and an estimated sample size of \"over 3.5 million\". Thus, this isn't as comprehensive a dataset as the decennial census. This will result in the loss of some counties without housing tenure data. These data are not available from another public source, unfortunately."
   ]
  },
  {
   "cell_type": "code",
   "execution_count": 228,
   "metadata": {},
   "outputs": [
    {
     "name": "stdout",
     "output_type": "stream",
     "text": [
      "<class 'pandas.core.frame.DataFrame'>\n",
      "RangeIndex: 840 entries, 0 to 839\n",
      "Data columns (total 2 columns):\n",
      " #   Column       Non-Null Count  Dtype  \n",
      "---  ------       --------------  -----  \n",
      " 0   GEO_ID       840 non-null    object \n",
      " 1   DP04_0046PE  840 non-null    float64\n",
      "dtypes: float64(1), object(1)\n",
      "memory usage: 13.2+ KB\n"
     ]
    }
   ],
   "source": [
    "# check the completeness of the fields we need\n",
    "# 'GEO_ID': a field that contains the state & county ID\n",
    "# 'DP04_0046PE': the percentage of homes that are owner-occupied\n",
    "df_ho[['GEO_ID','DP04_0046PE']].info()"
   ]
  },
  {
   "cell_type": "markdown",
   "metadata": {},
   "source": [
    "Both fields are complete and in appropriate formats. `GEO_ID` is a string here because it contains some extra text data that we'll need to strip out later.\n",
    "\n",
    "Again, the columns represents unique variables, and each row represents a county, so the data are tidy.\n",
    "\n",
    "#### Summary\n",
    "Between the Project Sunroof and US Census data, we have the appropriate data fields we need to address the questions of interest. The data in the individual tables also are organized in tidy fashion. However, we do not have data for every county in the US for either solar installations or home ownership. These are due to coverage limits of the surveys. Further data deficiencies will be examined in the next section."
   ]
  },
  {
   "cell_type": "markdown",
   "metadata": {},
   "source": [
    "## Data Preparation\n",
    "\n",
    "#### Cleaning & merging the datasets\n",
    "\n",
    "Based on the analysis above, the data are tidy, so we don't need to split or merge any columns.\n",
    "Since the unit of analysis is the county, and the four tables all contain county-level data, they should be merged into a single table. We also need to do basic checks on the data to look for erroneous entries and outliers."
   ]
  },
  {
   "cell_type": "code",
   "execution_count": 229,
   "metadata": {},
   "outputs": [
    {
     "data": {
      "text/html": [
       "<div>\n",
       "<style scoped>\n",
       "    .dataframe tbody tr th:only-of-type {\n",
       "        vertical-align: middle;\n",
       "    }\n",
       "\n",
       "    .dataframe tbody tr th {\n",
       "        vertical-align: top;\n",
       "    }\n",
       "\n",
       "    .dataframe thead th {\n",
       "        text-align: right;\n",
       "    }\n",
       "</style>\n",
       "<table border=\"1\" class=\"dataframe\">\n",
       "  <thead>\n",
       "    <tr style=\"text-align: right;\">\n",
       "      <th></th>\n",
       "      <th>region_name</th>\n",
       "      <th>state_name</th>\n",
       "      <th>count_qualified</th>\n",
       "      <th>percent_covered</th>\n",
       "      <th>percent_qualified</th>\n",
       "      <th>existing_installs_count</th>\n",
       "    </tr>\n",
       "  </thead>\n",
       "  <tbody>\n",
       "    <tr>\n",
       "      <th>0</th>\n",
       "      <td>Acadia Parish</td>\n",
       "      <td>Louisiana</td>\n",
       "      <td>28</td>\n",
       "      <td>0.505118</td>\n",
       "      <td>73.684211</td>\n",
       "      <td>0</td>\n",
       "    </tr>\n",
       "    <tr>\n",
       "      <th>1</th>\n",
       "      <td>Ada County</td>\n",
       "      <td>Idaho</td>\n",
       "      <td>127097</td>\n",
       "      <td>93.467234</td>\n",
       "      <td>86.539431</td>\n",
       "      <td>333</td>\n",
       "    </tr>\n",
       "    <tr>\n",
       "      <th>2</th>\n",
       "      <td>Adams County</td>\n",
       "      <td>Colorado</td>\n",
       "      <td>103951</td>\n",
       "      <td>97.601508</td>\n",
       "      <td>79.333135</td>\n",
       "      <td>2218</td>\n",
       "    </tr>\n",
       "    <tr>\n",
       "      <th>3</th>\n",
       "      <td>Aiken County</td>\n",
       "      <td>South Carolina</td>\n",
       "      <td>45852</td>\n",
       "      <td>84.159299</td>\n",
       "      <td>83.773957</td>\n",
       "      <td>84</td>\n",
       "    </tr>\n",
       "    <tr>\n",
       "      <th>4</th>\n",
       "      <td>Alachua County</td>\n",
       "      <td>Florida</td>\n",
       "      <td>42187</td>\n",
       "      <td>85.015194</td>\n",
       "      <td>67.926321</td>\n",
       "      <td>913</td>\n",
       "    </tr>\n",
       "  </tbody>\n",
       "</table>\n",
       "</div>"
      ],
      "text/plain": [
       "      region_name      state_name  count_qualified  percent_covered  \\\n",
       "0   Acadia Parish       Louisiana               28         0.505118   \n",
       "1      Ada County           Idaho           127097        93.467234   \n",
       "2    Adams County        Colorado           103951        97.601508   \n",
       "3    Aiken County  South Carolina            45852        84.159299   \n",
       "4  Alachua County         Florida            42187        85.015194   \n",
       "\n",
       "   percent_qualified  existing_installs_count  \n",
       "0          73.684211                        0  \n",
       "1          86.539431                      333  \n",
       "2          79.333135                     2218  \n",
       "3          83.773957                       84  \n",
       "4          67.926321                      913  "
      ]
     },
     "execution_count": 229,
     "metadata": {},
     "output_type": "execute_result"
    }
   ],
   "source": [
    "# solar data\n",
    "# keep only the columns we need; these were listed in ps_keepcols above\n",
    "# test with 2017 data\n",
    "df_bu = df_ps17.copy()\n",
    "df_ps17 = df_ps17[ps_keepcols]\n",
    "df_ps17.head()"
   ]
  },
  {
   "cell_type": "code",
   "execution_count": 230,
   "metadata": {},
   "outputs": [],
   "source": [
    "# looks good; do same for the 2021 data\n",
    "df_ps21 = df_ps21[ps_keepcols]"
   ]
  },
  {
   "cell_type": "code",
   "execution_count": 231,
   "metadata": {},
   "outputs": [
    {
     "data": {
      "text/html": [
       "<div>\n",
       "<style scoped>\n",
       "    .dataframe tbody tr th:only-of-type {\n",
       "        vertical-align: middle;\n",
       "    }\n",
       "\n",
       "    .dataframe tbody tr th {\n",
       "        vertical-align: top;\n",
       "    }\n",
       "\n",
       "    .dataframe thead th {\n",
       "        text-align: right;\n",
       "    }\n",
       "</style>\n",
       "<table border=\"1\" class=\"dataframe\">\n",
       "  <thead>\n",
       "    <tr style=\"text-align: right;\">\n",
       "      <th></th>\n",
       "      <th>region_name</th>\n",
       "      <th>state_name</th>\n",
       "      <th>count_qualified_17</th>\n",
       "      <th>percent_covered_17</th>\n",
       "      <th>percent_qualified_17</th>\n",
       "      <th>existing_installs_count_17</th>\n",
       "      <th>count_qualified_21</th>\n",
       "      <th>percent_covered_21</th>\n",
       "      <th>percent_qualified_21</th>\n",
       "      <th>existing_installs_count_21</th>\n",
       "    </tr>\n",
       "  </thead>\n",
       "  <tbody>\n",
       "    <tr>\n",
       "      <th>0</th>\n",
       "      <td>Acadia Parish</td>\n",
       "      <td>Louisiana</td>\n",
       "      <td>28</td>\n",
       "      <td>0.505118</td>\n",
       "      <td>73.684211</td>\n",
       "      <td>0</td>\n",
       "      <td>362.0</td>\n",
       "      <td>1.295852</td>\n",
       "      <td>81.715576</td>\n",
       "      <td>0.0</td>\n",
       "    </tr>\n",
       "    <tr>\n",
       "      <th>1</th>\n",
       "      <td>Ada County</td>\n",
       "      <td>Idaho</td>\n",
       "      <td>127097</td>\n",
       "      <td>93.467234</td>\n",
       "      <td>86.539431</td>\n",
       "      <td>333</td>\n",
       "      <td>133937.0</td>\n",
       "      <td>86.151203</td>\n",
       "      <td>90.224860</td>\n",
       "      <td>333.0</td>\n",
       "    </tr>\n",
       "    <tr>\n",
       "      <th>2</th>\n",
       "      <td>Adams County</td>\n",
       "      <td>Colorado</td>\n",
       "      <td>103951</td>\n",
       "      <td>97.601508</td>\n",
       "      <td>79.333135</td>\n",
       "      <td>2218</td>\n",
       "      <td>117399.0</td>\n",
       "      <td>92.903614</td>\n",
       "      <td>87.461726</td>\n",
       "      <td>2223.0</td>\n",
       "    </tr>\n",
       "    <tr>\n",
       "      <th>3</th>\n",
       "      <td>Aiken County</td>\n",
       "      <td>South Carolina</td>\n",
       "      <td>45852</td>\n",
       "      <td>84.159299</td>\n",
       "      <td>83.773957</td>\n",
       "      <td>84</td>\n",
       "      <td>49051.0</td>\n",
       "      <td>68.370722</td>\n",
       "      <td>86.296622</td>\n",
       "      <td>83.0</td>\n",
       "    </tr>\n",
       "    <tr>\n",
       "      <th>4</th>\n",
       "      <td>Alachua County</td>\n",
       "      <td>Florida</td>\n",
       "      <td>42187</td>\n",
       "      <td>85.015194</td>\n",
       "      <td>67.926321</td>\n",
       "      <td>913</td>\n",
       "      <td>42833.0</td>\n",
       "      <td>77.902402</td>\n",
       "      <td>68.674544</td>\n",
       "      <td>912.0</td>\n",
       "    </tr>\n",
       "  </tbody>\n",
       "</table>\n",
       "</div>"
      ],
      "text/plain": [
       "      region_name      state_name  count_qualified_17  percent_covered_17  \\\n",
       "0   Acadia Parish       Louisiana                  28            0.505118   \n",
       "1      Ada County           Idaho              127097           93.467234   \n",
       "2    Adams County        Colorado              103951           97.601508   \n",
       "3    Aiken County  South Carolina               45852           84.159299   \n",
       "4  Alachua County         Florida               42187           85.015194   \n",
       "\n",
       "   percent_qualified_17  existing_installs_count_17  count_qualified_21  \\\n",
       "0             73.684211                           0               362.0   \n",
       "1             86.539431                         333            133937.0   \n",
       "2             79.333135                        2218            117399.0   \n",
       "3             83.773957                          84             49051.0   \n",
       "4             67.926321                         913             42833.0   \n",
       "\n",
       "   percent_covered_21  percent_qualified_21  existing_installs_count_21  \n",
       "0            1.295852             81.715576                         0.0  \n",
       "1           86.151203             90.224860                       333.0  \n",
       "2           92.903614             87.461726                      2223.0  \n",
       "3           68.370722             86.296622                        83.0  \n",
       "4           77.902402             68.674544                       912.0  "
      ]
     },
     "metadata": {},
     "output_type": "display_data"
    },
    {
     "data": {
      "text/plain": [
       "(910, 10)"
      ]
     },
     "metadata": {},
     "output_type": "display_data"
    }
   ],
   "source": [
    "# merge the two datasets, using county & state name as the joining fields\n",
    "df_sol1 = df_ps17.merge(df_ps21, how='inner', on=['region_name','state_name'], suffixes=('_17', '_21'))\n",
    "# check that this worked\n",
    "display(df_sol1.head())\n",
    "display(df_sol1.shape)"
   ]
  },
  {
   "cell_type": "code",
   "execution_count": 232,
   "metadata": {},
   "outputs": [
    {
     "name": "stdout",
     "output_type": "stream",
     "text": [
      "<class 'pandas.core.frame.DataFrame'>\n",
      "Int64Index: 910 entries, 0 to 909\n",
      "Data columns (total 10 columns):\n",
      " #   Column                      Non-Null Count  Dtype  \n",
      "---  ------                      --------------  -----  \n",
      " 0   region_name                 910 non-null    object \n",
      " 1   state_name                  910 non-null    object \n",
      " 2   count_qualified_17          910 non-null    int64  \n",
      " 3   percent_covered_17          910 non-null    float64\n",
      " 4   percent_qualified_17        910 non-null    float64\n",
      " 5   existing_installs_count_17  910 non-null    int64  \n",
      " 6   count_qualified_21          910 non-null    float64\n",
      " 7   percent_covered_21          910 non-null    float64\n",
      " 8   percent_qualified_21        910 non-null    float64\n",
      " 9   existing_installs_count_21  910 non-null    float64\n",
      "dtypes: float64(6), int64(2), object(2)\n",
      "memory usage: 78.2+ KB\n"
     ]
    }
   ],
   "source": [
    "df_sol1.info()"
   ]
  },
  {
   "cell_type": "markdown",
   "metadata": {},
   "source": [
    "The merge apppears to have completed successfully, but there is one more entry (910) than in the 2017 dataset (909). There may have been a duplicate in the 2021 data.\n",
    "\n",
    "To check this, will need to make a combined state & county column."
   ]
  },
  {
   "cell_type": "code",
   "execution_count": 233,
   "metadata": {},
   "outputs": [
    {
     "data": {
      "text/html": [
       "<div>\n",
       "<style scoped>\n",
       "    .dataframe tbody tr th:only-of-type {\n",
       "        vertical-align: middle;\n",
       "    }\n",
       "\n",
       "    .dataframe tbody tr th {\n",
       "        vertical-align: top;\n",
       "    }\n",
       "\n",
       "    .dataframe thead th {\n",
       "        text-align: right;\n",
       "    }\n",
       "</style>\n",
       "<table border=\"1\" class=\"dataframe\">\n",
       "  <thead>\n",
       "    <tr style=\"text-align: right;\">\n",
       "      <th></th>\n",
       "      <th>region_name</th>\n",
       "      <th>state_name</th>\n",
       "      <th>count_qualified_17</th>\n",
       "      <th>percent_covered_17</th>\n",
       "      <th>percent_qualified_17</th>\n",
       "      <th>existing_installs_count_17</th>\n",
       "      <th>count_qualified_21</th>\n",
       "      <th>percent_covered_21</th>\n",
       "      <th>percent_qualified_21</th>\n",
       "      <th>existing_installs_count_21</th>\n",
       "      <th>CtySt</th>\n",
       "    </tr>\n",
       "  </thead>\n",
       "  <tbody>\n",
       "    <tr>\n",
       "      <th>0</th>\n",
       "      <td>Acadia Parish</td>\n",
       "      <td>Louisiana</td>\n",
       "      <td>28</td>\n",
       "      <td>0.505118</td>\n",
       "      <td>73.684211</td>\n",
       "      <td>0</td>\n",
       "      <td>362.0</td>\n",
       "      <td>1.295852</td>\n",
       "      <td>81.715576</td>\n",
       "      <td>0.0</td>\n",
       "      <td>Acadia, Louisiana</td>\n",
       "    </tr>\n",
       "    <tr>\n",
       "      <th>1</th>\n",
       "      <td>Ada County</td>\n",
       "      <td>Idaho</td>\n",
       "      <td>127097</td>\n",
       "      <td>93.467234</td>\n",
       "      <td>86.539431</td>\n",
       "      <td>333</td>\n",
       "      <td>133937.0</td>\n",
       "      <td>86.151203</td>\n",
       "      <td>90.224860</td>\n",
       "      <td>333.0</td>\n",
       "      <td>Ada, Idaho</td>\n",
       "    </tr>\n",
       "    <tr>\n",
       "      <th>2</th>\n",
       "      <td>Adams County</td>\n",
       "      <td>Colorado</td>\n",
       "      <td>103951</td>\n",
       "      <td>97.601508</td>\n",
       "      <td>79.333135</td>\n",
       "      <td>2218</td>\n",
       "      <td>117399.0</td>\n",
       "      <td>92.903614</td>\n",
       "      <td>87.461726</td>\n",
       "      <td>2223.0</td>\n",
       "      <td>Adams, Colorado</td>\n",
       "    </tr>\n",
       "    <tr>\n",
       "      <th>3</th>\n",
       "      <td>Aiken County</td>\n",
       "      <td>South Carolina</td>\n",
       "      <td>45852</td>\n",
       "      <td>84.159299</td>\n",
       "      <td>83.773957</td>\n",
       "      <td>84</td>\n",
       "      <td>49051.0</td>\n",
       "      <td>68.370722</td>\n",
       "      <td>86.296622</td>\n",
       "      <td>83.0</td>\n",
       "      <td>Aiken, South Carolina</td>\n",
       "    </tr>\n",
       "    <tr>\n",
       "      <th>4</th>\n",
       "      <td>Alachua County</td>\n",
       "      <td>Florida</td>\n",
       "      <td>42187</td>\n",
       "      <td>85.015194</td>\n",
       "      <td>67.926321</td>\n",
       "      <td>913</td>\n",
       "      <td>42833.0</td>\n",
       "      <td>77.902402</td>\n",
       "      <td>68.674544</td>\n",
       "      <td>912.0</td>\n",
       "      <td>Alachua, Florida</td>\n",
       "    </tr>\n",
       "  </tbody>\n",
       "</table>\n",
       "</div>"
      ],
      "text/plain": [
       "      region_name      state_name  count_qualified_17  percent_covered_17  \\\n",
       "0   Acadia Parish       Louisiana                  28            0.505118   \n",
       "1      Ada County           Idaho              127097           93.467234   \n",
       "2    Adams County        Colorado              103951           97.601508   \n",
       "3    Aiken County  South Carolina               45852           84.159299   \n",
       "4  Alachua County         Florida               42187           85.015194   \n",
       "\n",
       "   percent_qualified_17  existing_installs_count_17  count_qualified_21  \\\n",
       "0             73.684211                           0               362.0   \n",
       "1             86.539431                         333            133937.0   \n",
       "2             79.333135                        2218            117399.0   \n",
       "3             83.773957                          84             49051.0   \n",
       "4             67.926321                         913             42833.0   \n",
       "\n",
       "   percent_covered_21  percent_qualified_21  existing_installs_count_21  \\\n",
       "0            1.295852             81.715576                         0.0   \n",
       "1           86.151203             90.224860                       333.0   \n",
       "2           92.903614             87.461726                      2223.0   \n",
       "3           68.370722             86.296622                        83.0   \n",
       "4           77.902402             68.674544                       912.0   \n",
       "\n",
       "                   CtySt  \n",
       "0      Acadia, Louisiana  \n",
       "1             Ada, Idaho  \n",
       "2        Adams, Colorado  \n",
       "3  Aiken, South Carolina  \n",
       "4       Alachua, Florida  "
      ]
     },
     "metadata": {},
     "output_type": "display_data"
    }
   ],
   "source": [
    "# Create a simplified county-state field, without the \"County\" or \"Parish\" trailer\n",
    "subs = re.compile(' County| Parish')\n",
    "df_sol1['CtySt'] = df_sol1['region_name'].apply(lambda x:subs.sub(', ', x)) + df_sol1['state_name']\n",
    "display(df_sol1.head())\n"
   ]
  },
  {
   "cell_type": "code",
   "execution_count": 234,
   "metadata": {},
   "outputs": [
    {
     "data": {
      "text/html": [
       "<div>\n",
       "<style scoped>\n",
       "    .dataframe tbody tr th:only-of-type {\n",
       "        vertical-align: middle;\n",
       "    }\n",
       "\n",
       "    .dataframe tbody tr th {\n",
       "        vertical-align: top;\n",
       "    }\n",
       "\n",
       "    .dataframe thead th {\n",
       "        text-align: right;\n",
       "    }\n",
       "</style>\n",
       "<table border=\"1\" class=\"dataframe\">\n",
       "  <thead>\n",
       "    <tr style=\"text-align: right;\">\n",
       "      <th></th>\n",
       "      <th>region_name</th>\n",
       "      <th>state_name</th>\n",
       "      <th>count_qualified_17</th>\n",
       "      <th>percent_covered_17</th>\n",
       "      <th>percent_qualified_17</th>\n",
       "      <th>existing_installs_count_17</th>\n",
       "      <th>count_qualified_21</th>\n",
       "      <th>percent_covered_21</th>\n",
       "      <th>percent_qualified_21</th>\n",
       "      <th>existing_installs_count_21</th>\n",
       "      <th>CtySt</th>\n",
       "    </tr>\n",
       "  </thead>\n",
       "  <tbody>\n",
       "    <tr>\n",
       "      <th>381</th>\n",
       "      <td>Imperial County</td>\n",
       "      <td>California</td>\n",
       "      <td>7646</td>\n",
       "      <td>24.096944</td>\n",
       "      <td>86.502998</td>\n",
       "      <td>5</td>\n",
       "      <td>23998.0</td>\n",
       "      <td>54.407699</td>\n",
       "      <td>93.087665</td>\n",
       "      <td>5.0</td>\n",
       "      <td>Imperial, California</td>\n",
       "    </tr>\n",
       "  </tbody>\n",
       "</table>\n",
       "</div>"
      ],
      "text/plain": [
       "         region_name  state_name  count_qualified_17  percent_covered_17  \\\n",
       "381  Imperial County  California                7646           24.096944   \n",
       "\n",
       "     percent_qualified_17  existing_installs_count_17  count_qualified_21  \\\n",
       "381             86.502998                           5             23998.0   \n",
       "\n",
       "     percent_covered_21  percent_qualified_21  existing_installs_count_21  \\\n",
       "381           54.407699             93.087665                         5.0   \n",
       "\n",
       "                    CtySt  \n",
       "381  Imperial, California  "
      ]
     },
     "metadata": {},
     "output_type": "display_data"
    }
   ],
   "source": [
    "# check for duplicate county-state entries\n",
    "display(df_sol1[df_sol1['CtySt'].duplicated()])"
   ]
  },
  {
   "cell_type": "code",
   "execution_count": 235,
   "metadata": {},
   "outputs": [
    {
     "data": {
      "text/html": [
       "<div>\n",
       "<style scoped>\n",
       "    .dataframe tbody tr th:only-of-type {\n",
       "        vertical-align: middle;\n",
       "    }\n",
       "\n",
       "    .dataframe tbody tr th {\n",
       "        vertical-align: top;\n",
       "    }\n",
       "\n",
       "    .dataframe thead th {\n",
       "        text-align: right;\n",
       "    }\n",
       "</style>\n",
       "<table border=\"1\" class=\"dataframe\">\n",
       "  <thead>\n",
       "    <tr style=\"text-align: right;\">\n",
       "      <th></th>\n",
       "      <th>region_name</th>\n",
       "      <th>state_name</th>\n",
       "      <th>count_qualified_17</th>\n",
       "      <th>percent_covered_17</th>\n",
       "      <th>percent_qualified_17</th>\n",
       "      <th>existing_installs_count_17</th>\n",
       "      <th>count_qualified_21</th>\n",
       "      <th>percent_covered_21</th>\n",
       "      <th>percent_qualified_21</th>\n",
       "      <th>existing_installs_count_21</th>\n",
       "      <th>CtySt</th>\n",
       "    </tr>\n",
       "  </thead>\n",
       "  <tbody>\n",
       "    <tr>\n",
       "      <th>380</th>\n",
       "      <td>Imperial County</td>\n",
       "      <td>California</td>\n",
       "      <td>7646</td>\n",
       "      <td>24.096944</td>\n",
       "      <td>86.502998</td>\n",
       "      <td>5</td>\n",
       "      <td>1.0</td>\n",
       "      <td>0.004221</td>\n",
       "      <td>50.000000</td>\n",
       "      <td>0.0</td>\n",
       "      <td>Imperial, California</td>\n",
       "    </tr>\n",
       "    <tr>\n",
       "      <th>381</th>\n",
       "      <td>Imperial County</td>\n",
       "      <td>California</td>\n",
       "      <td>7646</td>\n",
       "      <td>24.096944</td>\n",
       "      <td>86.502998</td>\n",
       "      <td>5</td>\n",
       "      <td>23998.0</td>\n",
       "      <td>54.407699</td>\n",
       "      <td>93.087665</td>\n",
       "      <td>5.0</td>\n",
       "      <td>Imperial, California</td>\n",
       "    </tr>\n",
       "  </tbody>\n",
       "</table>\n",
       "</div>"
      ],
      "text/plain": [
       "         region_name  state_name  count_qualified_17  percent_covered_17  \\\n",
       "380  Imperial County  California                7646           24.096944   \n",
       "381  Imperial County  California                7646           24.096944   \n",
       "\n",
       "     percent_qualified_17  existing_installs_count_17  count_qualified_21  \\\n",
       "380             86.502998                           5                 1.0   \n",
       "381             86.502998                           5             23998.0   \n",
       "\n",
       "     percent_covered_21  percent_qualified_21  existing_installs_count_21  \\\n",
       "380            0.004221             50.000000                         0.0   \n",
       "381           54.407699             93.087665                         5.0   \n",
       "\n",
       "                    CtySt  \n",
       "380  Imperial, California  \n",
       "381  Imperial, California  "
      ]
     },
     "metadata": {},
     "output_type": "display_data"
    }
   ],
   "source": [
    "# look at the duplicates\n",
    "display(df_sol1[df_sol1['CtySt']=='Imperial, California'])"
   ]
  },
  {
   "cell_type": "markdown",
   "metadata": {},
   "source": [
    "The first entry appears to be artifactual or an error: it says only 0.004% of the couny is covered in 2021, vs 54% for the 2nd entry. It also only identifies 1 qualified roof versus 23998.\n",
    "\n",
    "The first entry will be dropped as a presumed error."
   ]
  },
  {
   "cell_type": "code",
   "execution_count": 236,
   "metadata": {},
   "outputs": [
    {
     "data": {
      "text/html": [
       "<div>\n",
       "<style scoped>\n",
       "    .dataframe tbody tr th:only-of-type {\n",
       "        vertical-align: middle;\n",
       "    }\n",
       "\n",
       "    .dataframe tbody tr th {\n",
       "        vertical-align: top;\n",
       "    }\n",
       "\n",
       "    .dataframe thead th {\n",
       "        text-align: right;\n",
       "    }\n",
       "</style>\n",
       "<table border=\"1\" class=\"dataframe\">\n",
       "  <thead>\n",
       "    <tr style=\"text-align: right;\">\n",
       "      <th></th>\n",
       "      <th>region_name</th>\n",
       "      <th>state_name</th>\n",
       "      <th>count_qualified_17</th>\n",
       "      <th>percent_covered_17</th>\n",
       "      <th>percent_qualified_17</th>\n",
       "      <th>existing_installs_count_17</th>\n",
       "      <th>count_qualified_21</th>\n",
       "      <th>percent_covered_21</th>\n",
       "      <th>percent_qualified_21</th>\n",
       "      <th>existing_installs_count_21</th>\n",
       "      <th>CtySt</th>\n",
       "    </tr>\n",
       "  </thead>\n",
       "  <tbody>\n",
       "    <tr>\n",
       "      <th>381</th>\n",
       "      <td>Imperial County</td>\n",
       "      <td>California</td>\n",
       "      <td>7646</td>\n",
       "      <td>24.096944</td>\n",
       "      <td>86.502998</td>\n",
       "      <td>5</td>\n",
       "      <td>23998.0</td>\n",
       "      <td>54.407699</td>\n",
       "      <td>93.087665</td>\n",
       "      <td>5.0</td>\n",
       "      <td>Imperial, California</td>\n",
       "    </tr>\n",
       "  </tbody>\n",
       "</table>\n",
       "</div>"
      ],
      "text/plain": [
       "         region_name  state_name  count_qualified_17  percent_covered_17  \\\n",
       "381  Imperial County  California                7646           24.096944   \n",
       "\n",
       "     percent_qualified_17  existing_installs_count_17  count_qualified_21  \\\n",
       "381             86.502998                           5             23998.0   \n",
       "\n",
       "     percent_covered_21  percent_qualified_21  existing_installs_count_21  \\\n",
       "381           54.407699             93.087665                         5.0   \n",
       "\n",
       "                    CtySt  \n",
       "381  Imperial, California  "
      ]
     },
     "metadata": {},
     "output_type": "display_data"
    },
    {
     "data": {
      "text/html": [
       "<div>\n",
       "<style scoped>\n",
       "    .dataframe tbody tr th:only-of-type {\n",
       "        vertical-align: middle;\n",
       "    }\n",
       "\n",
       "    .dataframe tbody tr th {\n",
       "        vertical-align: top;\n",
       "    }\n",
       "\n",
       "    .dataframe thead th {\n",
       "        text-align: right;\n",
       "    }\n",
       "</style>\n",
       "<table border=\"1\" class=\"dataframe\">\n",
       "  <thead>\n",
       "    <tr style=\"text-align: right;\">\n",
       "      <th></th>\n",
       "      <th>region_name</th>\n",
       "      <th>state_name</th>\n",
       "      <th>count_qualified_17</th>\n",
       "      <th>percent_covered_17</th>\n",
       "      <th>percent_qualified_17</th>\n",
       "      <th>existing_installs_count_17</th>\n",
       "      <th>count_qualified_21</th>\n",
       "      <th>percent_covered_21</th>\n",
       "      <th>percent_qualified_21</th>\n",
       "      <th>existing_installs_count_21</th>\n",
       "      <th>CtySt</th>\n",
       "    </tr>\n",
       "  </thead>\n",
       "  <tbody>\n",
       "  </tbody>\n",
       "</table>\n",
       "</div>"
      ],
      "text/plain": [
       "Empty DataFrame\n",
       "Columns: [region_name, state_name, count_qualified_17, percent_covered_17, percent_qualified_17, existing_installs_count_17, count_qualified_21, percent_covered_21, percent_qualified_21, existing_installs_count_21, CtySt]\n",
       "Index: []"
      ]
     },
     "metadata": {},
     "output_type": "display_data"
    }
   ],
   "source": [
    "# drop the 1st entry\n",
    "df_sol1.drop(index=380, inplace=True)\n",
    "# check this\n",
    "display(df_sol1[df_sol1['CtySt']=='Imperial, California'])\n",
    "display(df_sol1[df_sol1['CtySt'].duplicated()])"
   ]
  },
  {
   "cell_type": "markdown",
   "metadata": {},
   "source": [
    "#### Reducing the solar dataset based on Project Sunroof coverage\n",
    "\n",
    "The `percent_covered_##` fields represent the % of roofs in Google Maps that were covered by Project Sunroof for each year. \n",
    "\n",
    "Since solar installation are likely to be rare, we don't want the solar adoption result to be biased by sparse Project Sunroof coverage, which might miss most or all of the solar installations, e.g. if they surveyed only a thinly populated area of a county, and missed some of its cities. We also don't the adoption result to be biased the other way, e.g. if Project Sunroof only covered a small part of a county, but it happened to have a much higher-than-average number of solar installations. \n",
    "\n",
    "For this reason we want to have only data on counties with fairly robust Project Sunroof coverage."
   ]
  },
  {
   "cell_type": "code",
   "execution_count": 237,
   "metadata": {},
   "outputs": [
    {
     "data": {
      "text/plain": [
       "count    909.000000\n",
       "mean      58.270709\n",
       "std       31.959939\n",
       "min        0.009224\n",
       "25%       33.514986\n",
       "50%       65.734507\n",
       "75%       87.346422\n",
       "max       99.913476\n",
       "Name: percent_covered_17, dtype: float64"
      ]
     },
     "metadata": {},
     "output_type": "display_data"
    },
    {
     "data": {
      "text/plain": [
       "count    909.000000\n",
       "mean      52.036427\n",
       "std       31.010260\n",
       "min        0.005137\n",
       "25%       25.921016\n",
       "50%       56.580569\n",
       "75%       79.203785\n",
       "max       99.284043\n",
       "Name: percent_covered_21, dtype: float64"
      ]
     },
     "metadata": {},
     "output_type": "display_data"
    }
   ],
   "source": [
    "# check the stats on coverage\n",
    "display(df_sol1['percent_covered_17'].describe())\n",
    "display(df_sol1['percent_covered_21'].describe())"
   ]
  },
  {
   "cell_type": "markdown",
   "metadata": {},
   "source": [
    "It appears there is a wide range of coverage, although the mean and median for both years in > 50%. 50% seems like a reasonable level of coverage, and it won't result in an excessive loss of data.\n",
    "\n",
    "Based on this reasoning, I decided to keep counties with at least 50% coverage for both years."
   ]
  },
  {
   "cell_type": "code",
   "execution_count": 238,
   "metadata": {},
   "outputs": [
    {
     "data": {
      "text/plain": [
       "'counties: 481'"
      ]
     },
     "metadata": {},
     "output_type": "display_data"
    },
    {
     "data": {
      "text/plain": [
       "'states: 49'"
      ]
     },
     "metadata": {},
     "output_type": "display_data"
    }
   ],
   "source": [
    "# check how many counties will be left if we keep only those with >= 50% coverage in 2017 & 2021\n",
    "display('counties: {}'.format(df_sol1[(df_sol1['percent_covered_17'] >= 50.0) & (df_sol1['percent_covered_21'] >= 50.0)].shape[0]))\n",
    "display('states: {}'.format(df_sol1[(df_sol1['percent_covered_17'] >= 50.0) & (df_sol1['percent_covered_21'] >= 50.0)]['state_name'].nunique()))"
   ]
  },
  {
   "cell_type": "markdown",
   "metadata": {},
   "source": [
    "This will leave us with slightly more than half the counties from the original dataset, and data for 49 states. I think this is acceptable, at least for this first-cut analysis"
   ]
  },
  {
   "cell_type": "code",
   "execution_count": 239,
   "metadata": {},
   "outputs": [],
   "source": [
    "# keep the counties where Project Sunroof coverages at least 50% of buildings in Google Maps for both 2017 & 2021\n",
    "df_sol2 = df_sol1[(df_sol1['percent_covered_17'] >= 50.0) & (df_sol1['percent_covered_21'] >= 50.0)]"
   ]
  },
  {
   "cell_type": "code",
   "execution_count": 240,
   "metadata": {},
   "outputs": [
    {
     "name": "stdout",
     "output_type": "stream",
     "text": [
      "<class 'pandas.core.frame.DataFrame'>\n",
      "Int64Index: 481 entries, 1 to 909\n",
      "Data columns (total 11 columns):\n",
      " #   Column                      Non-Null Count  Dtype  \n",
      "---  ------                      --------------  -----  \n",
      " 0   region_name                 481 non-null    object \n",
      " 1   state_name                  481 non-null    object \n",
      " 2   count_qualified_17          481 non-null    int64  \n",
      " 3   percent_covered_17          481 non-null    float64\n",
      " 4   percent_qualified_17        481 non-null    float64\n",
      " 5   existing_installs_count_17  481 non-null    int64  \n",
      " 6   count_qualified_21          481 non-null    float64\n",
      " 7   percent_covered_21          481 non-null    float64\n",
      " 8   percent_qualified_21        481 non-null    float64\n",
      " 9   existing_installs_count_21  481 non-null    float64\n",
      " 10  CtySt                       481 non-null    object \n",
      "dtypes: float64(6), int64(2), object(3)\n",
      "memory usage: 45.1+ KB\n"
     ]
    }
   ],
   "source": [
    "# check final set\n",
    "df_sol2.info()"
   ]
  },
  {
   "cell_type": "code",
   "execution_count": 241,
   "metadata": {},
   "outputs": [
    {
     "data": {
      "text/html": [
       "<div>\n",
       "<style scoped>\n",
       "    .dataframe tbody tr th:only-of-type {\n",
       "        vertical-align: middle;\n",
       "    }\n",
       "\n",
       "    .dataframe tbody tr th {\n",
       "        vertical-align: top;\n",
       "    }\n",
       "\n",
       "    .dataframe thead th {\n",
       "        text-align: right;\n",
       "    }\n",
       "</style>\n",
       "<table border=\"1\" class=\"dataframe\">\n",
       "  <thead>\n",
       "    <tr style=\"text-align: right;\">\n",
       "      <th></th>\n",
       "      <th>CountyId</th>\n",
       "      <th>State</th>\n",
       "      <th>County</th>\n",
       "      <th>TotalPop</th>\n",
       "      <th>IncomePerCap</th>\n",
       "    </tr>\n",
       "  </thead>\n",
       "  <tbody>\n",
       "    <tr>\n",
       "      <th>0</th>\n",
       "      <td>1001</td>\n",
       "      <td>Alabama</td>\n",
       "      <td>Autauga County</td>\n",
       "      <td>55036</td>\n",
       "      <td>27824</td>\n",
       "    </tr>\n",
       "    <tr>\n",
       "      <th>1</th>\n",
       "      <td>1003</td>\n",
       "      <td>Alabama</td>\n",
       "      <td>Baldwin County</td>\n",
       "      <td>203360</td>\n",
       "      <td>29364</td>\n",
       "    </tr>\n",
       "    <tr>\n",
       "      <th>2</th>\n",
       "      <td>1005</td>\n",
       "      <td>Alabama</td>\n",
       "      <td>Barbour County</td>\n",
       "      <td>26201</td>\n",
       "      <td>17561</td>\n",
       "    </tr>\n",
       "    <tr>\n",
       "      <th>3</th>\n",
       "      <td>1007</td>\n",
       "      <td>Alabama</td>\n",
       "      <td>Bibb County</td>\n",
       "      <td>22580</td>\n",
       "      <td>20911</td>\n",
       "    </tr>\n",
       "    <tr>\n",
       "      <th>4</th>\n",
       "      <td>1009</td>\n",
       "      <td>Alabama</td>\n",
       "      <td>Blount County</td>\n",
       "      <td>57667</td>\n",
       "      <td>22021</td>\n",
       "    </tr>\n",
       "  </tbody>\n",
       "</table>\n",
       "</div>"
      ],
      "text/plain": [
       "   CountyId    State          County  TotalPop  IncomePerCap\n",
       "0      1001  Alabama  Autauga County     55036         27824\n",
       "1      1003  Alabama  Baldwin County    203360         29364\n",
       "2      1005  Alabama  Barbour County     26201         17561\n",
       "3      1007  Alabama     Bibb County     22580         20911\n",
       "4      1009  Alabama   Blount County     57667         22021"
      ]
     },
     "execution_count": 241,
     "metadata": {},
     "output_type": "execute_result"
    }
   ],
   "source": [
    "# population and income data\n",
    "# keep only the columns we need\n",
    "df_cens2 = df_cens1[['CountyId','State','County','TotalPop','IncomePerCap']]\n",
    "df_cens2.head()"
   ]
  },
  {
   "cell_type": "code",
   "execution_count": 242,
   "metadata": {},
   "outputs": [
    {
     "name": "stderr",
     "output_type": "stream",
     "text": [
      "<ipython-input-242-f87ab679d58a>:2: SettingWithCopyWarning: \n",
      "A value is trying to be set on a copy of a slice from a DataFrame.\n",
      "Try using .loc[row_indexer,col_indexer] = value instead\n",
      "\n",
      "See the caveats in the documentation: https://pandas.pydata.org/pandas-docs/stable/user_guide/indexing.html#returning-a-view-versus-a-copy\n",
      "  df_cens2['StCtyID'] = df_cens2['CountyId'].astype(str).apply(lambda x: x.zfill(5))\n"
     ]
    }
   ],
   "source": [
    "# pad the county ID to make it compatible with the other files\n",
    "df_cens2['StCtyID'] = df_cens2['CountyId'].astype(str).apply(lambda x: x.zfill(5))"
   ]
  },
  {
   "cell_type": "code",
   "execution_count": 243,
   "metadata": {},
   "outputs": [
    {
     "data": {
      "text/html": [
       "<div>\n",
       "<style scoped>\n",
       "    .dataframe tbody tr th:only-of-type {\n",
       "        vertical-align: middle;\n",
       "    }\n",
       "\n",
       "    .dataframe tbody tr th {\n",
       "        vertical-align: top;\n",
       "    }\n",
       "\n",
       "    .dataframe thead th {\n",
       "        text-align: right;\n",
       "    }\n",
       "</style>\n",
       "<table border=\"1\" class=\"dataframe\">\n",
       "  <thead>\n",
       "    <tr style=\"text-align: right;\">\n",
       "      <th></th>\n",
       "      <th>CountyId</th>\n",
       "      <th>State</th>\n",
       "      <th>County</th>\n",
       "      <th>TotalPop</th>\n",
       "      <th>IncomePerCap</th>\n",
       "      <th>StCtyID</th>\n",
       "    </tr>\n",
       "  </thead>\n",
       "  <tbody>\n",
       "    <tr>\n",
       "      <th>0</th>\n",
       "      <td>1001</td>\n",
       "      <td>Alabama</td>\n",
       "      <td>Autauga County</td>\n",
       "      <td>55036</td>\n",
       "      <td>27824</td>\n",
       "      <td>01001</td>\n",
       "    </tr>\n",
       "    <tr>\n",
       "      <th>1</th>\n",
       "      <td>1003</td>\n",
       "      <td>Alabama</td>\n",
       "      <td>Baldwin County</td>\n",
       "      <td>203360</td>\n",
       "      <td>29364</td>\n",
       "      <td>01003</td>\n",
       "    </tr>\n",
       "    <tr>\n",
       "      <th>2</th>\n",
       "      <td>1005</td>\n",
       "      <td>Alabama</td>\n",
       "      <td>Barbour County</td>\n",
       "      <td>26201</td>\n",
       "      <td>17561</td>\n",
       "      <td>01005</td>\n",
       "    </tr>\n",
       "  </tbody>\n",
       "</table>\n",
       "</div>"
      ],
      "text/plain": [
       "   CountyId    State          County  TotalPop  IncomePerCap StCtyID\n",
       "0      1001  Alabama  Autauga County     55036         27824   01001\n",
       "1      1003  Alabama  Baldwin County    203360         29364   01003\n",
       "2      1005  Alabama  Barbour County     26201         17561   01005"
      ]
     },
     "metadata": {},
     "output_type": "display_data"
    },
    {
     "data": {
      "text/html": [
       "<div>\n",
       "<style scoped>\n",
       "    .dataframe tbody tr th:only-of-type {\n",
       "        vertical-align: middle;\n",
       "    }\n",
       "\n",
       "    .dataframe tbody tr th {\n",
       "        vertical-align: top;\n",
       "    }\n",
       "\n",
       "    .dataframe thead th {\n",
       "        text-align: right;\n",
       "    }\n",
       "</style>\n",
       "<table border=\"1\" class=\"dataframe\">\n",
       "  <thead>\n",
       "    <tr style=\"text-align: right;\">\n",
       "      <th></th>\n",
       "      <th>CountyId</th>\n",
       "      <th>State</th>\n",
       "      <th>County</th>\n",
       "      <th>TotalPop</th>\n",
       "      <th>IncomePerCap</th>\n",
       "      <th>StCtyID</th>\n",
       "    </tr>\n",
       "  </thead>\n",
       "  <tbody>\n",
       "    <tr>\n",
       "      <th>3217</th>\n",
       "      <td>72149</td>\n",
       "      <td>Puerto Rico</td>\n",
       "      <td>Villalba Municipio</td>\n",
       "      <td>23659</td>\n",
       "      <td>10449</td>\n",
       "      <td>72149</td>\n",
       "    </tr>\n",
       "    <tr>\n",
       "      <th>3218</th>\n",
       "      <td>72151</td>\n",
       "      <td>Puerto Rico</td>\n",
       "      <td>Yabucoa Municipio</td>\n",
       "      <td>35025</td>\n",
       "      <td>8672</td>\n",
       "      <td>72151</td>\n",
       "    </tr>\n",
       "    <tr>\n",
       "      <th>3219</th>\n",
       "      <td>72153</td>\n",
       "      <td>Puerto Rico</td>\n",
       "      <td>Yauco Municipio</td>\n",
       "      <td>37585</td>\n",
       "      <td>8124</td>\n",
       "      <td>72153</td>\n",
       "    </tr>\n",
       "  </tbody>\n",
       "</table>\n",
       "</div>"
      ],
      "text/plain": [
       "      CountyId        State              County  TotalPop  IncomePerCap  \\\n",
       "3217     72149  Puerto Rico  Villalba Municipio     23659         10449   \n",
       "3218     72151  Puerto Rico   Yabucoa Municipio     35025          8672   \n",
       "3219     72153  Puerto Rico     Yauco Municipio     37585          8124   \n",
       "\n",
       "     StCtyID  \n",
       "3217   72149  \n",
       "3218   72151  \n",
       "3219   72153  "
      ]
     },
     "metadata": {},
     "output_type": "display_data"
    }
   ],
   "source": [
    "# check that the padding operation worked (we should have a 5-digit StCtyID)\n",
    "display(df_cens2.head(3))\n",
    "display(df_cens2.tail(3))"
   ]
  },
  {
   "cell_type": "code",
   "execution_count": 244,
   "metadata": {},
   "outputs": [
    {
     "name": "stderr",
     "output_type": "stream",
     "text": [
      "/home/umahp/anaconda3/lib/python3.8/site-packages/pandas/core/frame.py:4163: SettingWithCopyWarning: \n",
      "A value is trying to be set on a copy of a slice from a DataFrame\n",
      "\n",
      "See the caveats in the documentation: https://pandas.pydata.org/pandas-docs/stable/user_guide/indexing.html#returning-a-view-versus-a-copy\n",
      "  return super().drop(\n"
     ]
    },
    {
     "data": {
      "text/html": [
       "<div>\n",
       "<style scoped>\n",
       "    .dataframe tbody tr th:only-of-type {\n",
       "        vertical-align: middle;\n",
       "    }\n",
       "\n",
       "    .dataframe tbody tr th {\n",
       "        vertical-align: top;\n",
       "    }\n",
       "\n",
       "    .dataframe thead th {\n",
       "        text-align: right;\n",
       "    }\n",
       "</style>\n",
       "<table border=\"1\" class=\"dataframe\">\n",
       "  <thead>\n",
       "    <tr style=\"text-align: right;\">\n",
       "      <th></th>\n",
       "      <th>State</th>\n",
       "      <th>County</th>\n",
       "      <th>TotalPop</th>\n",
       "      <th>IncomePerCap</th>\n",
       "      <th>StCtyID</th>\n",
       "    </tr>\n",
       "  </thead>\n",
       "  <tbody>\n",
       "    <tr>\n",
       "      <th>0</th>\n",
       "      <td>Alabama</td>\n",
       "      <td>Autauga County</td>\n",
       "      <td>55036</td>\n",
       "      <td>27824</td>\n",
       "      <td>01001</td>\n",
       "    </tr>\n",
       "    <tr>\n",
       "      <th>1</th>\n",
       "      <td>Alabama</td>\n",
       "      <td>Baldwin County</td>\n",
       "      <td>203360</td>\n",
       "      <td>29364</td>\n",
       "      <td>01003</td>\n",
       "    </tr>\n",
       "    <tr>\n",
       "      <th>2</th>\n",
       "      <td>Alabama</td>\n",
       "      <td>Barbour County</td>\n",
       "      <td>26201</td>\n",
       "      <td>17561</td>\n",
       "      <td>01005</td>\n",
       "    </tr>\n",
       "  </tbody>\n",
       "</table>\n",
       "</div>"
      ],
      "text/plain": [
       "     State          County  TotalPop  IncomePerCap StCtyID\n",
       "0  Alabama  Autauga County     55036         27824   01001\n",
       "1  Alabama  Baldwin County    203360         29364   01003\n",
       "2  Alabama  Barbour County     26201         17561   01005"
      ]
     },
     "metadata": {},
     "output_type": "display_data"
    }
   ],
   "source": [
    "# now we can drop the original CountyId\n",
    "df_cens2.drop(['CountyId'], axis=1, inplace=True)\n",
    "display(df_cens2.head(3))"
   ]
  },
  {
   "cell_type": "code",
   "execution_count": 245,
   "metadata": {},
   "outputs": [
    {
     "data": {
      "text/html": [
       "<div>\n",
       "<style scoped>\n",
       "    .dataframe tbody tr th:only-of-type {\n",
       "        vertical-align: middle;\n",
       "    }\n",
       "\n",
       "    .dataframe tbody tr th {\n",
       "        vertical-align: top;\n",
       "    }\n",
       "\n",
       "    .dataframe thead th {\n",
       "        text-align: right;\n",
       "    }\n",
       "</style>\n",
       "<table border=\"1\" class=\"dataframe\">\n",
       "  <thead>\n",
       "    <tr style=\"text-align: right;\">\n",
       "      <th></th>\n",
       "      <th>region_name</th>\n",
       "      <th>state_name</th>\n",
       "      <th>count_qualified_17</th>\n",
       "      <th>percent_covered_17</th>\n",
       "      <th>percent_qualified_17</th>\n",
       "      <th>existing_installs_count_17</th>\n",
       "      <th>count_qualified_21</th>\n",
       "      <th>percent_covered_21</th>\n",
       "      <th>percent_qualified_21</th>\n",
       "      <th>existing_installs_count_21</th>\n",
       "      <th>CtySt</th>\n",
       "      <th>State</th>\n",
       "      <th>County</th>\n",
       "      <th>TotalPop</th>\n",
       "      <th>IncomePerCap</th>\n",
       "      <th>StCtyID</th>\n",
       "    </tr>\n",
       "  </thead>\n",
       "  <tbody>\n",
       "    <tr>\n",
       "      <th>0</th>\n",
       "      <td>Ada County</td>\n",
       "      <td>Idaho</td>\n",
       "      <td>127097</td>\n",
       "      <td>93.467234</td>\n",
       "      <td>86.539431</td>\n",
       "      <td>333</td>\n",
       "      <td>133937.0</td>\n",
       "      <td>86.151203</td>\n",
       "      <td>90.224860</td>\n",
       "      <td>333.0</td>\n",
       "      <td>Ada, Idaho</td>\n",
       "      <td>Idaho</td>\n",
       "      <td>Ada County</td>\n",
       "      <td>435117.0</td>\n",
       "      <td>31642.0</td>\n",
       "      <td>16001</td>\n",
       "    </tr>\n",
       "    <tr>\n",
       "      <th>1</th>\n",
       "      <td>Adams County</td>\n",
       "      <td>Colorado</td>\n",
       "      <td>103951</td>\n",
       "      <td>97.601508</td>\n",
       "      <td>79.333135</td>\n",
       "      <td>2218</td>\n",
       "      <td>117399.0</td>\n",
       "      <td>92.903614</td>\n",
       "      <td>87.461726</td>\n",
       "      <td>2223.0</td>\n",
       "      <td>Adams, Colorado</td>\n",
       "      <td>Colorado</td>\n",
       "      <td>Adams County</td>\n",
       "      <td>487850.0</td>\n",
       "      <td>27487.0</td>\n",
       "      <td>08001</td>\n",
       "    </tr>\n",
       "    <tr>\n",
       "      <th>2</th>\n",
       "      <td>Aiken County</td>\n",
       "      <td>South Carolina</td>\n",
       "      <td>45852</td>\n",
       "      <td>84.159299</td>\n",
       "      <td>83.773957</td>\n",
       "      <td>84</td>\n",
       "      <td>49051.0</td>\n",
       "      <td>68.370722</td>\n",
       "      <td>86.296622</td>\n",
       "      <td>83.0</td>\n",
       "      <td>Aiken, South Carolina</td>\n",
       "      <td>South Carolina</td>\n",
       "      <td>Aiken County</td>\n",
       "      <td>165707.0</td>\n",
       "      <td>26222.0</td>\n",
       "      <td>45003</td>\n",
       "    </tr>\n",
       "    <tr>\n",
       "      <th>3</th>\n",
       "      <td>Alachua County</td>\n",
       "      <td>Florida</td>\n",
       "      <td>42187</td>\n",
       "      <td>85.015194</td>\n",
       "      <td>67.926321</td>\n",
       "      <td>913</td>\n",
       "      <td>42833.0</td>\n",
       "      <td>77.902402</td>\n",
       "      <td>68.674544</td>\n",
       "      <td>912.0</td>\n",
       "      <td>Alachua, Florida</td>\n",
       "      <td>Florida</td>\n",
       "      <td>Alachua County</td>\n",
       "      <td>259865.0</td>\n",
       "      <td>26431.0</td>\n",
       "      <td>12001</td>\n",
       "    </tr>\n",
       "    <tr>\n",
       "      <th>4</th>\n",
       "      <td>Alameda County</td>\n",
       "      <td>California</td>\n",
       "      <td>329945</td>\n",
       "      <td>94.675889</td>\n",
       "      <td>88.489606</td>\n",
       "      <td>12126</td>\n",
       "      <td>372309.0</td>\n",
       "      <td>96.585338</td>\n",
       "      <td>94.294354</td>\n",
       "      <td>14127.0</td>\n",
       "      <td>Alameda, California</td>\n",
       "      <td>California</td>\n",
       "      <td>Alameda County</td>\n",
       "      <td>1629615.0</td>\n",
       "      <td>41363.0</td>\n",
       "      <td>06001</td>\n",
       "    </tr>\n",
       "  </tbody>\n",
       "</table>\n",
       "</div>"
      ],
      "text/plain": [
       "      region_name      state_name  count_qualified_17  percent_covered_17  \\\n",
       "0      Ada County           Idaho              127097           93.467234   \n",
       "1    Adams County        Colorado              103951           97.601508   \n",
       "2    Aiken County  South Carolina               45852           84.159299   \n",
       "3  Alachua County         Florida               42187           85.015194   \n",
       "4  Alameda County      California              329945           94.675889   \n",
       "\n",
       "   percent_qualified_17  existing_installs_count_17  count_qualified_21  \\\n",
       "0             86.539431                         333            133937.0   \n",
       "1             79.333135                        2218            117399.0   \n",
       "2             83.773957                          84             49051.0   \n",
       "3             67.926321                         913             42833.0   \n",
       "4             88.489606                       12126            372309.0   \n",
       "\n",
       "   percent_covered_21  percent_qualified_21  existing_installs_count_21  \\\n",
       "0           86.151203             90.224860                       333.0   \n",
       "1           92.903614             87.461726                      2223.0   \n",
       "2           68.370722             86.296622                        83.0   \n",
       "3           77.902402             68.674544                       912.0   \n",
       "4           96.585338             94.294354                     14127.0   \n",
       "\n",
       "                   CtySt           State          County   TotalPop  \\\n",
       "0             Ada, Idaho           Idaho      Ada County   435117.0   \n",
       "1        Adams, Colorado        Colorado    Adams County   487850.0   \n",
       "2  Aiken, South Carolina  South Carolina    Aiken County   165707.0   \n",
       "3       Alachua, Florida         Florida  Alachua County   259865.0   \n",
       "4    Alameda, California      California  Alameda County  1629615.0   \n",
       "\n",
       "   IncomePerCap StCtyID  \n",
       "0       31642.0   16001  \n",
       "1       27487.0   08001  \n",
       "2       26222.0   45003  \n",
       "3       26431.0   12001  \n",
       "4       41363.0   06001  "
      ]
     },
     "metadata": {},
     "output_type": "display_data"
    },
    {
     "name": "stdout",
     "output_type": "stream",
     "text": [
      "<class 'pandas.core.frame.DataFrame'>\n",
      "Int64Index: 481 entries, 0 to 480\n",
      "Data columns (total 16 columns):\n",
      " #   Column                      Non-Null Count  Dtype  \n",
      "---  ------                      --------------  -----  \n",
      " 0   region_name                 481 non-null    object \n",
      " 1   state_name                  481 non-null    object \n",
      " 2   count_qualified_17          481 non-null    int64  \n",
      " 3   percent_covered_17          481 non-null    float64\n",
      " 4   percent_qualified_17        481 non-null    float64\n",
      " 5   existing_installs_count_17  481 non-null    int64  \n",
      " 6   count_qualified_21          481 non-null    float64\n",
      " 7   percent_covered_21          481 non-null    float64\n",
      " 8   percent_qualified_21        481 non-null    float64\n",
      " 9   existing_installs_count_21  481 non-null    float64\n",
      " 10  CtySt                       481 non-null    object \n",
      " 11  State                       479 non-null    object \n",
      " 12  County                      479 non-null    object \n",
      " 13  TotalPop                    479 non-null    float64\n",
      " 14  IncomePerCap                479 non-null    float64\n",
      " 15  StCtyID                     479 non-null    object \n",
      "dtypes: float64(8), int64(2), object(6)\n",
      "memory usage: 63.9+ KB\n"
     ]
    },
    {
     "data": {
      "text/plain": [
       "None"
      ]
     },
     "metadata": {},
     "output_type": "display_data"
    }
   ],
   "source": [
    "# merge the income and population data with the solar data\n",
    "df_sol3 = df_sol2.merge(df_cens2, how='left', left_on=['region_name','state_name'], right_on=['County','State'])\n",
    "display(df_sol3.head())\n",
    "display(df_sol3.info())"
   ]
  },
  {
   "cell_type": "markdown",
   "metadata": {},
   "source": [
    "For some reason, we didn't match two counties with census data. Let's see what they were."
   ]
  },
  {
   "cell_type": "code",
   "execution_count": 246,
   "metadata": {},
   "outputs": [
    {
     "data": {
      "text/html": [
       "<div>\n",
       "<style scoped>\n",
       "    .dataframe tbody tr th:only-of-type {\n",
       "        vertical-align: middle;\n",
       "    }\n",
       "\n",
       "    .dataframe tbody tr th {\n",
       "        vertical-align: top;\n",
       "    }\n",
       "\n",
       "    .dataframe thead th {\n",
       "        text-align: right;\n",
       "    }\n",
       "</style>\n",
       "<table border=\"1\" class=\"dataframe\">\n",
       "  <thead>\n",
       "    <tr style=\"text-align: right;\">\n",
       "      <th></th>\n",
       "      <th>region_name</th>\n",
       "      <th>state_name</th>\n",
       "      <th>count_qualified_17</th>\n",
       "      <th>percent_covered_17</th>\n",
       "      <th>percent_qualified_17</th>\n",
       "      <th>existing_installs_count_17</th>\n",
       "      <th>count_qualified_21</th>\n",
       "      <th>percent_covered_21</th>\n",
       "      <th>percent_qualified_21</th>\n",
       "      <th>existing_installs_count_21</th>\n",
       "      <th>CtySt</th>\n",
       "      <th>State</th>\n",
       "      <th>County</th>\n",
       "      <th>TotalPop</th>\n",
       "      <th>IncomePerCap</th>\n",
       "      <th>StCtyID</th>\n",
       "    </tr>\n",
       "  </thead>\n",
       "  <tbody>\n",
       "    <tr>\n",
       "      <th>9</th>\n",
       "      <td>Anchorage</td>\n",
       "      <td>Alaska</td>\n",
       "      <td>19334</td>\n",
       "      <td>78.879929</td>\n",
       "      <td>30.881531</td>\n",
       "      <td>80</td>\n",
       "      <td>48123.0</td>\n",
       "      <td>78.038647</td>\n",
       "      <td>75.800964</td>\n",
       "      <td>80.0</td>\n",
       "      <td>AnchorageAlaska</td>\n",
       "      <td>NaN</td>\n",
       "      <td>NaN</td>\n",
       "      <td>NaN</td>\n",
       "      <td>NaN</td>\n",
       "      <td>NaN</td>\n",
       "    </tr>\n",
       "    <tr>\n",
       "      <th>146</th>\n",
       "      <td>Fairbanks North Star</td>\n",
       "      <td>Alaska</td>\n",
       "      <td>8249</td>\n",
       "      <td>62.142972</td>\n",
       "      <td>70.867698</td>\n",
       "      <td>3</td>\n",
       "      <td>9046.0</td>\n",
       "      <td>55.498757</td>\n",
       "      <td>75.064310</td>\n",
       "      <td>3.0</td>\n",
       "      <td>Fairbanks North StarAlaska</td>\n",
       "      <td>NaN</td>\n",
       "      <td>NaN</td>\n",
       "      <td>NaN</td>\n",
       "      <td>NaN</td>\n",
       "      <td>NaN</td>\n",
       "    </tr>\n",
       "  </tbody>\n",
       "</table>\n",
       "</div>"
      ],
      "text/plain": [
       "              region_name state_name  count_qualified_17  percent_covered_17  \\\n",
       "9               Anchorage     Alaska               19334           78.879929   \n",
       "146  Fairbanks North Star     Alaska                8249           62.142972   \n",
       "\n",
       "     percent_qualified_17  existing_installs_count_17  count_qualified_21  \\\n",
       "9               30.881531                          80             48123.0   \n",
       "146             70.867698                           3              9046.0   \n",
       "\n",
       "     percent_covered_21  percent_qualified_21  existing_installs_count_21  \\\n",
       "9             78.038647             75.800964                        80.0   \n",
       "146           55.498757             75.064310                         3.0   \n",
       "\n",
       "                          CtySt State County  TotalPop  IncomePerCap StCtyID  \n",
       "9               AnchorageAlaska   NaN    NaN       NaN           NaN     NaN  \n",
       "146  Fairbanks North StarAlaska   NaN    NaN       NaN           NaN     NaN  "
      ]
     },
     "execution_count": 246,
     "metadata": {},
     "output_type": "execute_result"
    }
   ],
   "source": [
    "df_sol3[df_sol3['StCtyID'].isnull()]"
   ]
  },
  {
   "cell_type": "markdown",
   "metadata": {},
   "source": [
    "The two lost counties are in Alaska. Let's make sure these are the only Alaska counties in the Project Sunroof data."
   ]
  },
  {
   "cell_type": "code",
   "execution_count": 247,
   "metadata": {},
   "outputs": [
    {
     "data": {
      "text/html": [
       "<div>\n",
       "<style scoped>\n",
       "    .dataframe tbody tr th:only-of-type {\n",
       "        vertical-align: middle;\n",
       "    }\n",
       "\n",
       "    .dataframe tbody tr th {\n",
       "        vertical-align: top;\n",
       "    }\n",
       "\n",
       "    .dataframe thead th {\n",
       "        text-align: right;\n",
       "    }\n",
       "</style>\n",
       "<table border=\"1\" class=\"dataframe\">\n",
       "  <thead>\n",
       "    <tr style=\"text-align: right;\">\n",
       "      <th></th>\n",
       "      <th>region_name</th>\n",
       "      <th>state_name</th>\n",
       "      <th>count_qualified_17</th>\n",
       "      <th>percent_covered_17</th>\n",
       "      <th>percent_qualified_17</th>\n",
       "      <th>existing_installs_count_17</th>\n",
       "      <th>count_qualified_21</th>\n",
       "      <th>percent_covered_21</th>\n",
       "      <th>percent_qualified_21</th>\n",
       "      <th>existing_installs_count_21</th>\n",
       "      <th>CtySt</th>\n",
       "      <th>State</th>\n",
       "      <th>County</th>\n",
       "      <th>TotalPop</th>\n",
       "      <th>IncomePerCap</th>\n",
       "      <th>StCtyID</th>\n",
       "    </tr>\n",
       "  </thead>\n",
       "  <tbody>\n",
       "    <tr>\n",
       "      <th>9</th>\n",
       "      <td>Anchorage</td>\n",
       "      <td>Alaska</td>\n",
       "      <td>19334</td>\n",
       "      <td>78.879929</td>\n",
       "      <td>30.881531</td>\n",
       "      <td>80</td>\n",
       "      <td>48123.0</td>\n",
       "      <td>78.038647</td>\n",
       "      <td>75.800964</td>\n",
       "      <td>80.0</td>\n",
       "      <td>AnchorageAlaska</td>\n",
       "      <td>NaN</td>\n",
       "      <td>NaN</td>\n",
       "      <td>NaN</td>\n",
       "      <td>NaN</td>\n",
       "      <td>NaN</td>\n",
       "    </tr>\n",
       "    <tr>\n",
       "      <th>146</th>\n",
       "      <td>Fairbanks North Star</td>\n",
       "      <td>Alaska</td>\n",
       "      <td>8249</td>\n",
       "      <td>62.142972</td>\n",
       "      <td>70.867698</td>\n",
       "      <td>3</td>\n",
       "      <td>9046.0</td>\n",
       "      <td>55.498757</td>\n",
       "      <td>75.064310</td>\n",
       "      <td>3.0</td>\n",
       "      <td>Fairbanks North StarAlaska</td>\n",
       "      <td>NaN</td>\n",
       "      <td>NaN</td>\n",
       "      <td>NaN</td>\n",
       "      <td>NaN</td>\n",
       "      <td>NaN</td>\n",
       "    </tr>\n",
       "  </tbody>\n",
       "</table>\n",
       "</div>"
      ],
      "text/plain": [
       "              region_name state_name  count_qualified_17  percent_covered_17  \\\n",
       "9               Anchorage     Alaska               19334           78.879929   \n",
       "146  Fairbanks North Star     Alaska                8249           62.142972   \n",
       "\n",
       "     percent_qualified_17  existing_installs_count_17  count_qualified_21  \\\n",
       "9               30.881531                          80             48123.0   \n",
       "146             70.867698                           3              9046.0   \n",
       "\n",
       "     percent_covered_21  percent_qualified_21  existing_installs_count_21  \\\n",
       "9             78.038647             75.800964                        80.0   \n",
       "146           55.498757             75.064310                         3.0   \n",
       "\n",
       "                          CtySt State County  TotalPop  IncomePerCap StCtyID  \n",
       "9               AnchorageAlaska   NaN    NaN       NaN           NaN     NaN  \n",
       "146  Fairbanks North StarAlaska   NaN    NaN       NaN           NaN     NaN  "
      ]
     },
     "execution_count": 247,
     "metadata": {},
     "output_type": "execute_result"
    }
   ],
   "source": [
    "df_sol3[df_sol3['state_name'] == 'Alaska']"
   ]
  },
  {
   "cell_type": "markdown",
   "metadata": {},
   "source": [
    "They are the only two, so it seems like an Alaska-specific problem. Let's see how the census lists counties in Alaska."
   ]
  },
  {
   "cell_type": "code",
   "execution_count": 248,
   "metadata": {},
   "outputs": [
    {
     "data": {
      "text/html": [
       "<div>\n",
       "<style scoped>\n",
       "    .dataframe tbody tr th:only-of-type {\n",
       "        vertical-align: middle;\n",
       "    }\n",
       "\n",
       "    .dataframe tbody tr th {\n",
       "        vertical-align: top;\n",
       "    }\n",
       "\n",
       "    .dataframe thead th {\n",
       "        text-align: right;\n",
       "    }\n",
       "</style>\n",
       "<table border=\"1\" class=\"dataframe\">\n",
       "  <thead>\n",
       "    <tr style=\"text-align: right;\">\n",
       "      <th></th>\n",
       "      <th>State</th>\n",
       "      <th>County</th>\n",
       "      <th>TotalPop</th>\n",
       "      <th>IncomePerCap</th>\n",
       "      <th>StCtyID</th>\n",
       "    </tr>\n",
       "  </thead>\n",
       "  <tbody>\n",
       "    <tr>\n",
       "      <th>67</th>\n",
       "      <td>Alaska</td>\n",
       "      <td>Aleutians East Borough</td>\n",
       "      <td>3338</td>\n",
       "      <td>31254</td>\n",
       "      <td>02013</td>\n",
       "    </tr>\n",
       "    <tr>\n",
       "      <th>68</th>\n",
       "      <td>Alaska</td>\n",
       "      <td>Aleutians West Census Area</td>\n",
       "      <td>5784</td>\n",
       "      <td>35998</td>\n",
       "      <td>02016</td>\n",
       "    </tr>\n",
       "    <tr>\n",
       "      <th>69</th>\n",
       "      <td>Alaska</td>\n",
       "      <td>Anchorage Municipality</td>\n",
       "      <td>298225</td>\n",
       "      <td>38977</td>\n",
       "      <td>02020</td>\n",
       "    </tr>\n",
       "    <tr>\n",
       "      <th>70</th>\n",
       "      <td>Alaska</td>\n",
       "      <td>Bethel Census Area</td>\n",
       "      <td>17957</td>\n",
       "      <td>18654</td>\n",
       "      <td>02050</td>\n",
       "    </tr>\n",
       "    <tr>\n",
       "      <th>71</th>\n",
       "      <td>Alaska</td>\n",
       "      <td>Bristol Bay Borough</td>\n",
       "      <td>917</td>\n",
       "      <td>42002</td>\n",
       "      <td>02060</td>\n",
       "    </tr>\n",
       "    <tr>\n",
       "      <th>72</th>\n",
       "      <td>Alaska</td>\n",
       "      <td>Denali Borough</td>\n",
       "      <td>2303</td>\n",
       "      <td>33084</td>\n",
       "      <td>02068</td>\n",
       "    </tr>\n",
       "    <tr>\n",
       "      <th>73</th>\n",
       "      <td>Alaska</td>\n",
       "      <td>Dillingham Census Area</td>\n",
       "      <td>4974</td>\n",
       "      <td>24647</td>\n",
       "      <td>02070</td>\n",
       "    </tr>\n",
       "    <tr>\n",
       "      <th>74</th>\n",
       "      <td>Alaska</td>\n",
       "      <td>Fairbanks North Star Borough</td>\n",
       "      <td>100031</td>\n",
       "      <td>35328</td>\n",
       "      <td>02090</td>\n",
       "    </tr>\n",
       "    <tr>\n",
       "      <th>75</th>\n",
       "      <td>Alaska</td>\n",
       "      <td>Haines Borough</td>\n",
       "      <td>2537</td>\n",
       "      <td>35907</td>\n",
       "      <td>02100</td>\n",
       "    </tr>\n",
       "    <tr>\n",
       "      <th>76</th>\n",
       "      <td>Alaska</td>\n",
       "      <td>Hoonah-Angoon Census Area</td>\n",
       "      <td>2146</td>\n",
       "      <td>33704</td>\n",
       "      <td>02105</td>\n",
       "    </tr>\n",
       "    <tr>\n",
       "      <th>77</th>\n",
       "      <td>Alaska</td>\n",
       "      <td>Juneau City and Borough</td>\n",
       "      <td>32434</td>\n",
       "      <td>41904</td>\n",
       "      <td>02110</td>\n",
       "    </tr>\n",
       "    <tr>\n",
       "      <th>78</th>\n",
       "      <td>Alaska</td>\n",
       "      <td>Kenai Peninsula Borough</td>\n",
       "      <td>57961</td>\n",
       "      <td>33336</td>\n",
       "      <td>02122</td>\n",
       "    </tr>\n",
       "    <tr>\n",
       "      <th>79</th>\n",
       "      <td>Alaska</td>\n",
       "      <td>Ketchikan Gateway Borough</td>\n",
       "      <td>13745</td>\n",
       "      <td>33771</td>\n",
       "      <td>02130</td>\n",
       "    </tr>\n",
       "    <tr>\n",
       "      <th>80</th>\n",
       "      <td>Alaska</td>\n",
       "      <td>Kodiak Island Borough</td>\n",
       "      <td>13773</td>\n",
       "      <td>32625</td>\n",
       "      <td>02150</td>\n",
       "    </tr>\n",
       "    <tr>\n",
       "      <th>81</th>\n",
       "      <td>Alaska</td>\n",
       "      <td>Kusilvak Census Area</td>\n",
       "      <td>8129</td>\n",
       "      <td>11693</td>\n",
       "      <td>02158</td>\n",
       "    </tr>\n",
       "    <tr>\n",
       "      <th>82</th>\n",
       "      <td>Alaska</td>\n",
       "      <td>Lake and Peninsula Borough</td>\n",
       "      <td>1301</td>\n",
       "      <td>23434</td>\n",
       "      <td>02164</td>\n",
       "    </tr>\n",
       "    <tr>\n",
       "      <th>83</th>\n",
       "      <td>Alaska</td>\n",
       "      <td>Matanuska-Susitna Borough</td>\n",
       "      <td>101135</td>\n",
       "      <td>30409</td>\n",
       "      <td>02170</td>\n",
       "    </tr>\n",
       "    <tr>\n",
       "      <th>84</th>\n",
       "      <td>Alaska</td>\n",
       "      <td>Nome Census Area</td>\n",
       "      <td>9869</td>\n",
       "      <td>20952</td>\n",
       "      <td>02180</td>\n",
       "    </tr>\n",
       "    <tr>\n",
       "      <th>85</th>\n",
       "      <td>Alaska</td>\n",
       "      <td>North Slope Borough</td>\n",
       "      <td>9757</td>\n",
       "      <td>48777</td>\n",
       "      <td>02185</td>\n",
       "    </tr>\n",
       "    <tr>\n",
       "      <th>86</th>\n",
       "      <td>Alaska</td>\n",
       "      <td>Northwest Arctic Borough</td>\n",
       "      <td>7715</td>\n",
       "      <td>21879</td>\n",
       "      <td>02188</td>\n",
       "    </tr>\n",
       "    <tr>\n",
       "      <th>87</th>\n",
       "      <td>Alaska</td>\n",
       "      <td>Petersburg Borough</td>\n",
       "      <td>3275</td>\n",
       "      <td>35044</td>\n",
       "      <td>02195</td>\n",
       "    </tr>\n",
       "    <tr>\n",
       "      <th>88</th>\n",
       "      <td>Alaska</td>\n",
       "      <td>Prince of Wales-Hyder Census Area</td>\n",
       "      <td>6473</td>\n",
       "      <td>26695</td>\n",
       "      <td>02198</td>\n",
       "    </tr>\n",
       "    <tr>\n",
       "      <th>89</th>\n",
       "      <td>Alaska</td>\n",
       "      <td>Sitka City and Borough</td>\n",
       "      <td>8810</td>\n",
       "      <td>36617</td>\n",
       "      <td>02220</td>\n",
       "    </tr>\n",
       "    <tr>\n",
       "      <th>90</th>\n",
       "      <td>Alaska</td>\n",
       "      <td>Skagway Municipality</td>\n",
       "      <td>1038</td>\n",
       "      <td>39376</td>\n",
       "      <td>02230</td>\n",
       "    </tr>\n",
       "    <tr>\n",
       "      <th>91</th>\n",
       "      <td>Alaska</td>\n",
       "      <td>Southeast Fairbanks Census Area</td>\n",
       "      <td>6889</td>\n",
       "      <td>31051</td>\n",
       "      <td>02240</td>\n",
       "    </tr>\n",
       "    <tr>\n",
       "      <th>92</th>\n",
       "      <td>Alaska</td>\n",
       "      <td>Valdez-Cordova Census Area</td>\n",
       "      <td>9439</td>\n",
       "      <td>37935</td>\n",
       "      <td>02261</td>\n",
       "    </tr>\n",
       "    <tr>\n",
       "      <th>93</th>\n",
       "      <td>Alaska</td>\n",
       "      <td>Wrangell City and Borough</td>\n",
       "      <td>2475</td>\n",
       "      <td>29943</td>\n",
       "      <td>02275</td>\n",
       "    </tr>\n",
       "    <tr>\n",
       "      <th>94</th>\n",
       "      <td>Alaska</td>\n",
       "      <td>Yakutat City and Borough</td>\n",
       "      <td>682</td>\n",
       "      <td>32393</td>\n",
       "      <td>02282</td>\n",
       "    </tr>\n",
       "    <tr>\n",
       "      <th>95</th>\n",
       "      <td>Alaska</td>\n",
       "      <td>Yukon-Koyukuk Census Area</td>\n",
       "      <td>5453</td>\n",
       "      <td>21057</td>\n",
       "      <td>02290</td>\n",
       "    </tr>\n",
       "  </tbody>\n",
       "</table>\n",
       "</div>"
      ],
      "text/plain": [
       "     State                             County  TotalPop  IncomePerCap StCtyID\n",
       "67  Alaska             Aleutians East Borough      3338         31254   02013\n",
       "68  Alaska         Aleutians West Census Area      5784         35998   02016\n",
       "69  Alaska             Anchorage Municipality    298225         38977   02020\n",
       "70  Alaska                 Bethel Census Area     17957         18654   02050\n",
       "71  Alaska                Bristol Bay Borough       917         42002   02060\n",
       "72  Alaska                     Denali Borough      2303         33084   02068\n",
       "73  Alaska             Dillingham Census Area      4974         24647   02070\n",
       "74  Alaska       Fairbanks North Star Borough    100031         35328   02090\n",
       "75  Alaska                     Haines Borough      2537         35907   02100\n",
       "76  Alaska          Hoonah-Angoon Census Area      2146         33704   02105\n",
       "77  Alaska            Juneau City and Borough     32434         41904   02110\n",
       "78  Alaska            Kenai Peninsula Borough     57961         33336   02122\n",
       "79  Alaska          Ketchikan Gateway Borough     13745         33771   02130\n",
       "80  Alaska              Kodiak Island Borough     13773         32625   02150\n",
       "81  Alaska               Kusilvak Census Area      8129         11693   02158\n",
       "82  Alaska         Lake and Peninsula Borough      1301         23434   02164\n",
       "83  Alaska          Matanuska-Susitna Borough    101135         30409   02170\n",
       "84  Alaska                   Nome Census Area      9869         20952   02180\n",
       "85  Alaska                North Slope Borough      9757         48777   02185\n",
       "86  Alaska           Northwest Arctic Borough      7715         21879   02188\n",
       "87  Alaska                 Petersburg Borough      3275         35044   02195\n",
       "88  Alaska  Prince of Wales-Hyder Census Area      6473         26695   02198\n",
       "89  Alaska             Sitka City and Borough      8810         36617   02220\n",
       "90  Alaska               Skagway Municipality      1038         39376   02230\n",
       "91  Alaska    Southeast Fairbanks Census Area      6889         31051   02240\n",
       "92  Alaska         Valdez-Cordova Census Area      9439         37935   02261\n",
       "93  Alaska          Wrangell City and Borough      2475         29943   02275\n",
       "94  Alaska           Yakutat City and Borough       682         32393   02282\n",
       "95  Alaska          Yukon-Koyukuk Census Area      5453         21057   02290"
      ]
     },
     "execution_count": 248,
     "metadata": {},
     "output_type": "execute_result"
    }
   ],
   "source": [
    "df_cens2[df_cens2['State']=='Alaska']"
   ]
  },
  {
   "cell_type": "markdown",
   "metadata": {},
   "source": [
    "It looks like Alaska \"counties\" have multiple names that aren't \"County\" and the Project Sunroof didn't include these suffixes in its dataset. Let's rename the two Alaska \"areas\" so they match."
   ]
  },
  {
   "cell_type": "code",
   "execution_count": 249,
   "metadata": {},
   "outputs": [
    {
     "data": {
      "text/html": [
       "<div>\n",
       "<style scoped>\n",
       "    .dataframe tbody tr th:only-of-type {\n",
       "        vertical-align: middle;\n",
       "    }\n",
       "\n",
       "    .dataframe tbody tr th {\n",
       "        vertical-align: top;\n",
       "    }\n",
       "\n",
       "    .dataframe thead th {\n",
       "        text-align: right;\n",
       "    }\n",
       "</style>\n",
       "<table border=\"1\" class=\"dataframe\">\n",
       "  <thead>\n",
       "    <tr style=\"text-align: right;\">\n",
       "      <th></th>\n",
       "      <th>region_name</th>\n",
       "      <th>state_name</th>\n",
       "      <th>count_qualified_17</th>\n",
       "      <th>percent_covered_17</th>\n",
       "      <th>percent_qualified_17</th>\n",
       "      <th>existing_installs_count_17</th>\n",
       "      <th>count_qualified_21</th>\n",
       "      <th>percent_covered_21</th>\n",
       "      <th>percent_qualified_21</th>\n",
       "      <th>existing_installs_count_21</th>\n",
       "      <th>CtySt</th>\n",
       "    </tr>\n",
       "  </thead>\n",
       "  <tbody>\n",
       "    <tr>\n",
       "      <th>17</th>\n",
       "      <td>Anchorage</td>\n",
       "      <td>Alaska</td>\n",
       "      <td>19334</td>\n",
       "      <td>78.879929</td>\n",
       "      <td>30.881531</td>\n",
       "      <td>80</td>\n",
       "      <td>48123.0</td>\n",
       "      <td>78.038647</td>\n",
       "      <td>75.800964</td>\n",
       "      <td>80.0</td>\n",
       "      <td>AnchorageAlaska</td>\n",
       "    </tr>\n",
       "    <tr>\n",
       "      <th>269</th>\n",
       "      <td>Fairbanks North Star</td>\n",
       "      <td>Alaska</td>\n",
       "      <td>8249</td>\n",
       "      <td>62.142972</td>\n",
       "      <td>70.867698</td>\n",
       "      <td>3</td>\n",
       "      <td>9046.0</td>\n",
       "      <td>55.498757</td>\n",
       "      <td>75.064310</td>\n",
       "      <td>3.0</td>\n",
       "      <td>Fairbanks North StarAlaska</td>\n",
       "    </tr>\n",
       "  </tbody>\n",
       "</table>\n",
       "</div>"
      ],
      "text/plain": [
       "              region_name state_name  count_qualified_17  percent_covered_17  \\\n",
       "17              Anchorage     Alaska               19334           78.879929   \n",
       "269  Fairbanks North Star     Alaska                8249           62.142972   \n",
       "\n",
       "     percent_qualified_17  existing_installs_count_17  count_qualified_21  \\\n",
       "17              30.881531                          80             48123.0   \n",
       "269             70.867698                           3              9046.0   \n",
       "\n",
       "     percent_covered_21  percent_qualified_21  existing_installs_count_21  \\\n",
       "17            78.038647             75.800964                        80.0   \n",
       "269           55.498757             75.064310                         3.0   \n",
       "\n",
       "                          CtySt  \n",
       "17              AnchorageAlaska  \n",
       "269  Fairbanks North StarAlaska  "
      ]
     },
     "metadata": {},
     "output_type": "display_data"
    }
   ],
   "source": [
    "# go back to the pre-merge solar dataset and rename the two Alaska \"counties\"\n",
    "display(df_sol2[df_sol2['state_name'] == 'Alaska'])"
   ]
  },
  {
   "cell_type": "code",
   "execution_count": 250,
   "metadata": {},
   "outputs": [
    {
     "name": "stderr",
     "output_type": "stream",
     "text": [
      "/home/umahp/anaconda3/lib/python3.8/site-packages/pandas/core/indexing.py:670: SettingWithCopyWarning: \n",
      "A value is trying to be set on a copy of a slice from a DataFrame\n",
      "\n",
      "See the caveats in the documentation: https://pandas.pydata.org/pandas-docs/stable/user_guide/indexing.html#returning-a-view-versus-a-copy\n",
      "  iloc._setitem_with_indexer(indexer, value)\n",
      "<ipython-input-250-17b89b777afe>:1: SettingWithCopyWarning: \n",
      "A value is trying to be set on a copy of a slice from a DataFrame\n",
      "\n",
      "See the caveats in the documentation: https://pandas.pydata.org/pandas-docs/stable/user_guide/indexing.html#returning-a-view-versus-a-copy\n",
      "  df_sol2['region_name'].loc[17] = 'Anchorage Municipality'\n",
      "<ipython-input-250-17b89b777afe>:2: SettingWithCopyWarning: \n",
      "A value is trying to be set on a copy of a slice from a DataFrame\n",
      "\n",
      "See the caveats in the documentation: https://pandas.pydata.org/pandas-docs/stable/user_guide/indexing.html#returning-a-view-versus-a-copy\n",
      "  df_sol2['region_name'].loc[269] = 'Fairbanks North Star Borough'\n"
     ]
    },
    {
     "data": {
      "text/html": [
       "<div>\n",
       "<style scoped>\n",
       "    .dataframe tbody tr th:only-of-type {\n",
       "        vertical-align: middle;\n",
       "    }\n",
       "\n",
       "    .dataframe tbody tr th {\n",
       "        vertical-align: top;\n",
       "    }\n",
       "\n",
       "    .dataframe thead th {\n",
       "        text-align: right;\n",
       "    }\n",
       "</style>\n",
       "<table border=\"1\" class=\"dataframe\">\n",
       "  <thead>\n",
       "    <tr style=\"text-align: right;\">\n",
       "      <th></th>\n",
       "      <th>region_name</th>\n",
       "      <th>state_name</th>\n",
       "      <th>count_qualified_17</th>\n",
       "      <th>percent_covered_17</th>\n",
       "      <th>percent_qualified_17</th>\n",
       "      <th>existing_installs_count_17</th>\n",
       "      <th>count_qualified_21</th>\n",
       "      <th>percent_covered_21</th>\n",
       "      <th>percent_qualified_21</th>\n",
       "      <th>existing_installs_count_21</th>\n",
       "      <th>CtySt</th>\n",
       "    </tr>\n",
       "  </thead>\n",
       "  <tbody>\n",
       "    <tr>\n",
       "      <th>17</th>\n",
       "      <td>Anchorage Municipality</td>\n",
       "      <td>Alaska</td>\n",
       "      <td>19334</td>\n",
       "      <td>78.879929</td>\n",
       "      <td>30.881531</td>\n",
       "      <td>80</td>\n",
       "      <td>48123.0</td>\n",
       "      <td>78.038647</td>\n",
       "      <td>75.800964</td>\n",
       "      <td>80.0</td>\n",
       "      <td>AnchorageAlaska</td>\n",
       "    </tr>\n",
       "    <tr>\n",
       "      <th>269</th>\n",
       "      <td>Fairbanks North Star Borough</td>\n",
       "      <td>Alaska</td>\n",
       "      <td>8249</td>\n",
       "      <td>62.142972</td>\n",
       "      <td>70.867698</td>\n",
       "      <td>3</td>\n",
       "      <td>9046.0</td>\n",
       "      <td>55.498757</td>\n",
       "      <td>75.064310</td>\n",
       "      <td>3.0</td>\n",
       "      <td>Fairbanks North StarAlaska</td>\n",
       "    </tr>\n",
       "  </tbody>\n",
       "</table>\n",
       "</div>"
      ],
      "text/plain": [
       "                      region_name state_name  count_qualified_17  \\\n",
       "17         Anchorage Municipality     Alaska               19334   \n",
       "269  Fairbanks North Star Borough     Alaska                8249   \n",
       "\n",
       "     percent_covered_17  percent_qualified_17  existing_installs_count_17  \\\n",
       "17            78.879929             30.881531                          80   \n",
       "269           62.142972             70.867698                           3   \n",
       "\n",
       "     count_qualified_21  percent_covered_21  percent_qualified_21  \\\n",
       "17              48123.0           78.038647             75.800964   \n",
       "269              9046.0           55.498757             75.064310   \n",
       "\n",
       "     existing_installs_count_21                       CtySt  \n",
       "17                         80.0             AnchorageAlaska  \n",
       "269                         3.0  Fairbanks North StarAlaska  "
      ]
     },
     "metadata": {},
     "output_type": "display_data"
    }
   ],
   "source": [
    "df_sol2['region_name'].loc[17] = 'Anchorage Municipality'\n",
    "df_sol2['region_name'].loc[269] = 'Fairbanks North Star Borough'\n",
    "# check it\n",
    "display(df_sol2[df_sol2['state_name'] == 'Alaska'])"
   ]
  },
  {
   "cell_type": "code",
   "execution_count": 251,
   "metadata": {},
   "outputs": [
    {
     "name": "stdout",
     "output_type": "stream",
     "text": [
      "<class 'pandas.core.frame.DataFrame'>\n",
      "Int64Index: 481 entries, 0 to 480\n",
      "Data columns (total 16 columns):\n",
      " #   Column                      Non-Null Count  Dtype  \n",
      "---  ------                      --------------  -----  \n",
      " 0   region_name                 481 non-null    object \n",
      " 1   state_name                  481 non-null    object \n",
      " 2   count_qualified_17          481 non-null    int64  \n",
      " 3   percent_covered_17          481 non-null    float64\n",
      " 4   percent_qualified_17        481 non-null    float64\n",
      " 5   existing_installs_count_17  481 non-null    int64  \n",
      " 6   count_qualified_21          481 non-null    float64\n",
      " 7   percent_covered_21          481 non-null    float64\n",
      " 8   percent_qualified_21        481 non-null    float64\n",
      " 9   existing_installs_count_21  481 non-null    float64\n",
      " 10  CtySt                       481 non-null    object \n",
      " 11  State                       481 non-null    object \n",
      " 12  County                      481 non-null    object \n",
      " 13  TotalPop                    481 non-null    int64  \n",
      " 14  IncomePerCap                481 non-null    int64  \n",
      " 15  StCtyID                     481 non-null    object \n",
      "dtypes: float64(6), int64(4), object(6)\n",
      "memory usage: 63.9+ KB\n"
     ]
    },
    {
     "data": {
      "text/plain": [
       "None"
      ]
     },
     "metadata": {},
     "output_type": "display_data"
    }
   ],
   "source": [
    "# re-do the merge\n",
    "df_sol3 = df_sol2.merge(df_cens2, how='left', left_on=['region_name','state_name'], right_on=['County','State'])\n",
    "display(df_sol3.info())"
   ]
  },
  {
   "cell_type": "markdown",
   "metadata": {},
   "source": [
    "OK, now we have all the counties."
   ]
  },
  {
   "cell_type": "code",
   "execution_count": 252,
   "metadata": {},
   "outputs": [],
   "source": [
    "# these columns can now be dropped since they duplicates\n",
    "df_sol3.drop(['State','County'], axis=1, inplace=True)"
   ]
  },
  {
   "cell_type": "code",
   "execution_count": 253,
   "metadata": {},
   "outputs": [],
   "source": [
    "# land area data (for population density)\n",
    "# keep only the needed cols. \n",
    "# 'LND110210D' is land area based on 2010 census\n",
    "df_lnd1 = df_lnd[['STCOU','LND110210D']]"
   ]
  },
  {
   "cell_type": "code",
   "execution_count": 254,
   "metadata": {},
   "outputs": [
    {
     "name": "stdout",
     "output_type": "stream",
     "text": [
      "<class 'pandas.core.frame.DataFrame'>\n",
      "RangeIndex: 3198 entries, 0 to 3197\n",
      "Data columns (total 2 columns):\n",
      " #   Column      Non-Null Count  Dtype  \n",
      "---  ------      --------------  -----  \n",
      " 0   STCOU       3198 non-null   int64  \n",
      " 1   LND110210D  3198 non-null   float64\n",
      "dtypes: float64(1), int64(1)\n",
      "memory usage: 50.1 KB\n"
     ]
    }
   ],
   "source": [
    "df_lnd1.info()"
   ]
  },
  {
   "cell_type": "code",
   "execution_count": 255,
   "metadata": {},
   "outputs": [
    {
     "name": "stderr",
     "output_type": "stream",
     "text": [
      "<ipython-input-255-24a99a35fa1c>:2: SettingWithCopyWarning: \n",
      "A value is trying to be set on a copy of a slice from a DataFrame.\n",
      "Try using .loc[row_indexer,col_indexer] = value instead\n",
      "\n",
      "See the caveats in the documentation: https://pandas.pydata.org/pandas-docs/stable/user_guide/indexing.html#returning-a-view-versus-a-copy\n",
      "  df_lnd1['StCtyID'] = df_lnd1['STCOU'].astype(str).apply(lambda x: x.zfill(5))\n"
     ]
    },
    {
     "data": {
      "text/html": [
       "<div>\n",
       "<style scoped>\n",
       "    .dataframe tbody tr th:only-of-type {\n",
       "        vertical-align: middle;\n",
       "    }\n",
       "\n",
       "    .dataframe tbody tr th {\n",
       "        vertical-align: top;\n",
       "    }\n",
       "\n",
       "    .dataframe thead th {\n",
       "        text-align: right;\n",
       "    }\n",
       "</style>\n",
       "<table border=\"1\" class=\"dataframe\">\n",
       "  <thead>\n",
       "    <tr style=\"text-align: right;\">\n",
       "      <th></th>\n",
       "      <th>STCOU</th>\n",
       "      <th>LND110210D</th>\n",
       "      <th>StCtyID</th>\n",
       "    </tr>\n",
       "  </thead>\n",
       "  <tbody>\n",
       "    <tr>\n",
       "      <th>0</th>\n",
       "      <td>0</td>\n",
       "      <td>3531905.43</td>\n",
       "      <td>00000</td>\n",
       "    </tr>\n",
       "    <tr>\n",
       "      <th>1</th>\n",
       "      <td>1000</td>\n",
       "      <td>50645.33</td>\n",
       "      <td>01000</td>\n",
       "    </tr>\n",
       "    <tr>\n",
       "      <th>2</th>\n",
       "      <td>1001</td>\n",
       "      <td>594.44</td>\n",
       "      <td>01001</td>\n",
       "    </tr>\n",
       "  </tbody>\n",
       "</table>\n",
       "</div>"
      ],
      "text/plain": [
       "   STCOU  LND110210D StCtyID\n",
       "0      0  3531905.43   00000\n",
       "1   1000    50645.33   01000\n",
       "2   1001      594.44   01001"
      ]
     },
     "metadata": {},
     "output_type": "display_data"
    },
    {
     "data": {
      "text/html": [
       "<div>\n",
       "<style scoped>\n",
       "    .dataframe tbody tr th:only-of-type {\n",
       "        vertical-align: middle;\n",
       "    }\n",
       "\n",
       "    .dataframe tbody tr th {\n",
       "        vertical-align: top;\n",
       "    }\n",
       "\n",
       "    .dataframe thead th {\n",
       "        text-align: right;\n",
       "    }\n",
       "</style>\n",
       "<table border=\"1\" class=\"dataframe\">\n",
       "  <thead>\n",
       "    <tr style=\"text-align: right;\">\n",
       "      <th></th>\n",
       "      <th>STCOU</th>\n",
       "      <th>LND110210D</th>\n",
       "      <th>StCtyID</th>\n",
       "    </tr>\n",
       "  </thead>\n",
       "  <tbody>\n",
       "    <tr>\n",
       "      <th>3195</th>\n",
       "      <td>56041</td>\n",
       "      <td>2081.26</td>\n",
       "      <td>56041</td>\n",
       "    </tr>\n",
       "    <tr>\n",
       "      <th>3196</th>\n",
       "      <td>56043</td>\n",
       "      <td>2238.55</td>\n",
       "      <td>56043</td>\n",
       "    </tr>\n",
       "    <tr>\n",
       "      <th>3197</th>\n",
       "      <td>56045</td>\n",
       "      <td>2398.09</td>\n",
       "      <td>56045</td>\n",
       "    </tr>\n",
       "  </tbody>\n",
       "</table>\n",
       "</div>"
      ],
      "text/plain": [
       "      STCOU  LND110210D StCtyID\n",
       "3195  56041     2081.26   56041\n",
       "3196  56043     2238.55   56043\n",
       "3197  56045     2398.09   56045"
      ]
     },
     "metadata": {},
     "output_type": "display_data"
    }
   ],
   "source": [
    "# fix the state-county code again so it has leading zeroes. got coerced to int.\n",
    "df_lnd1['StCtyID'] = df_lnd1['STCOU'].astype(str).apply(lambda x: x.zfill(5))\n",
    "display(df_lnd1.head(3))\n",
    "display(df_lnd1.tail(3))"
   ]
  },
  {
   "cell_type": "code",
   "execution_count": 256,
   "metadata": {},
   "outputs": [
    {
     "data": {
      "text/html": [
       "<div>\n",
       "<style scoped>\n",
       "    .dataframe tbody tr th:only-of-type {\n",
       "        vertical-align: middle;\n",
       "    }\n",
       "\n",
       "    .dataframe tbody tr th {\n",
       "        vertical-align: top;\n",
       "    }\n",
       "\n",
       "    .dataframe thead th {\n",
       "        text-align: right;\n",
       "    }\n",
       "</style>\n",
       "<table border=\"1\" class=\"dataframe\">\n",
       "  <thead>\n",
       "    <tr style=\"text-align: right;\">\n",
       "      <th></th>\n",
       "      <th>land_area_sqmi</th>\n",
       "      <th>StCtyID</th>\n",
       "    </tr>\n",
       "  </thead>\n",
       "  <tbody>\n",
       "    <tr>\n",
       "      <th>0</th>\n",
       "      <td>3531905.43</td>\n",
       "      <td>00000</td>\n",
       "    </tr>\n",
       "    <tr>\n",
       "      <th>1</th>\n",
       "      <td>50645.33</td>\n",
       "      <td>01000</td>\n",
       "    </tr>\n",
       "    <tr>\n",
       "      <th>2</th>\n",
       "      <td>594.44</td>\n",
       "      <td>01001</td>\n",
       "    </tr>\n",
       "    <tr>\n",
       "      <th>3</th>\n",
       "      <td>1589.78</td>\n",
       "      <td>01003</td>\n",
       "    </tr>\n",
       "    <tr>\n",
       "      <th>4</th>\n",
       "      <td>884.88</td>\n",
       "      <td>01005</td>\n",
       "    </tr>\n",
       "  </tbody>\n",
       "</table>\n",
       "</div>"
      ],
      "text/plain": [
       "   land_area_sqmi StCtyID\n",
       "0      3531905.43   00000\n",
       "1        50645.33   01000\n",
       "2          594.44   01001\n",
       "3         1589.78   01003\n",
       "4          884.88   01005"
      ]
     },
     "execution_count": 256,
     "metadata": {},
     "output_type": "execute_result"
    }
   ],
   "source": [
    "# drop the non-padded state-county ID & rename the land-area column\n",
    "df_lnd2 = df_lnd1.drop(['STCOU'], axis=1)\n",
    "df_lnd2.rename({'LND110210D':'land_area_sqmi'}, axis=1, inplace=True)\n",
    "df_lnd2.head()"
   ]
  },
  {
   "cell_type": "code",
   "execution_count": 257,
   "metadata": {},
   "outputs": [
    {
     "data": {
      "text/html": [
       "<div>\n",
       "<style scoped>\n",
       "    .dataframe tbody tr th:only-of-type {\n",
       "        vertical-align: middle;\n",
       "    }\n",
       "\n",
       "    .dataframe tbody tr th {\n",
       "        vertical-align: top;\n",
       "    }\n",
       "\n",
       "    .dataframe thead th {\n",
       "        text-align: right;\n",
       "    }\n",
       "</style>\n",
       "<table border=\"1\" class=\"dataframe\">\n",
       "  <thead>\n",
       "    <tr style=\"text-align: right;\">\n",
       "      <th></th>\n",
       "      <th>region_name</th>\n",
       "      <th>state_name</th>\n",
       "      <th>count_qualified_17</th>\n",
       "      <th>percent_covered_17</th>\n",
       "      <th>percent_qualified_17</th>\n",
       "      <th>existing_installs_count_17</th>\n",
       "      <th>count_qualified_21</th>\n",
       "      <th>percent_covered_21</th>\n",
       "      <th>percent_qualified_21</th>\n",
       "      <th>existing_installs_count_21</th>\n",
       "      <th>CtySt</th>\n",
       "      <th>TotalPop</th>\n",
       "      <th>IncomePerCap</th>\n",
       "      <th>StCtyID</th>\n",
       "      <th>land_area_sqmi</th>\n",
       "    </tr>\n",
       "  </thead>\n",
       "  <tbody>\n",
       "    <tr>\n",
       "      <th>0</th>\n",
       "      <td>Ada County</td>\n",
       "      <td>Idaho</td>\n",
       "      <td>127097</td>\n",
       "      <td>93.467234</td>\n",
       "      <td>86.539431</td>\n",
       "      <td>333</td>\n",
       "      <td>133937.0</td>\n",
       "      <td>86.151203</td>\n",
       "      <td>90.224860</td>\n",
       "      <td>333.0</td>\n",
       "      <td>Ada, Idaho</td>\n",
       "      <td>435117</td>\n",
       "      <td>31642</td>\n",
       "      <td>16001</td>\n",
       "      <td>1052.58</td>\n",
       "    </tr>\n",
       "    <tr>\n",
       "      <th>1</th>\n",
       "      <td>Adams County</td>\n",
       "      <td>Colorado</td>\n",
       "      <td>103951</td>\n",
       "      <td>97.601508</td>\n",
       "      <td>79.333135</td>\n",
       "      <td>2218</td>\n",
       "      <td>117399.0</td>\n",
       "      <td>92.903614</td>\n",
       "      <td>87.461726</td>\n",
       "      <td>2223.0</td>\n",
       "      <td>Adams, Colorado</td>\n",
       "      <td>487850</td>\n",
       "      <td>27487</td>\n",
       "      <td>08001</td>\n",
       "      <td>1167.65</td>\n",
       "    </tr>\n",
       "    <tr>\n",
       "      <th>2</th>\n",
       "      <td>Aiken County</td>\n",
       "      <td>South Carolina</td>\n",
       "      <td>45852</td>\n",
       "      <td>84.159299</td>\n",
       "      <td>83.773957</td>\n",
       "      <td>84</td>\n",
       "      <td>49051.0</td>\n",
       "      <td>68.370722</td>\n",
       "      <td>86.296622</td>\n",
       "      <td>83.0</td>\n",
       "      <td>Aiken, South Carolina</td>\n",
       "      <td>165707</td>\n",
       "      <td>26222</td>\n",
       "      <td>45003</td>\n",
       "      <td>1071.03</td>\n",
       "    </tr>\n",
       "    <tr>\n",
       "      <th>3</th>\n",
       "      <td>Alachua County</td>\n",
       "      <td>Florida</td>\n",
       "      <td>42187</td>\n",
       "      <td>85.015194</td>\n",
       "      <td>67.926321</td>\n",
       "      <td>913</td>\n",
       "      <td>42833.0</td>\n",
       "      <td>77.902402</td>\n",
       "      <td>68.674544</td>\n",
       "      <td>912.0</td>\n",
       "      <td>Alachua, Florida</td>\n",
       "      <td>259865</td>\n",
       "      <td>26431</td>\n",
       "      <td>12001</td>\n",
       "      <td>875.02</td>\n",
       "    </tr>\n",
       "    <tr>\n",
       "      <th>4</th>\n",
       "      <td>Alameda County</td>\n",
       "      <td>California</td>\n",
       "      <td>329945</td>\n",
       "      <td>94.675889</td>\n",
       "      <td>88.489606</td>\n",
       "      <td>12126</td>\n",
       "      <td>372309.0</td>\n",
       "      <td>96.585338</td>\n",
       "      <td>94.294354</td>\n",
       "      <td>14127.0</td>\n",
       "      <td>Alameda, California</td>\n",
       "      <td>1629615</td>\n",
       "      <td>41363</td>\n",
       "      <td>06001</td>\n",
       "      <td>739.02</td>\n",
       "    </tr>\n",
       "  </tbody>\n",
       "</table>\n",
       "</div>"
      ],
      "text/plain": [
       "      region_name      state_name  count_qualified_17  percent_covered_17  \\\n",
       "0      Ada County           Idaho              127097           93.467234   \n",
       "1    Adams County        Colorado              103951           97.601508   \n",
       "2    Aiken County  South Carolina               45852           84.159299   \n",
       "3  Alachua County         Florida               42187           85.015194   \n",
       "4  Alameda County      California              329945           94.675889   \n",
       "\n",
       "   percent_qualified_17  existing_installs_count_17  count_qualified_21  \\\n",
       "0             86.539431                         333            133937.0   \n",
       "1             79.333135                        2218            117399.0   \n",
       "2             83.773957                          84             49051.0   \n",
       "3             67.926321                         913             42833.0   \n",
       "4             88.489606                       12126            372309.0   \n",
       "\n",
       "   percent_covered_21  percent_qualified_21  existing_installs_count_21  \\\n",
       "0           86.151203             90.224860                       333.0   \n",
       "1           92.903614             87.461726                      2223.0   \n",
       "2           68.370722             86.296622                        83.0   \n",
       "3           77.902402             68.674544                       912.0   \n",
       "4           96.585338             94.294354                     14127.0   \n",
       "\n",
       "                   CtySt  TotalPop  IncomePerCap StCtyID  land_area_sqmi  \n",
       "0             Ada, Idaho    435117         31642   16001         1052.58  \n",
       "1        Adams, Colorado    487850         27487   08001         1167.65  \n",
       "2  Aiken, South Carolina    165707         26222   45003         1071.03  \n",
       "3       Alachua, Florida    259865         26431   12001          875.02  \n",
       "4    Alameda, California   1629615         41363   06001          739.02  "
      ]
     },
     "metadata": {},
     "output_type": "display_data"
    },
    {
     "name": "stdout",
     "output_type": "stream",
     "text": [
      "<class 'pandas.core.frame.DataFrame'>\n",
      "Int64Index: 481 entries, 0 to 480\n",
      "Data columns (total 15 columns):\n",
      " #   Column                      Non-Null Count  Dtype  \n",
      "---  ------                      --------------  -----  \n",
      " 0   region_name                 481 non-null    object \n",
      " 1   state_name                  481 non-null    object \n",
      " 2   count_qualified_17          481 non-null    int64  \n",
      " 3   percent_covered_17          481 non-null    float64\n",
      " 4   percent_qualified_17        481 non-null    float64\n",
      " 5   existing_installs_count_17  481 non-null    int64  \n",
      " 6   count_qualified_21          481 non-null    float64\n",
      " 7   percent_covered_21          481 non-null    float64\n",
      " 8   percent_qualified_21        481 non-null    float64\n",
      " 9   existing_installs_count_21  481 non-null    float64\n",
      " 10  CtySt                       481 non-null    object \n",
      " 11  TotalPop                    481 non-null    int64  \n",
      " 12  IncomePerCap                481 non-null    int64  \n",
      " 13  StCtyID                     481 non-null    object \n",
      " 14  land_area_sqmi              481 non-null    float64\n",
      "dtypes: float64(7), int64(4), object(4)\n",
      "memory usage: 60.1+ KB\n"
     ]
    },
    {
     "data": {
      "text/plain": [
       "None"
      ]
     },
     "metadata": {},
     "output_type": "display_data"
    }
   ],
   "source": [
    "# merge this with the main dataset\n",
    "df_sol4 = df_sol3.merge(df_lnd2, how='inner', on=['StCtyID'])\n",
    "display(df_sol4.head())\n",
    "display(df_sol4.info())"
   ]
  },
  {
   "cell_type": "markdown",
   "metadata": {},
   "source": [
    "Since we used the numeric state-county ID here, we didn't have any drop-outs related to county names."
   ]
  },
  {
   "cell_type": "code",
   "execution_count": 258,
   "metadata": {},
   "outputs": [
    {
     "data": {
      "text/plain": [
       "count    840.000000\n",
       "mean      67.516190\n",
       "std        9.223363\n",
       "min       18.900000\n",
       "25%       62.400000\n",
       "50%       68.450000\n",
       "75%       73.800000\n",
       "max       88.500000\n",
       "Name: DP04_0046PE, dtype: float64"
      ]
     },
     "execution_count": 258,
     "metadata": {},
     "output_type": "execute_result"
    }
   ],
   "source": [
    "# 2019 ACS data with % owner-occupied homes\n",
    "# check the column that should be % owner-occupied (ie owned) housing to make sure it looks correct\n",
    "df_ho['DP04_0046PE'].describe()"
   ]
  },
  {
   "cell_type": "markdown",
   "metadata": {},
   "source": [
    "This was just a double-check to make sure we got the correct column. Those look like reasonable percentages. "
   ]
  },
  {
   "cell_type": "code",
   "execution_count": 259,
   "metadata": {},
   "outputs": [
    {
     "name": "stderr",
     "output_type": "stream",
     "text": [
      "/home/umahp/anaconda3/lib/python3.8/site-packages/pandas/core/frame.py:4296: SettingWithCopyWarning: \n",
      "A value is trying to be set on a copy of a slice from a DataFrame\n",
      "\n",
      "See the caveats in the documentation: https://pandas.pydata.org/pandas-docs/stable/user_guide/indexing.html#returning-a-view-versus-a-copy\n",
      "  return super().rename(\n",
      "<ipython-input-259-6a873acb6626>:6: SettingWithCopyWarning: \n",
      "A value is trying to be set on a copy of a slice from a DataFrame.\n",
      "Try using .loc[row_indexer,col_indexer] = value instead\n",
      "\n",
      "See the caveats in the documentation: https://pandas.pydata.org/pandas-docs/stable/user_guide/indexing.html#returning-a-view-versus-a-copy\n",
      "  df_ho1['StCtyID'] = df_ho1['GEO_ID'].apply(lambda x: x[-5:])\n"
     ]
    }
   ],
   "source": [
    "# keep just the columns we need & rename them\n",
    "# GEO_ID here is a longer version of state-county ID\n",
    "df_ho1 = df_ho[['GEO_ID','DP04_0046PE']]\n",
    "df_ho1.rename({'DP04_0046PE':'Pct_hmowner'}, axis=1, inplace=True)\n",
    "# get the state & county ID from GEO_ID (it's just the last 5 digits)\n",
    "df_ho1['StCtyID'] = df_ho1['GEO_ID'].apply(lambda x: x[-5:])\n"
   ]
  },
  {
   "cell_type": "code",
   "execution_count": 260,
   "metadata": {},
   "outputs": [
    {
     "data": {
      "text/html": [
       "<div>\n",
       "<style scoped>\n",
       "    .dataframe tbody tr th:only-of-type {\n",
       "        vertical-align: middle;\n",
       "    }\n",
       "\n",
       "    .dataframe tbody tr th {\n",
       "        vertical-align: top;\n",
       "    }\n",
       "\n",
       "    .dataframe thead th {\n",
       "        text-align: right;\n",
       "    }\n",
       "</style>\n",
       "<table border=\"1\" class=\"dataframe\">\n",
       "  <thead>\n",
       "    <tr style=\"text-align: right;\">\n",
       "      <th></th>\n",
       "      <th>GEO_ID</th>\n",
       "      <th>Pct_hmowner</th>\n",
       "      <th>StCtyID</th>\n",
       "    </tr>\n",
       "  </thead>\n",
       "  <tbody>\n",
       "    <tr>\n",
       "      <th>0</th>\n",
       "      <td>0500000US01003</td>\n",
       "      <td>79.3</td>\n",
       "      <td>01003</td>\n",
       "    </tr>\n",
       "    <tr>\n",
       "      <th>1</th>\n",
       "      <td>0500000US01015</td>\n",
       "      <td>70.5</td>\n",
       "      <td>01015</td>\n",
       "    </tr>\n",
       "    <tr>\n",
       "      <th>2</th>\n",
       "      <td>0500000US01043</td>\n",
       "      <td>75.8</td>\n",
       "      <td>01043</td>\n",
       "    </tr>\n",
       "  </tbody>\n",
       "</table>\n",
       "</div>"
      ],
      "text/plain": [
       "           GEO_ID  Pct_hmowner StCtyID\n",
       "0  0500000US01003         79.3   01003\n",
       "1  0500000US01015         70.5   01015\n",
       "2  0500000US01043         75.8   01043"
      ]
     },
     "metadata": {},
     "output_type": "display_data"
    },
    {
     "data": {
      "text/html": [
       "<div>\n",
       "<style scoped>\n",
       "    .dataframe tbody tr th:only-of-type {\n",
       "        vertical-align: middle;\n",
       "    }\n",
       "\n",
       "    .dataframe tbody tr th {\n",
       "        vertical-align: top;\n",
       "    }\n",
       "\n",
       "    .dataframe thead th {\n",
       "        text-align: right;\n",
       "    }\n",
       "</style>\n",
       "<table border=\"1\" class=\"dataframe\">\n",
       "  <thead>\n",
       "    <tr style=\"text-align: right;\">\n",
       "      <th></th>\n",
       "      <th>GEO_ID</th>\n",
       "      <th>Pct_hmowner</th>\n",
       "      <th>StCtyID</th>\n",
       "    </tr>\n",
       "  </thead>\n",
       "  <tbody>\n",
       "    <tr>\n",
       "      <th>837</th>\n",
       "      <td>0500000US72135</td>\n",
       "      <td>86.1</td>\n",
       "      <td>72135</td>\n",
       "    </tr>\n",
       "    <tr>\n",
       "      <th>838</th>\n",
       "      <td>0500000US72137</td>\n",
       "      <td>73.2</td>\n",
       "      <td>72137</td>\n",
       "    </tr>\n",
       "    <tr>\n",
       "      <th>839</th>\n",
       "      <td>0500000US72139</td>\n",
       "      <td>69.9</td>\n",
       "      <td>72139</td>\n",
       "    </tr>\n",
       "  </tbody>\n",
       "</table>\n",
       "</div>"
      ],
      "text/plain": [
       "             GEO_ID  Pct_hmowner StCtyID\n",
       "837  0500000US72135         86.1   72135\n",
       "838  0500000US72137         73.2   72137\n",
       "839  0500000US72139         69.9   72139"
      ]
     },
     "metadata": {},
     "output_type": "display_data"
    },
    {
     "data": {
      "text/plain": [
       "840"
      ]
     },
     "metadata": {},
     "output_type": "display_data"
    }
   ],
   "source": [
    "# make sure that went OK\n",
    "display(df_ho1.head(3))\n",
    "display(df_ho1.tail(3))\n",
    "display(df_ho1['StCtyID'].nunique())"
   ]
  },
  {
   "cell_type": "code",
   "execution_count": 261,
   "metadata": {},
   "outputs": [],
   "source": [
    "# now drop the un-needed column\n",
    "df_ho2 = df_ho1.drop(['GEO_ID'], axis=1)"
   ]
  },
  {
   "cell_type": "code",
   "execution_count": 262,
   "metadata": {},
   "outputs": [
    {
     "data": {
      "text/html": [
       "<div>\n",
       "<style scoped>\n",
       "    .dataframe tbody tr th:only-of-type {\n",
       "        vertical-align: middle;\n",
       "    }\n",
       "\n",
       "    .dataframe tbody tr th {\n",
       "        vertical-align: top;\n",
       "    }\n",
       "\n",
       "    .dataframe thead th {\n",
       "        text-align: right;\n",
       "    }\n",
       "</style>\n",
       "<table border=\"1\" class=\"dataframe\">\n",
       "  <thead>\n",
       "    <tr style=\"text-align: right;\">\n",
       "      <th></th>\n",
       "      <th>region_name</th>\n",
       "      <th>state_name</th>\n",
       "      <th>count_qualified_17</th>\n",
       "      <th>percent_covered_17</th>\n",
       "      <th>percent_qualified_17</th>\n",
       "      <th>existing_installs_count_17</th>\n",
       "      <th>count_qualified_21</th>\n",
       "      <th>percent_covered_21</th>\n",
       "      <th>percent_qualified_21</th>\n",
       "      <th>existing_installs_count_21</th>\n",
       "      <th>CtySt</th>\n",
       "      <th>TotalPop</th>\n",
       "      <th>IncomePerCap</th>\n",
       "      <th>StCtyID</th>\n",
       "      <th>land_area_sqmi</th>\n",
       "      <th>Pct_hmowner</th>\n",
       "    </tr>\n",
       "  </thead>\n",
       "  <tbody>\n",
       "    <tr>\n",
       "      <th>0</th>\n",
       "      <td>Ada County</td>\n",
       "      <td>Idaho</td>\n",
       "      <td>127097</td>\n",
       "      <td>93.467234</td>\n",
       "      <td>86.539431</td>\n",
       "      <td>333</td>\n",
       "      <td>133937.0</td>\n",
       "      <td>86.151203</td>\n",
       "      <td>90.224860</td>\n",
       "      <td>333.0</td>\n",
       "      <td>Ada, Idaho</td>\n",
       "      <td>435117</td>\n",
       "      <td>31642</td>\n",
       "      <td>16001</td>\n",
       "      <td>1052.58</td>\n",
       "      <td>71.3</td>\n",
       "    </tr>\n",
       "    <tr>\n",
       "      <th>1</th>\n",
       "      <td>Adams County</td>\n",
       "      <td>Colorado</td>\n",
       "      <td>103951</td>\n",
       "      <td>97.601508</td>\n",
       "      <td>79.333135</td>\n",
       "      <td>2218</td>\n",
       "      <td>117399.0</td>\n",
       "      <td>92.903614</td>\n",
       "      <td>87.461726</td>\n",
       "      <td>2223.0</td>\n",
       "      <td>Adams, Colorado</td>\n",
       "      <td>487850</td>\n",
       "      <td>27487</td>\n",
       "      <td>08001</td>\n",
       "      <td>1167.65</td>\n",
       "      <td>68.1</td>\n",
       "    </tr>\n",
       "    <tr>\n",
       "      <th>2</th>\n",
       "      <td>Aiken County</td>\n",
       "      <td>South Carolina</td>\n",
       "      <td>45852</td>\n",
       "      <td>84.159299</td>\n",
       "      <td>83.773957</td>\n",
       "      <td>84</td>\n",
       "      <td>49051.0</td>\n",
       "      <td>68.370722</td>\n",
       "      <td>86.296622</td>\n",
       "      <td>83.0</td>\n",
       "      <td>Aiken, South Carolina</td>\n",
       "      <td>165707</td>\n",
       "      <td>26222</td>\n",
       "      <td>45003</td>\n",
       "      <td>1071.03</td>\n",
       "      <td>77.0</td>\n",
       "    </tr>\n",
       "    <tr>\n",
       "      <th>3</th>\n",
       "      <td>Alachua County</td>\n",
       "      <td>Florida</td>\n",
       "      <td>42187</td>\n",
       "      <td>85.015194</td>\n",
       "      <td>67.926321</td>\n",
       "      <td>913</td>\n",
       "      <td>42833.0</td>\n",
       "      <td>77.902402</td>\n",
       "      <td>68.674544</td>\n",
       "      <td>912.0</td>\n",
       "      <td>Alachua, Florida</td>\n",
       "      <td>259865</td>\n",
       "      <td>26431</td>\n",
       "      <td>12001</td>\n",
       "      <td>875.02</td>\n",
       "      <td>54.0</td>\n",
       "    </tr>\n",
       "    <tr>\n",
       "      <th>4</th>\n",
       "      <td>Alameda County</td>\n",
       "      <td>California</td>\n",
       "      <td>329945</td>\n",
       "      <td>94.675889</td>\n",
       "      <td>88.489606</td>\n",
       "      <td>12126</td>\n",
       "      <td>372309.0</td>\n",
       "      <td>96.585338</td>\n",
       "      <td>94.294354</td>\n",
       "      <td>14127.0</td>\n",
       "      <td>Alameda, California</td>\n",
       "      <td>1629615</td>\n",
       "      <td>41363</td>\n",
       "      <td>06001</td>\n",
       "      <td>739.02</td>\n",
       "      <td>53.0</td>\n",
       "    </tr>\n",
       "  </tbody>\n",
       "</table>\n",
       "</div>"
      ],
      "text/plain": [
       "      region_name      state_name  count_qualified_17  percent_covered_17  \\\n",
       "0      Ada County           Idaho              127097           93.467234   \n",
       "1    Adams County        Colorado              103951           97.601508   \n",
       "2    Aiken County  South Carolina               45852           84.159299   \n",
       "3  Alachua County         Florida               42187           85.015194   \n",
       "4  Alameda County      California              329945           94.675889   \n",
       "\n",
       "   percent_qualified_17  existing_installs_count_17  count_qualified_21  \\\n",
       "0             86.539431                         333            133937.0   \n",
       "1             79.333135                        2218            117399.0   \n",
       "2             83.773957                          84             49051.0   \n",
       "3             67.926321                         913             42833.0   \n",
       "4             88.489606                       12126            372309.0   \n",
       "\n",
       "   percent_covered_21  percent_qualified_21  existing_installs_count_21  \\\n",
       "0           86.151203             90.224860                       333.0   \n",
       "1           92.903614             87.461726                      2223.0   \n",
       "2           68.370722             86.296622                        83.0   \n",
       "3           77.902402             68.674544                       912.0   \n",
       "4           96.585338             94.294354                     14127.0   \n",
       "\n",
       "                   CtySt  TotalPop  IncomePerCap StCtyID  land_area_sqmi  \\\n",
       "0             Ada, Idaho    435117         31642   16001         1052.58   \n",
       "1        Adams, Colorado    487850         27487   08001         1167.65   \n",
       "2  Aiken, South Carolina    165707         26222   45003         1071.03   \n",
       "3       Alachua, Florida    259865         26431   12001          875.02   \n",
       "4    Alameda, California   1629615         41363   06001          739.02   \n",
       "\n",
       "   Pct_hmowner  \n",
       "0         71.3  \n",
       "1         68.1  \n",
       "2         77.0  \n",
       "3         54.0  \n",
       "4         53.0  "
      ]
     },
     "metadata": {},
     "output_type": "display_data"
    },
    {
     "name": "stdout",
     "output_type": "stream",
     "text": [
      "<class 'pandas.core.frame.DataFrame'>\n",
      "Int64Index: 481 entries, 0 to 480\n",
      "Data columns (total 16 columns):\n",
      " #   Column                      Non-Null Count  Dtype  \n",
      "---  ------                      --------------  -----  \n",
      " 0   region_name                 481 non-null    object \n",
      " 1   state_name                  481 non-null    object \n",
      " 2   count_qualified_17          481 non-null    int64  \n",
      " 3   percent_covered_17          481 non-null    float64\n",
      " 4   percent_qualified_17        481 non-null    float64\n",
      " 5   existing_installs_count_17  481 non-null    int64  \n",
      " 6   count_qualified_21          481 non-null    float64\n",
      " 7   percent_covered_21          481 non-null    float64\n",
      " 8   percent_qualified_21        481 non-null    float64\n",
      " 9   existing_installs_count_21  481 non-null    float64\n",
      " 10  CtySt                       481 non-null    object \n",
      " 11  TotalPop                    481 non-null    int64  \n",
      " 12  IncomePerCap                481 non-null    int64  \n",
      " 13  StCtyID                     481 non-null    object \n",
      " 14  land_area_sqmi              481 non-null    float64\n",
      " 15  Pct_hmowner                 449 non-null    float64\n",
      "dtypes: float64(8), int64(4), object(4)\n",
      "memory usage: 63.9+ KB\n"
     ]
    },
    {
     "data": {
      "text/plain": [
       "None"
      ]
     },
     "metadata": {},
     "output_type": "display_data"
    }
   ],
   "source": [
    "# merge with main dataset\n",
    "df_solfin = df_sol4.merge(df_ho2, how='left', on=['StCtyID'])\n",
    "display(df_solfin.head())\n",
    "display(df_solfin.info())"
   ]
  },
  {
   "cell_type": "code",
   "execution_count": 263,
   "metadata": {},
   "outputs": [
    {
     "data": {
      "text/plain": [
       "49"
      ]
     },
     "execution_count": 263,
     "metadata": {},
     "output_type": "execute_result"
    }
   ],
   "source": [
    "# how many states are covered if we limit the data to those with complete Pct_hmowner data?\n",
    "df_solfin[~df_solfin['Pct_hmowner'].isnull()]['state_name'].nunique()"
   ]
  },
  {
   "cell_type": "markdown",
   "metadata": {},
   "source": [
    "We lost data here on 32 counties that weren't part of the 2019 ACS data. This represents a 6.7% data loss. We still have data representing 49 states. This probably won't have a major influence on our analysis, but to be sure we can create another variable with the missing values imputed and also analyze it. "
   ]
  },
  {
   "cell_type": "code",
   "execution_count": 264,
   "metadata": {},
   "outputs": [
    {
     "data": {
      "image/png": "[encoded data removed]",
      "text/plain": [
       "<Figure size 432x288 with 1 Axes>"
      ]
     },
     "metadata": {
      "needs_background": "light"
     },
     "output_type": "display_data"
    }
   ],
   "source": [
    "# check the distribution of Pct_hmowner\n",
    "plt.hist(data=df_solfin, x='Pct_hmowner', bins=30);"
   ]
  },
  {
   "cell_type": "markdown",
   "metadata": {},
   "source": [
    "The data are slightly left-skewed, so we'll imputed the median instead of the mean"
   ]
  },
  {
   "cell_type": "code",
   "execution_count": 265,
   "metadata": {},
   "outputs": [
    {
     "name": "stdout",
     "output_type": "stream",
     "text": [
      "<class 'pandas.core.frame.DataFrame'>\n",
      "Int64Index: 481 entries, 0 to 480\n",
      "Data columns (total 17 columns):\n",
      " #   Column                      Non-Null Count  Dtype  \n",
      "---  ------                      --------------  -----  \n",
      " 0   region_name                 481 non-null    object \n",
      " 1   state_name                  481 non-null    object \n",
      " 2   count_qualified_17          481 non-null    int64  \n",
      " 3   percent_covered_17          481 non-null    float64\n",
      " 4   percent_qualified_17        481 non-null    float64\n",
      " 5   existing_installs_count_17  481 non-null    int64  \n",
      " 6   count_qualified_21          481 non-null    float64\n",
      " 7   percent_covered_21          481 non-null    float64\n",
      " 8   percent_qualified_21        481 non-null    float64\n",
      " 9   existing_installs_count_21  481 non-null    float64\n",
      " 10  CtySt                       481 non-null    object \n",
      " 11  TotalPop                    481 non-null    int64  \n",
      " 12  IncomePerCap                481 non-null    int64  \n",
      " 13  StCtyID                     481 non-null    object \n",
      " 14  land_area_sqmi              481 non-null    float64\n",
      " 15  Pct_hmowner                 449 non-null    float64\n",
      " 16  Pct_hmowner_imp             481 non-null    float64\n",
      "dtypes: float64(9), int64(4), object(4)\n",
      "memory usage: 67.6+ KB\n"
     ]
    },
    {
     "data": {
      "text/plain": [
       "None"
      ]
     },
     "metadata": {},
     "output_type": "display_data"
    }
   ],
   "source": [
    "# add a column with the median imputed for Pct_hmowner\n",
    "df_solfin['Pct_hmowner_imp'] = df_solfin['Pct_hmowner'].fillna(value=df_solfin['Pct_hmowner'].median())\n",
    "display(df_solfin.info())"
   ]
  },
  {
   "cell_type": "markdown",
   "metadata": {},
   "source": [
    "Before we start calculating data, let's make sure our quantitative fields don't have obviously erroneous values."
   ]
  },
  {
   "cell_type": "code",
   "execution_count": 266,
   "metadata": {},
   "outputs": [
    {
     "data": {
      "text/html": [
       "<div>\n",
       "<style scoped>\n",
       "    .dataframe tbody tr th:only-of-type {\n",
       "        vertical-align: middle;\n",
       "    }\n",
       "\n",
       "    .dataframe tbody tr th {\n",
       "        vertical-align: top;\n",
       "    }\n",
       "\n",
       "    .dataframe thead th {\n",
       "        text-align: right;\n",
       "    }\n",
       "</style>\n",
       "<table border=\"1\" class=\"dataframe\">\n",
       "  <thead>\n",
       "    <tr style=\"text-align: right;\">\n",
       "      <th></th>\n",
       "      <th>count_qualified_17</th>\n",
       "      <th>percent_covered_17</th>\n",
       "      <th>percent_qualified_17</th>\n",
       "      <th>existing_installs_count_17</th>\n",
       "      <th>count_qualified_21</th>\n",
       "      <th>percent_covered_21</th>\n",
       "      <th>percent_qualified_21</th>\n",
       "      <th>existing_installs_count_21</th>\n",
       "      <th>TotalPop</th>\n",
       "      <th>IncomePerCap</th>\n",
       "      <th>land_area_sqmi</th>\n",
       "      <th>Pct_hmowner</th>\n",
       "      <th>Pct_hmowner_imp</th>\n",
       "    </tr>\n",
       "  </thead>\n",
       "  <tbody>\n",
       "    <tr>\n",
       "      <th>count</th>\n",
       "      <td>4.810000e+02</td>\n",
       "      <td>481.000000</td>\n",
       "      <td>481.000000</td>\n",
       "      <td>481.000000</td>\n",
       "      <td>4.810000e+02</td>\n",
       "      <td>481.000000</td>\n",
       "      <td>481.000000</td>\n",
       "      <td>481.000000</td>\n",
       "      <td>4.810000e+02</td>\n",
       "      <td>481.000000</td>\n",
       "      <td>481.000000</td>\n",
       "      <td>449.000000</td>\n",
       "      <td>481.000000</td>\n",
       "    </tr>\n",
       "    <tr>\n",
       "      <th>mean</th>\n",
       "      <td>8.735455e+04</td>\n",
       "      <td>82.809927</td>\n",
       "      <td>77.712332</td>\n",
       "      <td>1331.469854</td>\n",
       "      <td>9.967744e+04</td>\n",
       "      <td>76.253324</td>\n",
       "      <td>83.135178</td>\n",
       "      <td>1338.933472</td>\n",
       "      <td>4.327897e+05</td>\n",
       "      <td>30136.286902</td>\n",
       "      <td>1010.390707</td>\n",
       "      <td>64.924499</td>\n",
       "      <td>64.936175</td>\n",
       "    </tr>\n",
       "    <tr>\n",
       "      <th>std</th>\n",
       "      <td>1.413209e+05</td>\n",
       "      <td>12.246851</td>\n",
       "      <td>10.360915</td>\n",
       "      <td>4429.021783</td>\n",
       "      <td>1.578152e+05</td>\n",
       "      <td>13.738904</td>\n",
       "      <td>8.545694</td>\n",
       "      <td>4448.907370</td>\n",
       "      <td>7.194266e+05</td>\n",
       "      <td>6716.492128</td>\n",
       "      <td>1661.193003</td>\n",
       "      <td>9.416562</td>\n",
       "      <td>9.097368</td>\n",
       "    </tr>\n",
       "    <tr>\n",
       "      <th>min</th>\n",
       "      <td>2.688000e+03</td>\n",
       "      <td>51.302626</td>\n",
       "      <td>28.633622</td>\n",
       "      <td>0.000000</td>\n",
       "      <td>3.249000e+03</td>\n",
       "      <td>50.360957</td>\n",
       "      <td>47.443629</td>\n",
       "      <td>0.000000</td>\n",
       "      <td>9.544000e+03</td>\n",
       "      <td>18962.000000</td>\n",
       "      <td>22.830000</td>\n",
       "      <td>18.900000</td>\n",
       "      <td>18.900000</td>\n",
       "    </tr>\n",
       "    <tr>\n",
       "      <th>25%</th>\n",
       "      <td>2.139400e+04</td>\n",
       "      <td>73.556107</td>\n",
       "      <td>70.444685</td>\n",
       "      <td>30.000000</td>\n",
       "      <td>2.480600e+04</td>\n",
       "      <td>65.619412</td>\n",
       "      <td>77.584150</td>\n",
       "      <td>30.000000</td>\n",
       "      <td>1.150940e+05</td>\n",
       "      <td>25666.000000</td>\n",
       "      <td>418.150000</td>\n",
       "      <td>59.900000</td>\n",
       "      <td>60.200000</td>\n",
       "    </tr>\n",
       "    <tr>\n",
       "      <th>50%</th>\n",
       "      <td>4.506900e+04</td>\n",
       "      <td>86.357816</td>\n",
       "      <td>77.972792</td>\n",
       "      <td>90.000000</td>\n",
       "      <td>5.085700e+04</td>\n",
       "      <td>77.716186</td>\n",
       "      <td>83.971508</td>\n",
       "      <td>90.000000</td>\n",
       "      <td>2.121610e+05</td>\n",
       "      <td>29085.000000</td>\n",
       "      <td>609.770000</td>\n",
       "      <td>65.100000</td>\n",
       "      <td>65.100000</td>\n",
       "    </tr>\n",
       "    <tr>\n",
       "      <th>75%</th>\n",
       "      <td>1.026660e+05</td>\n",
       "      <td>92.835972</td>\n",
       "      <td>85.251390</td>\n",
       "      <td>542.000000</td>\n",
       "      <td>1.191360e+05</td>\n",
       "      <td>88.035307</td>\n",
       "      <td>89.088118</td>\n",
       "      <td>559.000000</td>\n",
       "      <td>4.907640e+05</td>\n",
       "      <td>33127.000000</td>\n",
       "      <td>916.090000</td>\n",
       "      <td>71.300000</td>\n",
       "      <td>70.500000</td>\n",
       "    </tr>\n",
       "    <tr>\n",
       "      <th>max</th>\n",
       "      <td>1.753898e+06</td>\n",
       "      <td>99.913476</td>\n",
       "      <td>96.974365</td>\n",
       "      <td>47384.000000</td>\n",
       "      <td>1.985306e+06</td>\n",
       "      <td>99.284043</td>\n",
       "      <td>97.933471</td>\n",
       "      <td>47474.000000</td>\n",
       "      <td>1.010572e+07</td>\n",
       "      <td>69529.000000</td>\n",
       "      <td>20056.940000</td>\n",
       "      <td>88.500000</td>\n",
       "      <td>88.500000</td>\n",
       "    </tr>\n",
       "  </tbody>\n",
       "</table>\n",
       "</div>"
      ],
      "text/plain": [
       "       count_qualified_17  percent_covered_17  percent_qualified_17  \\\n",
       "count        4.810000e+02          481.000000            481.000000   \n",
       "mean         8.735455e+04           82.809927             77.712332   \n",
       "std          1.413209e+05           12.246851             10.360915   \n",
       "min          2.688000e+03           51.302626             28.633622   \n",
       "25%          2.139400e+04           73.556107             70.444685   \n",
       "50%          4.506900e+04           86.357816             77.972792   \n",
       "75%          1.026660e+05           92.835972             85.251390   \n",
       "max          1.753898e+06           99.913476             96.974365   \n",
       "\n",
       "       existing_installs_count_17  count_qualified_21  percent_covered_21  \\\n",
       "count                  481.000000        4.810000e+02          481.000000   \n",
       "mean                  1331.469854        9.967744e+04           76.253324   \n",
       "std                   4429.021783        1.578152e+05           13.738904   \n",
       "min                      0.000000        3.249000e+03           50.360957   \n",
       "25%                     30.000000        2.480600e+04           65.619412   \n",
       "50%                     90.000000        5.085700e+04           77.716186   \n",
       "75%                    542.000000        1.191360e+05           88.035307   \n",
       "max                  47384.000000        1.985306e+06           99.284043   \n",
       "\n",
       "       percent_qualified_21  existing_installs_count_21      TotalPop  \\\n",
       "count            481.000000                  481.000000  4.810000e+02   \n",
       "mean              83.135178                 1338.933472  4.327897e+05   \n",
       "std                8.545694                 4448.907370  7.194266e+05   \n",
       "min               47.443629                    0.000000  9.544000e+03   \n",
       "25%               77.584150                   30.000000  1.150940e+05   \n",
       "50%               83.971508                   90.000000  2.121610e+05   \n",
       "75%               89.088118                  559.000000  4.907640e+05   \n",
       "max               97.933471                47474.000000  1.010572e+07   \n",
       "\n",
       "       IncomePerCap  land_area_sqmi  Pct_hmowner  Pct_hmowner_imp  \n",
       "count    481.000000      481.000000   449.000000       481.000000  \n",
       "mean   30136.286902     1010.390707    64.924499        64.936175  \n",
       "std     6716.492128     1661.193003     9.416562         9.097368  \n",
       "min    18962.000000       22.830000    18.900000        18.900000  \n",
       "25%    25666.000000      418.150000    59.900000        60.200000  \n",
       "50%    29085.000000      609.770000    65.100000        65.100000  \n",
       "75%    33127.000000      916.090000    71.300000        70.500000  \n",
       "max    69529.000000    20056.940000    88.500000        88.500000  "
      ]
     },
     "metadata": {},
     "output_type": "display_data"
    }
   ],
   "source": [
    "display(df_solfin.describe())"
   ]
  },
  {
   "cell_type": "markdown",
   "metadata": {},
   "source": [
    "None of these fields have obviously erroneous data (e.g. numbers in a percentage field outside 0-100, or negative number for quantities that must be positive). There also don't seem to be min or max values that are blatant outliers, although we'll examine that more with plots later.\n",
    "\n",
    "Now we need to calculate the variables we'll use in the analysis"
   ]
  },
  {
   "cell_type": "code",
   "execution_count": 267,
   "metadata": {},
   "outputs": [
    {
     "data": {
      "text/plain": [
       "count      481.000000\n",
       "mean      1109.134497\n",
       "std       4367.314692\n",
       "min          2.599454\n",
       "25%        163.077817\n",
       "50%        356.318855\n",
       "75%        789.902379\n",
       "max      72443.144985\n",
       "Name: PopDens, dtype: float64"
      ]
     },
     "execution_count": 267,
     "metadata": {},
     "output_type": "execute_result"
    }
   ],
   "source": [
    "# calculate population density\n",
    "df_solfin['PopDens'] = df_solfin['TotalPop']/df_solfin['land_area_sqmi']\n",
    "df_solfin['PopDens'].describe()"
   ]
  },
  {
   "cell_type": "markdown",
   "metadata": {},
   "source": [
    "While there is a wide range here, the values don't appear completely inaccurate (e.g. no negative or zero values) and aren't astronomically high, either.\n",
    "\n",
    "For solar adoption, we'll calculate the % of qualified roofs that are estimate to have solar installations by Project Sunroof"
   ]
  },
  {
   "cell_type": "code",
   "execution_count": 268,
   "metadata": {},
   "outputs": [
    {
     "data": {
      "text/plain": [
       "count    481.000000\n",
       "mean       0.878589\n",
       "std        1.715222\n",
       "min        0.000000\n",
       "25%        0.094155\n",
       "50%        0.192419\n",
       "75%        0.702287\n",
       "max       13.998298\n",
       "Name: pct_install_17, dtype: float64"
      ]
     },
     "metadata": {},
     "output_type": "display_data"
    },
    {
     "data": {
      "text/plain": [
       "count    481.000000\n",
       "mean       0.780957\n",
       "std        1.581048\n",
       "min        0.000000\n",
       "25%        0.083745\n",
       "50%        0.164321\n",
       "75%        0.581400\n",
       "max       13.420366\n",
       "Name: pct_install_21, dtype: float64"
      ]
     },
     "metadata": {},
     "output_type": "display_data"
    }
   ],
   "source": [
    "# calculate the % adoption as # of installs per # of \"qualified\" roofs\n",
    "df_solfin['pct_install_17'] = 100.0*df_solfin['existing_installs_count_17']/df_solfin['count_qualified_17']\n",
    "df_solfin['pct_install_21'] = 100.0*df_solfin['existing_installs_count_21']/df_solfin['count_qualified_21']\n",
    "display(df_solfin['pct_install_17'].describe())\n",
    "display(df_solfin['pct_install_21'].describe())"
   ]
  },
  {
   "cell_type": "markdown",
   "metadata": {},
   "source": [
    "These variables are small, but consumer solar is still rare, so they probably aren't unreasonable. There are no values outside the valid range for a percentage.\n",
    "\n",
    "To calculate solar growth, we'll use the change in % adoption from 2017 to 2021."
   ]
  },
  {
   "cell_type": "code",
   "execution_count": 269,
   "metadata": {},
   "outputs": [
    {
     "data": {
      "text/plain": [
       "count    481.000000\n",
       "mean      -0.097632\n",
       "std        0.189238\n",
       "min       -1.471616\n",
       "25%       -0.088439\n",
       "50%       -0.021743\n",
       "75%       -0.008929\n",
       "max        0.119271\n",
       "Name: chg_pct_install, dtype: float64"
      ]
     },
     "metadata": {},
     "output_type": "display_data"
    }
   ],
   "source": [
    "# calculate change in % from 2017-21\n",
    "df_solfin['chg_pct_install'] = df_solfin['pct_install_21'] - df_solfin['pct_install_17']\n",
    "display(df_solfin['chg_pct_install'].describe())"
   ]
  },
  {
   "cell_type": "markdown",
   "metadata": {},
   "source": [
    "It's surprising that the numbers are so small, given all the hype about renewable energy. We'll look more into whether there is an explanation for this below.\n",
    "\n",
    "#### Summary of the cleaning and merging process\n",
    "Not much cleaning had to be done to the data. Duplicated data for 1 county with erroneous-appearing Project Sunroof data for 2021 was removed. Two counties in Alaska had to be renamed to be successfully merged with census data. The ACS data for 2019, from which homeownership data were obtained, was missing data on 32 counties in Project Sunroof. A field with these missing entries median-imputed was created. Results of using both the unimputed and the imputed home ownership data will be obtained."
   ]
  },
  {
   "cell_type": "markdown",
   "metadata": {},
   "source": [
    "#### Exploratory analyses\n",
    "\n",
    "#### Univariate"
   ]
  },
  {
   "cell_type": "code",
   "execution_count": 270,
   "metadata": {},
   "outputs": [
    {
     "data": {
      "image/png": "[encoded data removed]",
      "text/plain": [
       "<Figure size 432x288 with 1 Axes>"
      ]
     },
     "metadata": {
      "needs_background": "light"
     },
     "output_type": "display_data"
    }
   ],
   "source": [
    "# per-capita income\n",
    "plt.hist(data=df_solfin, x='IncomePerCap', bins=30)\n",
    "plt.xlabel('Per-Capita Income ($)')\n",
    "plt.ylabel('Count');"
   ]
  },
  {
   "cell_type": "markdown",
   "metadata": {},
   "source": [
    "Per-capita income is right-skewed, with a peak around $30k."
   ]
  },
  {
   "cell_type": "code",
   "execution_count": 271,
   "metadata": {},
   "outputs": [
    {
     "data": {
      "image/png": "[encoded data removed]",
      "text/plain": [
       "<Figure size 432x288 with 1 Axes>"
      ]
     },
     "metadata": {
      "needs_background": "light"
     },
     "output_type": "display_data"
    }
   ],
   "source": [
    "# population density\n",
    "plt.hist(data=df_solfin, x='PopDens', bins=30)\n",
    "plt.xlabel('Population Density (persons/sq mi)')\n",
    "plt.ylabel('Count');"
   ]
  },
  {
   "cell_type": "markdown",
   "metadata": {},
   "source": [
    "Population density is heavily right-skewed, so we'll log-transform it to make it easier to visualize"
   ]
  },
  {
   "cell_type": "code",
   "execution_count": 272,
   "metadata": {},
   "outputs": [
    {
     "data": {
      "image/png": "[encoded data removed]",
      "text/plain": [
       "<Figure size 432x288 with 1 Axes>"
      ]
     },
     "metadata": {
      "needs_background": "light"
     },
     "output_type": "display_data"
    }
   ],
   "source": [
    "# severely skewed; log-transform\n",
    "bins = 10**np.arange(0.6,5,0.2)\n",
    "new_tix = [5, 50, 300, 700, 2000, 5000, 15000, 75000]\n",
    "new_labs = ['{}'.format(v) for v in new_tix]\n",
    "plt.hist(data=df_solfin, x='PopDens', bins=bins)\n",
    "plt.xlabel('Population Density (persons/sq mi)')\n",
    "plt.xscale('log')\n",
    "plt.ylabel('Count')\n",
    "plt.xticks(new_tix, new_labs, rotation=45);"
   ]
  },
  {
   "cell_type": "markdown",
   "metadata": {},
   "source": [
    "Population density has a normal-appearing distribution on a log scale, with a peak around 300 persons/sq mi."
   ]
  },
  {
   "cell_type": "code",
   "execution_count": 273,
   "metadata": {},
   "outputs": [
    {
     "data": {
      "image/png": "[encoded data removed]",
      "text/plain": [
       "<Figure size 432x288 with 1 Axes>"
      ]
     },
     "metadata": {
      "needs_background": "light"
     },
     "output_type": "display_data"
    }
   ],
   "source": [
    "# percent homeowner (non-imputed)\n",
    "plt.hist(data=df_solfin, x='Pct_hmowner', bins=30)\n",
    "plt.xlabel('% Homeowner')\n",
    "plt.ylabel('Count')\n",
    "plt.title('Non-imputed data');"
   ]
  },
  {
   "cell_type": "code",
   "execution_count": 274,
   "metadata": {},
   "outputs": [
    {
     "data": {
      "image/png": "[encoded data removed]",
      "text/plain": [
       "<Figure size 432x288 with 1 Axes>"
      ]
     },
     "metadata": {
      "needs_background": "light"
     },
     "output_type": "display_data"
    }
   ],
   "source": [
    "# percent homeowner (median-imputed)\n",
    "plt.hist(data=df_solfin, x='Pct_hmowner_imp', bins=30)\n",
    "plt.xlabel('% Homeowner')\n",
    "plt.ylabel('Count')\n",
    "plt.title('Median-imputed data');"
   ]
  },
  {
   "cell_type": "markdown",
   "metadata": {},
   "source": [
    "Unimputed homeowner status is slight right-skewed with a peak between 60-70. Median-imputed homeowner status is also right skewed but now has a more pronounce peak at, surprisingly, the median value."
   ]
  },
  {
   "cell_type": "markdown",
   "metadata": {},
   "source": [
    "Since the census data for population and income are from 2017, we'll use the 2017 Project Sunroof adoption data as the outcome variable."
   ]
  },
  {
   "cell_type": "code",
   "execution_count": 275,
   "metadata": {},
   "outputs": [
    {
     "data": {
      "image/png": "[encoded data removed]",
      "text/plain": [
       "<Figure size 432x288 with 1 Axes>"
      ]
     },
     "metadata": {
      "needs_background": "light"
     },
     "output_type": "display_data"
    }
   ],
   "source": [
    "# outcome variable: 2017 % adoption (# installs/# qualified roofs)\n",
    "plt.hist(data=df_solfin, x='pct_install_17', bins=30)\n",
    "plt.xlabel('% Adoption 2017')\n",
    "plt.ylabel('Count');"
   ]
  },
  {
   "cell_type": "markdown",
   "metadata": {},
   "source": [
    "Percent adoption is heavily right-skewed. We'll log transform to get a better look."
   ]
  },
  {
   "cell_type": "code",
   "execution_count": 276,
   "metadata": {},
   "outputs": [
    {
     "data": {
      "image/png": "[encoded data removed]",
      "text/plain": [
       "<Figure size 432x288 with 1 Axes>"
      ]
     },
     "metadata": {
      "needs_background": "light"
     },
     "output_type": "display_data"
    }
   ],
   "source": [
    "# severely skewed; log-transform\n",
    "bins = 10**np.arange(-2.2,1.2,0.1)\n",
    "new_tix = [0.005, 0.01, 0.1, 0.3, 0.5, 1, 5, 14]\n",
    "new_labs = ['{}'.format(v) for v in new_tix]\n",
    "plt.hist(data=df_solfin, x='pct_install_17', bins=bins)\n",
    "plt.xlabel('% Installations 2017')\n",
    "plt.xscale('log')\n",
    "plt.ylabel('Count')\n",
    "plt.xticks(new_tix, new_labs, rotation=45);"
   ]
  },
  {
   "cell_type": "markdown",
   "metadata": {},
   "source": [
    "Percent adoption remains left-skewed on a log scale, with a peak around 0.2% and a long tail with several smaller peaks."
   ]
  },
  {
   "cell_type": "code",
   "execution_count": 277,
   "metadata": {},
   "outputs": [
    {
     "data": {
      "image/png": "[encoded data removed]",
      "text/plain": [
       "<Figure size 432x288 with 1 Axes>"
      ]
     },
     "metadata": {
      "needs_background": "light"
     },
     "output_type": "display_data"
    }
   ],
   "source": [
    "# change in % adoption 2017-2021\n",
    "plt.hist(data=df_solfin, x='chg_pct_install', bins=30)\n",
    "plt.xlabel('Change in % Installations 2017-21')\n",
    "plt.ylabel('Count');"
   ]
  },
  {
   "cell_type": "markdown",
   "metadata": {},
   "source": [
    "Change in adoption is heavily right skewed, with almost all the values <= 0"
   ]
  },
  {
   "cell_type": "code",
   "execution_count": 278,
   "metadata": {},
   "outputs": [
    {
     "data": {
      "text/plain": [
       "count    481.000000\n",
       "mean      -6.556604\n",
       "std       10.629263\n",
       "min      -43.761307\n",
       "25%      -12.946285\n",
       "50%       -5.346196\n",
       "75%       -1.317061\n",
       "max       40.415733\n",
       "Name: chg_pct_covered, dtype: float64"
      ]
     },
     "metadata": {},
     "output_type": "display_data"
    },
    {
     "data": {
      "image/png": "[encoded data removed]",
      "text/plain": [
       "<Figure size 432x288 with 1 Axes>"
      ]
     },
     "metadata": {
      "needs_background": "light"
     },
     "output_type": "display_data"
    }
   ],
   "source": [
    "# the changes in adoption are tiny and mostly negative\n",
    "# is this mainly because of more coverage and/or identification of more eligible roofs?\n",
    "# coverage\n",
    "df_solfin['chg_pct_covered'] = df_solfin['percent_covered_21'] - df_solfin['percent_covered_17']\n",
    "display(df_solfin['chg_pct_covered'].describe())\n",
    "plt.hist(data=df_solfin, x='chg_pct_covered', bins=30)\n",
    "plt.xlabel('Change in % Coverage 2017-21')\n",
    "plt.ylabel('Count');"
   ]
  },
  {
   "cell_type": "markdown",
   "metadata": {},
   "source": [
    "Coverage by Project Sunroof actually tended to decrease slightly, so the small changes in adoption don't seem to be because they're covering a much larger number of roofs, but finding the same or fewer solar installations."
   ]
  },
  {
   "cell_type": "code",
   "execution_count": 279,
   "metadata": {},
   "outputs": [
    {
     "data": {
      "text/plain": [
       "count       481.000000\n",
       "mean      12322.891892\n",
       "std       21844.289388\n",
       "min       -1352.000000\n",
       "25%        2762.000000\n",
       "50%        5457.000000\n",
       "75%       13170.000000\n",
       "max      232179.000000\n",
       "Name: chg_qualified, dtype: float64"
      ]
     },
     "metadata": {},
     "output_type": "display_data"
    },
    {
     "data": {
      "image/png": "[encoded data removed]",
      "text/plain": [
       "<Figure size 432x288 with 1 Axes>"
      ]
     },
     "metadata": {
      "needs_background": "light"
     },
     "output_type": "display_data"
    }
   ],
   "source": [
    "# did the number of qualified roofs change?\n",
    "# qualified roofs\n",
    "df_solfin['chg_qualified'] = df_solfin['count_qualified_21'] - df_solfin['count_qualified_17']\n",
    "display(df_solfin['chg_qualified'].describe())\n",
    "plt.hist(data=df_solfin, x='chg_qualified', bins=30)\n",
    "plt.xlabel('Change in # Qualified Roofs 2017-21')\n",
    "plt.ylabel('Count');"
   ]
  },
  {
   "cell_type": "markdown",
   "metadata": {},
   "source": [
    "The number of qualified roofs did tend to increased. It's very left-skewed, so we'll log-transform for a better view."
   ]
  },
  {
   "cell_type": "code",
   "execution_count": 280,
   "metadata": {},
   "outputs": [
    {
     "data": {
      "image/png": "[encoded data removed]",
      "text/plain": [
       "<Figure size 432x288 with 1 Axes>"
      ]
     },
     "metadata": {
      "needs_background": "light"
     },
     "output_type": "display_data"
    }
   ],
   "source": [
    "# log transform due to R-skewness\n",
    "bins = 10**np.arange(2.5,5.5,0.1)\n",
    "new_tix = [1000, 5000, 10000, 30000, 70000, 200000]\n",
    "new_labs = ['{}'.format(v) for v in new_tix]\n",
    "plt.hist(data=df_solfin, x='chg_qualified', bins=bins)\n",
    "plt.xlabel('Change in # Qualified Roofs 2017-21')\n",
    "plt.xscale('log')\n",
    "plt.ylabel('Count')\n",
    "plt.xticks(new_tix, new_labs, rotation=45);"
   ]
  },
  {
   "cell_type": "markdown",
   "metadata": {},
   "source": [
    "On a log scale, change in qualified roofs appears nearly normal, with a peak around 5000.\n",
    "\n",
    "Let's see if there was a large % increase."
   ]
  },
  {
   "cell_type": "code",
   "execution_count": 281,
   "metadata": {},
   "outputs": [
    {
     "data": {
      "text/plain": [
       "count    481.000000\n",
       "mean      20.822621\n",
       "std       26.087140\n",
       "min       -3.182899\n",
       "25%        7.337942\n",
       "50%       10.728980\n",
       "75%       20.631561\n",
       "max      230.858758\n",
       "Name: chg_qualified_pct, dtype: float64"
      ]
     },
     "metadata": {},
     "output_type": "display_data"
    },
    {
     "data": {
      "image/png": "[encoded data removed]",
      "text/plain": [
       "<Figure size 432x288 with 1 Axes>"
      ]
     },
     "metadata": {
      "needs_background": "light"
     },
     "output_type": "display_data"
    }
   ],
   "source": [
    "# qualified roofs as % of 2017 value\n",
    "df_solfin['chg_qualified_pct'] = 100.0*df_solfin['chg_qualified']/df_solfin['count_qualified_17']\n",
    "display(df_solfin['chg_qualified_pct'].describe())\n",
    "plt.hist(data=df_solfin, x='chg_qualified_pct', bins=30)\n",
    "plt.xlabel('Percent Change in # Qualified Roofs 2017-21')\n",
    "plt.ylabel('Count');"
   ]
  },
  {
   "cell_type": "markdown",
   "metadata": {},
   "source": [
    "There was a fairly large percentage increase, which is also right-skewed. Let's look at log-scale data."
   ]
  },
  {
   "cell_type": "code",
   "execution_count": 282,
   "metadata": {},
   "outputs": [
    {
     "data": {
      "image/png": "[encoded data removed]",
      "text/plain": [
       "<Figure size 432x288 with 1 Axes>"
      ]
     },
     "metadata": {
      "needs_background": "light"
     },
     "output_type": "display_data"
    }
   ],
   "source": [
    "# log transform due to R-skewness\n",
    "bins = 10**np.arange(0,2.5,0.1)\n",
    "new_tix = [1, 5, 10, 30, 70, 200]\n",
    "new_labs = ['{}'.format(v) for v in new_tix]\n",
    "plt.hist(data=df_solfin, x='chg_qualified_pct', bins=bins)\n",
    "plt.xlabel('Percent Change in # Qualified Roofs 2017-21')\n",
    "plt.xscale('log')\n",
    "plt.ylabel('Count')\n",
    "plt.xticks(new_tix, new_labs, rotation=45);"
   ]
  },
  {
   "cell_type": "markdown",
   "metadata": {},
   "source": [
    "This is still slightly right-skewed, with a peak around 9%. This may explain the decrease in adoption, since the number of qualified roofs is the denominator for adoption. "
   ]
  },
  {
   "cell_type": "markdown",
   "metadata": {},
   "source": [
    "#### Mulitvariate\n",
    "\n",
    "These analyses compare the outcome variable (% of qualified roofs with installations, using the 2017 data) to each of the predictors."
   ]
  },
  {
   "cell_type": "code",
   "execution_count": 283,
   "metadata": {},
   "outputs": [
    {
     "data": {
      "image/png": "[encoded data removed]",
      "text/plain": [
       "<Figure size 936x936 with 2 Axes>"
      ]
     },
     "metadata": {
      "needs_background": "light"
     },
     "output_type": "display_data"
    }
   ],
   "source": [
    "# get the correlation-matrix heatmap \n",
    "fig, heat = plt.subplots(figsize = (13,13))\n",
    "heat = sb.heatmap(df_solfin.corr(), annot=True, fmt='.2f');"
   ]
  },
  {
   "cell_type": "markdown",
   "metadata": {},
   "source": [
    "#### Question 1: Is per-capita income associated with increased solar adoption?"
   ]
  },
  {
   "cell_type": "code",
   "execution_count": 284,
   "metadata": {},
   "outputs": [
    {
     "data": {
      "image/png": "[encoded data removed]",
      "text/plain": [
       "<Figure size 432x288 with 1 Axes>"
      ]
     },
     "metadata": {
      "needs_background": "light"
     },
     "output_type": "display_data"
    }
   ],
   "source": [
    "# first variable of interest: per-capita income\n",
    "plt.scatter(data=df_solfin, x='IncomePerCap', y='pct_install_17')\n",
    "plt.xlabel('Per-Capita Income ($)')\n",
    "plt.ylabel('% Qualified Roofs with Installations-2017');"
   ]
  },
  {
   "cell_type": "markdown",
   "metadata": {},
   "source": [
    "No clear relationship. There is no obvious indication that these are significant outliers whose removal would help the relationship."
   ]
  },
  {
   "cell_type": "markdown",
   "metadata": {},
   "source": [
    "#### Question 2: Is population density associated with increased solar adoption?"
   ]
  },
  {
   "cell_type": "code",
   "execution_count": 285,
   "metadata": {},
   "outputs": [
    {
     "data": {
      "image/png": "[encoded data removed]",
      "text/plain": [
       "<Figure size 432x288 with 1 Axes>"
      ]
     },
     "metadata": {
      "needs_background": "light"
     },
     "output_type": "display_data"
    }
   ],
   "source": [
    "# second variable of interest: population density\n",
    "plt.scatter(data=df_solfin, x='PopDens', y='pct_install_17')\n",
    "plt.xlabel('Population Density (persons/sq mi)')\n",
    "plt.ylabel('% Qualified Roofs with Installations-2017');"
   ]
  },
  {
   "cell_type": "markdown",
   "metadata": {},
   "source": [
    "This is highly right-skewed, so let's see if a log transformation elucidates any kind of relationship."
   ]
  },
  {
   "cell_type": "code",
   "execution_count": 286,
   "metadata": {},
   "outputs": [
    {
     "data": {
      "image/png": "[encoded data removed]",
      "text/plain": [
       "<Figure size 432x288 with 1 Axes>"
      ]
     },
     "metadata": {
      "needs_background": "light"
     },
     "output_type": "display_data"
    }
   ],
   "source": [
    "# redo the above with x on a log scale\n",
    "new_tix = [5, 50, 300, 700, 2000, 5000, 15000, 75000]\n",
    "new_labs = ['{}'.format(v) for v in new_tix]\n",
    "plt.scatter(data=df_solfin, x='PopDens', y='pct_install_17')\n",
    "plt.xlabel('Population Density (persons/sq mi)')\n",
    "plt.ylabel('% Qualified Roofs with Installations-2017')\n",
    "plt.xscale('log')\n",
    "plt.xticks(new_tix, new_labs, rotation=45);"
   ]
  },
  {
   "cell_type": "markdown",
   "metadata": {},
   "source": [
    "There is again no clear relationship, on a linear or log scale. The higher population densities represent heavily urban areas, so we want to keep them in the analysis. It does not appear removing them would change this weak relationship anyway."
   ]
  },
  {
   "cell_type": "markdown",
   "metadata": {},
   "source": [
    "#### Question 3: Is home ownership associated with increased solar adoption?"
   ]
  },
  {
   "cell_type": "code",
   "execution_count": 287,
   "metadata": {},
   "outputs": [
    {
     "data": {
      "image/png": "[encoded data removed]",
      "text/plain": [
       "<Figure size 432x288 with 1 Axes>"
      ]
     },
     "metadata": {
      "needs_background": "light"
     },
     "output_type": "display_data"
    }
   ],
   "source": [
    "# third variable of interest: % homeowner (non-imputed)\n",
    "plt.scatter(data=df_solfin, x='Pct_hmowner', y='pct_install_17')\n",
    "plt.xlabel('% Homes Owner-Occupied')\n",
    "plt.ylabel('% Qualified Roofs with Installations-2017')\n",
    "plt.title('Non-imputed data');"
   ]
  },
  {
   "cell_type": "code",
   "execution_count": 288,
   "metadata": {},
   "outputs": [
    {
     "data": {
      "image/png": "[encoded data removed]",
      "text/plain": [
       "<Figure size 432x288 with 1 Axes>"
      ]
     },
     "metadata": {
      "needs_background": "light"
     },
     "output_type": "display_data"
    }
   ],
   "source": [
    "# third variable of interest: % homeowner (median-imputed)\n",
    "plt.scatter(data=df_solfin, x='Pct_hmowner_imp', y='pct_install_17')\n",
    "plt.xlabel('% Homes Owner-Occupied')\n",
    "plt.ylabel('% Qualified Roofs with Installations-2017')\n",
    "plt.title('Median-imputed data');"
   ]
  },
  {
   "cell_type": "markdown",
   "metadata": {},
   "source": [
    "There is no clear relationship, except perhaps lower adoption at lower (< 30%) ownership rates. Again, there don't appear to be obvious outliers whose removal would impact the relationship."
   ]
  },
  {
   "cell_type": "markdown",
   "metadata": {},
   "source": [
    "#### Question 4: Which counties showed the most and least growth in solar adoption?"
   ]
  },
  {
   "cell_type": "code",
   "execution_count": 289,
   "metadata": {},
   "outputs": [
    {
     "data": {
      "text/html": [
       "<div>\n",
       "<style scoped>\n",
       "    .dataframe tbody tr th:only-of-type {\n",
       "        vertical-align: middle;\n",
       "    }\n",
       "\n",
       "    .dataframe tbody tr th {\n",
       "        vertical-align: top;\n",
       "    }\n",
       "\n",
       "    .dataframe thead th {\n",
       "        text-align: right;\n",
       "    }\n",
       "</style>\n",
       "<table border=\"1\" class=\"dataframe\">\n",
       "  <thead>\n",
       "    <tr style=\"text-align: right;\">\n",
       "      <th></th>\n",
       "      <th>region_name</th>\n",
       "      <th>state_name</th>\n",
       "      <th>count_qualified_17</th>\n",
       "      <th>percent_covered_17</th>\n",
       "      <th>percent_qualified_17</th>\n",
       "      <th>existing_installs_count_17</th>\n",
       "      <th>count_qualified_21</th>\n",
       "      <th>percent_covered_21</th>\n",
       "      <th>percent_qualified_21</th>\n",
       "      <th>existing_installs_count_21</th>\n",
       "      <th>...</th>\n",
       "      <th>land_area_sqmi</th>\n",
       "      <th>Pct_hmowner</th>\n",
       "      <th>Pct_hmowner_imp</th>\n",
       "      <th>PopDens</th>\n",
       "      <th>pct_install_17</th>\n",
       "      <th>pct_install_21</th>\n",
       "      <th>chg_pct_install</th>\n",
       "      <th>chg_pct_covered</th>\n",
       "      <th>chg_qualified</th>\n",
       "      <th>chg_qualified_pct</th>\n",
       "    </tr>\n",
       "  </thead>\n",
       "  <tbody>\n",
       "    <tr>\n",
       "      <th>4</th>\n",
       "      <td>Alameda County</td>\n",
       "      <td>California</td>\n",
       "      <td>329945</td>\n",
       "      <td>94.675889</td>\n",
       "      <td>88.489606</td>\n",
       "      <td>12126</td>\n",
       "      <td>372309.0</td>\n",
       "      <td>96.585338</td>\n",
       "      <td>94.294354</td>\n",
       "      <td>14127.0</td>\n",
       "      <td>...</td>\n",
       "      <td>739.02</td>\n",
       "      <td>53.0</td>\n",
       "      <td>53.0</td>\n",
       "      <td>2205.102704</td>\n",
       "      <td>3.675158</td>\n",
       "      <td>3.794429</td>\n",
       "      <td>0.119271</td>\n",
       "      <td>1.909450</td>\n",
       "      <td>42364.0</td>\n",
       "      <td>12.839716</td>\n",
       "    </tr>\n",
       "    <tr>\n",
       "      <th>432</th>\n",
       "      <td>Tuscaloosa County</td>\n",
       "      <td>Alabama</td>\n",
       "      <td>42477</td>\n",
       "      <td>91.844494</td>\n",
       "      <td>81.027412</td>\n",
       "      <td>4</td>\n",
       "      <td>41125.0</td>\n",
       "      <td>69.443791</td>\n",
       "      <td>81.999083</td>\n",
       "      <td>4.0</td>\n",
       "      <td>...</td>\n",
       "      <td>1321.76</td>\n",
       "      <td>63.3</td>\n",
       "      <td>63.3</td>\n",
       "      <td>154.660453</td>\n",
       "      <td>0.009417</td>\n",
       "      <td>0.009726</td>\n",
       "      <td>0.000310</td>\n",
       "      <td>-22.400703</td>\n",
       "      <td>-1352.0</td>\n",
       "      <td>-3.182899</td>\n",
       "    </tr>\n",
       "    <tr>\n",
       "      <th>124</th>\n",
       "      <td>Douglas County</td>\n",
       "      <td>Wisconsin</td>\n",
       "      <td>8474</td>\n",
       "      <td>91.179409</td>\n",
       "      <td>54.614591</td>\n",
       "      <td>0</td>\n",
       "      <td>11360.0</td>\n",
       "      <td>56.629883</td>\n",
       "      <td>71.177945</td>\n",
       "      <td>0.0</td>\n",
       "      <td>...</td>\n",
       "      <td>1304.14</td>\n",
       "      <td>NaN</td>\n",
       "      <td>65.1</td>\n",
       "      <td>33.357615</td>\n",
       "      <td>0.000000</td>\n",
       "      <td>0.000000</td>\n",
       "      <td>0.000000</td>\n",
       "      <td>-34.549526</td>\n",
       "      <td>2886.0</td>\n",
       "      <td>34.057116</td>\n",
       "    </tr>\n",
       "    <tr>\n",
       "      <th>44</th>\n",
       "      <td>Boyd County</td>\n",
       "      <td>Kentucky</td>\n",
       "      <td>5979</td>\n",
       "      <td>72.213898</td>\n",
       "      <td>77.538581</td>\n",
       "      <td>0</td>\n",
       "      <td>8968.0</td>\n",
       "      <td>77.716186</td>\n",
       "      <td>79.957204</td>\n",
       "      <td>0.0</td>\n",
       "      <td>...</td>\n",
       "      <td>159.86</td>\n",
       "      <td>NaN</td>\n",
       "      <td>65.1</td>\n",
       "      <td>303.302890</td>\n",
       "      <td>0.000000</td>\n",
       "      <td>0.000000</td>\n",
       "      <td>0.000000</td>\n",
       "      <td>5.502289</td>\n",
       "      <td>2989.0</td>\n",
       "      <td>49.991637</td>\n",
       "    </tr>\n",
       "    <tr>\n",
       "      <th>213</th>\n",
       "      <td>Jones County</td>\n",
       "      <td>Mississippi</td>\n",
       "      <td>3902</td>\n",
       "      <td>66.454534</td>\n",
       "      <td>71.860037</td>\n",
       "      <td>0</td>\n",
       "      <td>6302.0</td>\n",
       "      <td>71.708019</td>\n",
       "      <td>74.421351</td>\n",
       "      <td>0.0</td>\n",
       "      <td>...</td>\n",
       "      <td>694.80</td>\n",
       "      <td>69.3</td>\n",
       "      <td>69.3</td>\n",
       "      <td>98.341969</td>\n",
       "      <td>0.000000</td>\n",
       "      <td>0.000000</td>\n",
       "      <td>0.000000</td>\n",
       "      <td>5.253485</td>\n",
       "      <td>2400.0</td>\n",
       "      <td>61.506920</td>\n",
       "    </tr>\n",
       "    <tr>\n",
       "      <th>459</th>\n",
       "      <td>Wayne County</td>\n",
       "      <td>West Virginia</td>\n",
       "      <td>2975</td>\n",
       "      <td>55.240113</td>\n",
       "      <td>76.067502</td>\n",
       "      <td>0</td>\n",
       "      <td>5048.0</td>\n",
       "      <td>61.944167</td>\n",
       "      <td>81.248994</td>\n",
       "      <td>0.0</td>\n",
       "      <td>...</td>\n",
       "      <td>505.98</td>\n",
       "      <td>NaN</td>\n",
       "      <td>65.1</td>\n",
       "      <td>81.155382</td>\n",
       "      <td>0.000000</td>\n",
       "      <td>0.000000</td>\n",
       "      <td>0.000000</td>\n",
       "      <td>6.704055</td>\n",
       "      <td>2073.0</td>\n",
       "      <td>69.680672</td>\n",
       "    </tr>\n",
       "    <tr>\n",
       "      <th>115</th>\n",
       "      <td>Daviess County</td>\n",
       "      <td>Kentucky</td>\n",
       "      <td>12839</td>\n",
       "      <td>69.176154</td>\n",
       "      <td>77.972792</td>\n",
       "      <td>0</td>\n",
       "      <td>23924.0</td>\n",
       "      <td>73.690903</td>\n",
       "      <td>82.564881</td>\n",
       "      <td>0.0</td>\n",
       "      <td>...</td>\n",
       "      <td>458.35</td>\n",
       "      <td>67.5</td>\n",
       "      <td>67.5</td>\n",
       "      <td>216.555034</td>\n",
       "      <td>0.000000</td>\n",
       "      <td>0.000000</td>\n",
       "      <td>0.000000</td>\n",
       "      <td>4.514749</td>\n",
       "      <td>11085.0</td>\n",
       "      <td>86.338500</td>\n",
       "    </tr>\n",
       "    <tr>\n",
       "      <th>222</th>\n",
       "      <td>Kershaw County</td>\n",
       "      <td>South Carolina</td>\n",
       "      <td>10878</td>\n",
       "      <td>75.483376</td>\n",
       "      <td>78.934765</td>\n",
       "      <td>0</td>\n",
       "      <td>12076.0</td>\n",
       "      <td>54.904421</td>\n",
       "      <td>81.166823</td>\n",
       "      <td>0.0</td>\n",
       "      <td>...</td>\n",
       "      <td>726.56</td>\n",
       "      <td>81.4</td>\n",
       "      <td>81.4</td>\n",
       "      <td>87.720216</td>\n",
       "      <td>0.000000</td>\n",
       "      <td>0.000000</td>\n",
       "      <td>0.000000</td>\n",
       "      <td>-20.578955</td>\n",
       "      <td>1198.0</td>\n",
       "      <td>11.013054</td>\n",
       "    </tr>\n",
       "    <tr>\n",
       "      <th>441</th>\n",
       "      <td>Victoria County</td>\n",
       "      <td>Texas</td>\n",
       "      <td>23569</td>\n",
       "      <td>90.585693</td>\n",
       "      <td>92.188845</td>\n",
       "      <td>1</td>\n",
       "      <td>24305.0</td>\n",
       "      <td>64.692009</td>\n",
       "      <td>95.276362</td>\n",
       "      <td>1.0</td>\n",
       "      <td>...</td>\n",
       "      <td>882.14</td>\n",
       "      <td>68.7</td>\n",
       "      <td>68.7</td>\n",
       "      <td>103.745437</td>\n",
       "      <td>0.004243</td>\n",
       "      <td>0.004114</td>\n",
       "      <td>-0.000128</td>\n",
       "      <td>-25.893683</td>\n",
       "      <td>736.0</td>\n",
       "      <td>3.122746</td>\n",
       "    </tr>\n",
       "    <tr>\n",
       "      <th>123</th>\n",
       "      <td>Dougherty County</td>\n",
       "      <td>Georgia</td>\n",
       "      <td>23501</td>\n",
       "      <td>96.710872</td>\n",
       "      <td>75.119067</td>\n",
       "      <td>14</td>\n",
       "      <td>23640.0</td>\n",
       "      <td>95.086901</td>\n",
       "      <td>73.361470</td>\n",
       "      <td>14.0</td>\n",
       "      <td>...</td>\n",
       "      <td>328.69</td>\n",
       "      <td>46.7</td>\n",
       "      <td>46.7</td>\n",
       "      <td>278.444735</td>\n",
       "      <td>0.059572</td>\n",
       "      <td>0.059222</td>\n",
       "      <td>-0.000350</td>\n",
       "      <td>-1.623971</td>\n",
       "      <td>139.0</td>\n",
       "      <td>0.591464</td>\n",
       "    </tr>\n",
       "  </tbody>\n",
       "</table>\n",
       "<p>10 rows × 24 columns</p>\n",
       "</div>"
      ],
      "text/plain": [
       "           region_name      state_name  count_qualified_17  \\\n",
       "4       Alameda County      California              329945   \n",
       "432  Tuscaloosa County         Alabama               42477   \n",
       "124     Douglas County       Wisconsin                8474   \n",
       "44         Boyd County        Kentucky                5979   \n",
       "213       Jones County     Mississippi                3902   \n",
       "459       Wayne County   West Virginia                2975   \n",
       "115     Daviess County        Kentucky               12839   \n",
       "222     Kershaw County  South Carolina               10878   \n",
       "441    Victoria County           Texas               23569   \n",
       "123   Dougherty County         Georgia               23501   \n",
       "\n",
       "     percent_covered_17  percent_qualified_17  existing_installs_count_17  \\\n",
       "4             94.675889             88.489606                       12126   \n",
       "432           91.844494             81.027412                           4   \n",
       "124           91.179409             54.614591                           0   \n",
       "44            72.213898             77.538581                           0   \n",
       "213           66.454534             71.860037                           0   \n",
       "459           55.240113             76.067502                           0   \n",
       "115           69.176154             77.972792                           0   \n",
       "222           75.483376             78.934765                           0   \n",
       "441           90.585693             92.188845                           1   \n",
       "123           96.710872             75.119067                          14   \n",
       "\n",
       "     count_qualified_21  percent_covered_21  percent_qualified_21  \\\n",
       "4              372309.0           96.585338             94.294354   \n",
       "432             41125.0           69.443791             81.999083   \n",
       "124             11360.0           56.629883             71.177945   \n",
       "44               8968.0           77.716186             79.957204   \n",
       "213              6302.0           71.708019             74.421351   \n",
       "459              5048.0           61.944167             81.248994   \n",
       "115             23924.0           73.690903             82.564881   \n",
       "222             12076.0           54.904421             81.166823   \n",
       "441             24305.0           64.692009             95.276362   \n",
       "123             23640.0           95.086901             73.361470   \n",
       "\n",
       "     existing_installs_count_21  ... land_area_sqmi  Pct_hmowner  \\\n",
       "4                       14127.0  ...         739.02         53.0   \n",
       "432                         4.0  ...        1321.76         63.3   \n",
       "124                         0.0  ...        1304.14          NaN   \n",
       "44                          0.0  ...         159.86          NaN   \n",
       "213                         0.0  ...         694.80         69.3   \n",
       "459                         0.0  ...         505.98          NaN   \n",
       "115                         0.0  ...         458.35         67.5   \n",
       "222                         0.0  ...         726.56         81.4   \n",
       "441                         1.0  ...         882.14         68.7   \n",
       "123                        14.0  ...         328.69         46.7   \n",
       "\n",
       "     Pct_hmowner_imp      PopDens  pct_install_17  pct_install_21  \\\n",
       "4               53.0  2205.102704        3.675158        3.794429   \n",
       "432             63.3   154.660453        0.009417        0.009726   \n",
       "124             65.1    33.357615        0.000000        0.000000   \n",
       "44              65.1   303.302890        0.000000        0.000000   \n",
       "213             69.3    98.341969        0.000000        0.000000   \n",
       "459             65.1    81.155382        0.000000        0.000000   \n",
       "115             67.5   216.555034        0.000000        0.000000   \n",
       "222             81.4    87.720216        0.000000        0.000000   \n",
       "441             68.7   103.745437        0.004243        0.004114   \n",
       "123             46.7   278.444735        0.059572        0.059222   \n",
       "\n",
       "     chg_pct_install  chg_pct_covered  chg_qualified  chg_qualified_pct  \n",
       "4           0.119271         1.909450        42364.0          12.839716  \n",
       "432         0.000310       -22.400703        -1352.0          -3.182899  \n",
       "124         0.000000       -34.549526         2886.0          34.057116  \n",
       "44          0.000000         5.502289         2989.0          49.991637  \n",
       "213         0.000000         5.253485         2400.0          61.506920  \n",
       "459         0.000000         6.704055         2073.0          69.680672  \n",
       "115         0.000000         4.514749        11085.0          86.338500  \n",
       "222         0.000000       -20.578955         1198.0          11.013054  \n",
       "441        -0.000128       -25.893683          736.0           3.122746  \n",
       "123        -0.000350        -1.623971          139.0           0.591464  \n",
       "\n",
       "[10 rows x 24 columns]"
      ]
     },
     "execution_count": 289,
     "metadata": {},
     "output_type": "execute_result"
    }
   ],
   "source": [
    "# get top ten by change in % installs (for aim 2)\n",
    "pct_top10 = df_solfin.sort_values('chg_pct_install', axis=0, ascending=False).iloc[:10,:]\n",
    "pct_top10"
   ]
  },
  {
   "cell_type": "code",
   "execution_count": 290,
   "metadata": {},
   "outputs": [
    {
     "data": {
      "image/png": "[encoded data removed]",
      "text/plain": [
       "<Figure size 432x288 with 1 Axes>"
      ]
     },
     "metadata": {
      "needs_background": "light"
     },
     "output_type": "display_data"
    }
   ],
   "source": [
    "# look at the distribution of the top 10 by change in % adoption\n",
    "plt.barh(data=pct_top10, y=np.arange(10), width='chg_pct_install', tick_label='CtySt')\n",
    "plt.title('Top 10 Counties by % Change in Installs 2017-21')\n",
    "plt.xlabel('Change in Est. % Installs 2017-21')\n",
    "plt.xticks(np.arange(-0.02, 0.14, 0.02));"
   ]
  },
  {
   "cell_type": "markdown",
   "metadata": {},
   "source": [
    "Most of the \"top 10\" show almost no change in installations. The largest value is only 0.12%. Kentucky has the most entries (2) in the top 10. "
   ]
  },
  {
   "cell_type": "code",
   "execution_count": 291,
   "metadata": {},
   "outputs": [
    {
     "data": {
      "text/html": [
       "<div>\n",
       "<style scoped>\n",
       "    .dataframe tbody tr th:only-of-type {\n",
       "        vertical-align: middle;\n",
       "    }\n",
       "\n",
       "    .dataframe tbody tr th {\n",
       "        vertical-align: top;\n",
       "    }\n",
       "\n",
       "    .dataframe thead th {\n",
       "        text-align: right;\n",
       "    }\n",
       "</style>\n",
       "<table border=\"1\" class=\"dataframe\">\n",
       "  <thead>\n",
       "    <tr style=\"text-align: right;\">\n",
       "      <th></th>\n",
       "      <th>region_name</th>\n",
       "      <th>state_name</th>\n",
       "      <th>count_qualified_17</th>\n",
       "      <th>percent_covered_17</th>\n",
       "      <th>percent_qualified_17</th>\n",
       "      <th>existing_installs_count_17</th>\n",
       "      <th>count_qualified_21</th>\n",
       "      <th>percent_covered_21</th>\n",
       "      <th>percent_qualified_21</th>\n",
       "      <th>existing_installs_count_21</th>\n",
       "      <th>...</th>\n",
       "      <th>land_area_sqmi</th>\n",
       "      <th>Pct_hmowner</th>\n",
       "      <th>Pct_hmowner_imp</th>\n",
       "      <th>PopDens</th>\n",
       "      <th>pct_install_17</th>\n",
       "      <th>pct_install_21</th>\n",
       "      <th>chg_pct_install</th>\n",
       "      <th>chg_pct_covered</th>\n",
       "      <th>chg_qualified</th>\n",
       "      <th>chg_qualified_pct</th>\n",
       "    </tr>\n",
       "  </thead>\n",
       "  <tbody>\n",
       "    <tr>\n",
       "      <th>385</th>\n",
       "      <td>Santa Clara County</td>\n",
       "      <td>California</td>\n",
       "      <td>365304</td>\n",
       "      <td>89.384158</td>\n",
       "      <td>92.028407</td>\n",
       "      <td>25967</td>\n",
       "      <td>407240.0</td>\n",
       "      <td>91.593513</td>\n",
       "      <td>95.265944</td>\n",
       "      <td>26167.0</td>\n",
       "      <td>...</td>\n",
       "      <td>1290.10</td>\n",
       "      <td>54.9</td>\n",
       "      <td>54.9</td>\n",
       "      <td>1481.455701</td>\n",
       "      <td>7.108326</td>\n",
       "      <td>6.425449</td>\n",
       "      <td>-0.682877</td>\n",
       "      <td>2.209355</td>\n",
       "      <td>41936.0</td>\n",
       "      <td>11.479754</td>\n",
       "    </tr>\n",
       "    <tr>\n",
       "      <th>420</th>\n",
       "      <td>Sumter County</td>\n",
       "      <td>Florida</td>\n",
       "      <td>12029</td>\n",
       "      <td>59.129791</td>\n",
       "      <td>94.064748</td>\n",
       "      <td>124</td>\n",
       "      <td>39799.0</td>\n",
       "      <td>57.787106</td>\n",
       "      <td>97.671051</td>\n",
       "      <td>124.0</td>\n",
       "      <td>...</td>\n",
       "      <td>546.93</td>\n",
       "      <td>88.5</td>\n",
       "      <td>88.5</td>\n",
       "      <td>213.471559</td>\n",
       "      <td>1.030842</td>\n",
       "      <td>0.311566</td>\n",
       "      <td>-0.719277</td>\n",
       "      <td>-1.342685</td>\n",
       "      <td>27770.0</td>\n",
       "      <td>230.858758</td>\n",
       "    </tr>\n",
       "    <tr>\n",
       "      <th>232</th>\n",
       "      <td>Lake County</td>\n",
       "      <td>Florida</td>\n",
       "      <td>55672</td>\n",
       "      <td>72.911793</td>\n",
       "      <td>88.864768</td>\n",
       "      <td>1225</td>\n",
       "      <td>90288.0</td>\n",
       "      <td>63.098443</td>\n",
       "      <td>89.795918</td>\n",
       "      <td>1224.0</td>\n",
       "      <td>...</td>\n",
       "      <td>938.38</td>\n",
       "      <td>73.4</td>\n",
       "      <td>73.4</td>\n",
       "      <td>347.636352</td>\n",
       "      <td>2.200388</td>\n",
       "      <td>1.355662</td>\n",
       "      <td>-0.844726</td>\n",
       "      <td>-9.813350</td>\n",
       "      <td>34616.0</td>\n",
       "      <td>62.178474</td>\n",
       "    </tr>\n",
       "    <tr>\n",
       "      <th>272</th>\n",
       "      <td>Marin County</td>\n",
       "      <td>California</td>\n",
       "      <td>62120</td>\n",
       "      <td>92.918646</td>\n",
       "      <td>80.622972</td>\n",
       "      <td>6130</td>\n",
       "      <td>67983.0</td>\n",
       "      <td>87.044045</td>\n",
       "      <td>85.913054</td>\n",
       "      <td>6120.0</td>\n",
       "      <td>...</td>\n",
       "      <td>520.31</td>\n",
       "      <td>62.0</td>\n",
       "      <td>62.0</td>\n",
       "      <td>501.266553</td>\n",
       "      <td>9.867997</td>\n",
       "      <td>9.002251</td>\n",
       "      <td>-0.865747</td>\n",
       "      <td>-5.874602</td>\n",
       "      <td>5863.0</td>\n",
       "      <td>9.438184</td>\n",
       "    </tr>\n",
       "    <tr>\n",
       "      <th>276</th>\n",
       "      <td>Maui County</td>\n",
       "      <td>Hawaii</td>\n",
       "      <td>25736</td>\n",
       "      <td>66.025866</td>\n",
       "      <td>91.158969</td>\n",
       "      <td>2636</td>\n",
       "      <td>28060.0</td>\n",
       "      <td>63.650900</td>\n",
       "      <td>95.257494</td>\n",
       "      <td>2629.0</td>\n",
       "      <td>...</td>\n",
       "      <td>1161.52</td>\n",
       "      <td>60.8</td>\n",
       "      <td>60.8</td>\n",
       "      <td>141.275226</td>\n",
       "      <td>10.242462</td>\n",
       "      <td>9.369209</td>\n",
       "      <td>-0.873253</td>\n",
       "      <td>-2.374966</td>\n",
       "      <td>2324.0</td>\n",
       "      <td>9.030152</td>\n",
       "    </tr>\n",
       "    <tr>\n",
       "      <th>338</th>\n",
       "      <td>Placer County</td>\n",
       "      <td>California</td>\n",
       "      <td>97204</td>\n",
       "      <td>74.409411</td>\n",
       "      <td>89.191892</td>\n",
       "      <td>8916</td>\n",
       "      <td>111808.0</td>\n",
       "      <td>73.696802</td>\n",
       "      <td>92.120094</td>\n",
       "      <td>9141.0</td>\n",
       "      <td>...</td>\n",
       "      <td>1407.01</td>\n",
       "      <td>72.3</td>\n",
       "      <td>72.3</td>\n",
       "      <td>266.511965</td>\n",
       "      <td>9.172462</td>\n",
       "      <td>8.175622</td>\n",
       "      <td>-0.996840</td>\n",
       "      <td>-0.712609</td>\n",
       "      <td>14604.0</td>\n",
       "      <td>15.024073</td>\n",
       "    </tr>\n",
       "    <tr>\n",
       "      <th>186</th>\n",
       "      <td>Hernando County</td>\n",
       "      <td>Florida</td>\n",
       "      <td>29098</td>\n",
       "      <td>71.793277</td>\n",
       "      <td>90.053231</td>\n",
       "      <td>670</td>\n",
       "      <td>54906.0</td>\n",
       "      <td>67.396760</td>\n",
       "      <td>91.271174</td>\n",
       "      <td>670.0</td>\n",
       "      <td>...</td>\n",
       "      <td>472.54</td>\n",
       "      <td>80.8</td>\n",
       "      <td>80.8</td>\n",
       "      <td>379.108647</td>\n",
       "      <td>2.302564</td>\n",
       "      <td>1.220267</td>\n",
       "      <td>-1.082296</td>\n",
       "      <td>-4.396517</td>\n",
       "      <td>25808.0</td>\n",
       "      <td>88.693381</td>\n",
       "    </tr>\n",
       "    <tr>\n",
       "      <th>42</th>\n",
       "      <td>Boulder County</td>\n",
       "      <td>Colorado</td>\n",
       "      <td>38779</td>\n",
       "      <td>56.507248</td>\n",
       "      <td>68.277696</td>\n",
       "      <td>3783</td>\n",
       "      <td>44589.0</td>\n",
       "      <td>53.235929</td>\n",
       "      <td>77.305432</td>\n",
       "      <td>3830.0</td>\n",
       "      <td>...</td>\n",
       "      <td>726.29</td>\n",
       "      <td>61.6</td>\n",
       "      <td>61.6</td>\n",
       "      <td>436.164617</td>\n",
       "      <td>9.755280</td>\n",
       "      <td>8.589562</td>\n",
       "      <td>-1.165717</td>\n",
       "      <td>-3.271319</td>\n",
       "      <td>5810.0</td>\n",
       "      <td>14.982336</td>\n",
       "    </tr>\n",
       "    <tr>\n",
       "      <th>443</th>\n",
       "      <td>Volusia County</td>\n",
       "      <td>Florida</td>\n",
       "      <td>107028</td>\n",
       "      <td>69.982391</td>\n",
       "      <td>88.006315</td>\n",
       "      <td>4151</td>\n",
       "      <td>171675.0</td>\n",
       "      <td>82.886563</td>\n",
       "      <td>90.293009</td>\n",
       "      <td>4150.0</td>\n",
       "      <td>...</td>\n",
       "      <td>1101.03</td>\n",
       "      <td>71.6</td>\n",
       "      <td>71.6</td>\n",
       "      <td>471.068000</td>\n",
       "      <td>3.878424</td>\n",
       "      <td>2.417358</td>\n",
       "      <td>-1.461066</td>\n",
       "      <td>12.904172</td>\n",
       "      <td>64647.0</td>\n",
       "      <td>60.401951</td>\n",
       "    </tr>\n",
       "    <tr>\n",
       "      <th>285</th>\n",
       "      <td>Middlesex County</td>\n",
       "      <td>New Jersey</td>\n",
       "      <td>89845</td>\n",
       "      <td>56.448600</td>\n",
       "      <td>78.036515</td>\n",
       "      <td>2659</td>\n",
       "      <td>178638.0</td>\n",
       "      <td>96.864333</td>\n",
       "      <td>85.646068</td>\n",
       "      <td>2658.0</td>\n",
       "      <td>...</td>\n",
       "      <td>308.91</td>\n",
       "      <td>63.5</td>\n",
       "      <td>63.5</td>\n",
       "      <td>2710.459357</td>\n",
       "      <td>2.959541</td>\n",
       "      <td>1.487925</td>\n",
       "      <td>-1.471616</td>\n",
       "      <td>40.415733</td>\n",
       "      <td>88793.0</td>\n",
       "      <td>98.829095</td>\n",
       "    </tr>\n",
       "  </tbody>\n",
       "</table>\n",
       "<p>10 rows × 24 columns</p>\n",
       "</div>"
      ],
      "text/plain": [
       "            region_name  state_name  count_qualified_17  percent_covered_17  \\\n",
       "385  Santa Clara County  California              365304           89.384158   \n",
       "420       Sumter County     Florida               12029           59.129791   \n",
       "232         Lake County     Florida               55672           72.911793   \n",
       "272        Marin County  California               62120           92.918646   \n",
       "276         Maui County      Hawaii               25736           66.025866   \n",
       "338       Placer County  California               97204           74.409411   \n",
       "186     Hernando County     Florida               29098           71.793277   \n",
       "42       Boulder County    Colorado               38779           56.507248   \n",
       "443      Volusia County     Florida              107028           69.982391   \n",
       "285    Middlesex County  New Jersey               89845           56.448600   \n",
       "\n",
       "     percent_qualified_17  existing_installs_count_17  count_qualified_21  \\\n",
       "385             92.028407                       25967            407240.0   \n",
       "420             94.064748                         124             39799.0   \n",
       "232             88.864768                        1225             90288.0   \n",
       "272             80.622972                        6130             67983.0   \n",
       "276             91.158969                        2636             28060.0   \n",
       "338             89.191892                        8916            111808.0   \n",
       "186             90.053231                         670             54906.0   \n",
       "42              68.277696                        3783             44589.0   \n",
       "443             88.006315                        4151            171675.0   \n",
       "285             78.036515                        2659            178638.0   \n",
       "\n",
       "     percent_covered_21  percent_qualified_21  existing_installs_count_21  \\\n",
       "385           91.593513             95.265944                     26167.0   \n",
       "420           57.787106             97.671051                       124.0   \n",
       "232           63.098443             89.795918                      1224.0   \n",
       "272           87.044045             85.913054                      6120.0   \n",
       "276           63.650900             95.257494                      2629.0   \n",
       "338           73.696802             92.120094                      9141.0   \n",
       "186           67.396760             91.271174                       670.0   \n",
       "42            53.235929             77.305432                      3830.0   \n",
       "443           82.886563             90.293009                      4150.0   \n",
       "285           96.864333             85.646068                      2658.0   \n",
       "\n",
       "     ... land_area_sqmi  Pct_hmowner  Pct_hmowner_imp      PopDens  \\\n",
       "385  ...        1290.10         54.9             54.9  1481.455701   \n",
       "420  ...         546.93         88.5             88.5   213.471559   \n",
       "232  ...         938.38         73.4             73.4   347.636352   \n",
       "272  ...         520.31         62.0             62.0   501.266553   \n",
       "276  ...        1161.52         60.8             60.8   141.275226   \n",
       "338  ...        1407.01         72.3             72.3   266.511965   \n",
       "186  ...         472.54         80.8             80.8   379.108647   \n",
       "42   ...         726.29         61.6             61.6   436.164617   \n",
       "443  ...        1101.03         71.6             71.6   471.068000   \n",
       "285  ...         308.91         63.5             63.5  2710.459357   \n",
       "\n",
       "     pct_install_17  pct_install_21  chg_pct_install  chg_pct_covered  \\\n",
       "385        7.108326        6.425449        -0.682877         2.209355   \n",
       "420        1.030842        0.311566        -0.719277        -1.342685   \n",
       "232        2.200388        1.355662        -0.844726        -9.813350   \n",
       "272        9.867997        9.002251        -0.865747        -5.874602   \n",
       "276       10.242462        9.369209        -0.873253        -2.374966   \n",
       "338        9.172462        8.175622        -0.996840        -0.712609   \n",
       "186        2.302564        1.220267        -1.082296        -4.396517   \n",
       "42         9.755280        8.589562        -1.165717        -3.271319   \n",
       "443        3.878424        2.417358        -1.461066        12.904172   \n",
       "285        2.959541        1.487925        -1.471616        40.415733   \n",
       "\n",
       "     chg_qualified  chg_qualified_pct  \n",
       "385        41936.0          11.479754  \n",
       "420        27770.0         230.858758  \n",
       "232        34616.0          62.178474  \n",
       "272         5863.0           9.438184  \n",
       "276         2324.0           9.030152  \n",
       "338        14604.0          15.024073  \n",
       "186        25808.0          88.693381  \n",
       "42          5810.0          14.982336  \n",
       "443        64647.0          60.401951  \n",
       "285        88793.0          98.829095  \n",
       "\n",
       "[10 rows x 24 columns]"
      ]
     },
     "execution_count": 291,
     "metadata": {},
     "output_type": "execute_result"
    }
   ],
   "source": [
    "# get bottom ten by change in % installs (for aim 2)\n",
    "pct_btm10 = df_solfin.sort_values('chg_pct_install', axis=0, ascending=False).iloc[-10:,:]\n",
    "pct_btm10"
   ]
  },
  {
   "cell_type": "code",
   "execution_count": 292,
   "metadata": {},
   "outputs": [
    {
     "data": {
      "image/png": "[encoded data removed]",
      "text/plain": [
       "<Figure size 432x288 with 1 Axes>"
      ]
     },
     "metadata": {
      "needs_background": "light"
     },
     "output_type": "display_data"
    }
   ],
   "source": [
    "# plot the bottom 10\n",
    "plt.barh(data=pct_btm10, y=np.arange(10,0,-1), width='chg_pct_install', tick_label='CtySt')\n",
    "plt.title('Bottom 10 Counties by % Change in Installs 2017-21')\n",
    "plt.xlabel('Change in % Est. Installs 2017-21');"
   ]
  },
  {
   "cell_type": "markdown",
   "metadata": {},
   "source": [
    "The bottom 10 show decreases in installations of about -0.7% to -1.5%. Florida has the most entries (4) in the bottom 10. \n",
    "\n",
    "The significance of the negative number is unclear. Solar panels tend to last 25-30 years, so it is unlikely existing installations were removed. It may be related to how much data Project Sunroof obtained, or to its method for estimating installations. As seen above, it appears the number and percentage of qualified roofs increased from 2017 to 2021. Let's see if that has a relationship with the change in % roofs with installations."
   ]
  },
  {
   "cell_type": "code",
   "execution_count": 293,
   "metadata": {},
   "outputs": [
    {
     "data": {
      "image/png": "[encoded data removed]",
      "text/plain": [
       "<Figure size 432x288 with 1 Axes>"
      ]
     },
     "metadata": {
      "needs_background": "light"
     },
     "output_type": "display_data"
    }
   ],
   "source": [
    "# visualize relationship between change in # qualified roofs and change in % installs\n",
    "plt.scatter(data=df_solfin, x='chg_qualified', y='chg_pct_install')\n",
    "plt.xlabel('Change in # Roofs Qualified 2017-21')\n",
    "plt.ylabel('Change in % Installations 2017-21');"
   ]
  },
  {
   "cell_type": "markdown",
   "metadata": {},
   "source": [
    "There is no clear relationship here. The correlation coefficient is 0.10, indicating a weak positive relationship. This is the opposite of what we'd expect and is probably artifactual due to the scatter in the data at lower x-values."
   ]
  },
  {
   "cell_type": "code",
   "execution_count": 294,
   "metadata": {},
   "outputs": [
    {
     "data": {
      "image/png": "[encoded data removed]",
      "text/plain": [
       "<Figure size 432x288 with 1 Axes>"
      ]
     },
     "metadata": {
      "needs_background": "light"
     },
     "output_type": "display_data"
    }
   ],
   "source": [
    "# visualize relationship between % change in qualified roofs and change in % installs\n",
    "plt.scatter(data=df_solfin, x='chg_qualified_pct', y='chg_pct_install')\n",
    "plt.xlabel('% Change in # Roofs Qualified 2017-21')\n",
    "plt.ylabel('Change in % Installations 2017-21');"
   ]
  },
  {
   "cell_type": "markdown",
   "metadata": {},
   "source": [
    "There may be a slight negative trend here, although there is again no clear relationship. The correlation coefficient is -0.11, indicating a weak positive relationship, which is more in line with what we'd expect (more qualified roofs leading to a lower % of installations if more panels aren't identified)."
   ]
  },
  {
   "cell_type": "markdown",
   "metadata": {},
   "source": [
    "## Modeling\n",
    "\n",
    "There doesn't appear to be a strong relationship between any of the variables of interest and prevalence of solar installations, but will verify by attempting to fit a multivariate linear regression.\n",
    "\n",
    "#### Model 1: Using non-imputed home ownership data"
   ]
  },
  {
   "cell_type": "code",
   "execution_count": 295,
   "metadata": {},
   "outputs": [
    {
     "data": {
      "text/plain": [
       "'The r-squared score for your model was -0.12233636313826435 on 135 values.'"
      ]
     },
     "execution_count": 295,
     "metadata": {},
     "output_type": "execute_result"
    }
   ],
   "source": [
    "#Split into explanatory and response variables\n",
    "X = df_solfin[~df_solfin['Pct_hmowner'].isnull()][['IncomePerCap', 'PopDens', 'Pct_hmowner']]\n",
    "y = df_solfin[~df_solfin['Pct_hmowner'].isnull()]['pct_install_17']\n",
    "\n",
    "#Split into train and test\n",
    "X_train, X_test, y_train, y_test = train_test_split(X, y, test_size = .30, random_state=42) \n",
    "\n",
    "lm_model = LinearRegression(normalize=True) # Instantiate\n",
    "lm_model.fit(X_train, y_train) #Fit\n",
    "        \n",
    "#Predict and score the model\n",
    "r2_test = lm_model.score(X_test, y_test) \n",
    "\"The r-squared score for your model was {} on {} values.\".format(r2_test, len(y_test))"
   ]
  },
  {
   "cell_type": "markdown",
   "metadata": {},
   "source": [
    "#### Model 2: Using median-imputed home ownership data"
   ]
  },
  {
   "cell_type": "code",
   "execution_count": 296,
   "metadata": {},
   "outputs": [
    {
     "data": {
      "text/plain": [
       "'The r-squared score for your model was 0.028582350506633825 on 145 values.'"
      ]
     },
     "execution_count": 296,
     "metadata": {},
     "output_type": "execute_result"
    }
   ],
   "source": [
    "#Split into explanatory and response variables\n",
    "X = df_solfin[['IncomePerCap', 'PopDens', 'Pct_hmowner_imp']]\n",
    "y = df_solfin['pct_install_17']\n",
    "\n",
    "#Split into train and test\n",
    "X_train, X_test, y_train, y_test = train_test_split(X, y, test_size = .30, random_state=42) \n",
    "\n",
    "lm_model = LinearRegression(normalize=True) # Instantiate\n",
    "lm_model.fit(X_train, y_train) #Fit\n",
    "        \n",
    "#Predict and score the model\n",
    "r2_test = lm_model.score(X_test, y_test) \n",
    "\"The r-squared score for your model was {} on {} values.\".format(r2_test, len(y_test))"
   ]
  },
  {
   "cell_type": "markdown",
   "metadata": {},
   "source": [
    "The imputed dataset gives slightly better performance, from no explanatory power to very slight. This is probably not a practically significant difference."
   ]
  },
  {
   "cell_type": "markdown",
   "metadata": {},
   "source": [
    "## Results"
   ]
  },
  {
   "cell_type": "markdown",
   "metadata": {},
   "source": [
    "#### Question 1: Is per-capita income associated with increased solar adoption?"
   ]
  },
  {
   "cell_type": "code",
   "execution_count": 297,
   "metadata": {},
   "outputs": [
    {
     "data": {
      "image/png": "[encoded data removed]",
      "text/plain": [
       "<Figure size 864x576 with 1 Axes>"
      ]
     },
     "metadata": {
      "needs_background": "light"
     },
     "output_type": "display_data"
    }
   ],
   "source": [
    "fig1, scat1 = plt.subplots(figsize = (12,8))\n",
    "scat1 = plt.scatter(data=df_solfin, x='IncomePerCap', y='pct_install_17')\n",
    "plt.xlabel('Per-Capita Income ($)')\n",
    "plt.ylabel('Qualified Roofs with Installations (%)-2017')\n",
    "plt.title('Estimated Solar Installations per County by Per-Capita Income');"
   ]
  },
  {
   "cell_type": "markdown",
   "metadata": {},
   "source": [
    "The correlation coefficient for these two variables is 0.25, indicating a weak positive relationship. The scatter plot shows a slightly linear relationship, influenced by a few points at higher income levels. "
   ]
  },
  {
   "cell_type": "markdown",
   "metadata": {},
   "source": [
    "#### Question 2: Is population density associated with increased solar adoption?"
   ]
  },
  {
   "cell_type": "code",
   "execution_count": 298,
   "metadata": {},
   "outputs": [
    {
     "data": {
      "image/png": "[encoded data removed]",
      "text/plain": [
       "<Figure size 864x576 with 1 Axes>"
      ]
     },
     "metadata": {
      "needs_background": "light"
     },
     "output_type": "display_data"
    }
   ],
   "source": [
    "fig2, scat2 = plt.subplots(figsize = (12,8))\n",
    "scat2 = plt.scatter(data=df_solfin, x='PopDens', y='pct_install_17')\n",
    "new_tix = [5, 50, 300, 700, 2000, 5000, 15000, 75000]\n",
    "new_labs = ['{}'.format(v) for v in new_tix]\n",
    "plt.xlabel('Population Density (persons/square mile)')\n",
    "plt.ylabel('Qualified Roofs with Installations (%)-2017')\n",
    "plt.xscale('log')\n",
    "plt.xticks(new_tix, new_labs, rotation=45);\n",
    "plt.title('Estimated Solar Installations per County by Population Density');"
   ]
  },
  {
   "cell_type": "markdown",
   "metadata": {},
   "source": [
    "The correlation between these two variables -0.01, indicating a very weak negative relationship. Transforming the right-skewed data to a  logarithmic scale (as shown above) does not reveal a clear relationship. There is a peak at moderate population densities, but most of the data are clustered around the lowest adoption rates."
   ]
  },
  {
   "cell_type": "markdown",
   "metadata": {},
   "source": [
    "#### Question 3: Is home ownership associated with increased solar adoption?"
   ]
  },
  {
   "cell_type": "code",
   "execution_count": 299,
   "metadata": {},
   "outputs": [
    {
     "data": {
      "image/png": "[encoded data removed]",
      "text/plain": [
       "<Figure size 864x576 with 1 Axes>"
      ]
     },
     "metadata": {
      "needs_background": "light"
     },
     "output_type": "display_data"
    }
   ],
   "source": [
    "# third variable of interest: % homeowner (non-imputed)\n",
    "fig3, scat3 = plt.subplots(figsize = (12,8))\n",
    "scat3 = plt.scatter(data=df_solfin, x='Pct_hmowner', y='pct_install_17')\n",
    "plt.xlabel('Owner-Occupied Homes (%)')\n",
    "plt.ylabel('Qualified Roofs with Installations (%)-2017')\n",
    "plt.title('Estimated Solar Installations per County by Percentage of Owner-Occupied Homes (Non-Imputed)');"
   ]
  },
  {
   "cell_type": "code",
   "execution_count": 300,
   "metadata": {},
   "outputs": [
    {
     "data": {
      "image/png": "[encoded data removed]",
      "text/plain": [
       "<Figure size 864x576 with 1 Axes>"
      ]
     },
     "metadata": {
      "needs_background": "light"
     },
     "output_type": "display_data"
    }
   ],
   "source": [
    "# third variable of interest: % homeowner (median-imputed)\n",
    "fig4, scat4 = plt.subplots(figsize = (12,8))\n",
    "scat4 = plt.scatter(data=df_solfin, x='Pct_hmowner_imp', y='pct_install_17')\n",
    "plt.xlabel('Owner-Occupied Homes (%)')\n",
    "plt.ylabel('Qualified Roofs with Installations (%)-2017')\n",
    "plt.title('Estimated Solar Installations per County by Percentage of Owner-Occupied Homes (Median-Imputed)');"
   ]
  },
  {
   "cell_type": "markdown",
   "metadata": {},
   "source": [
    "The correlation between these two variables was -0.06, regardless of whether non-imputed or imputed data were used. While there does seem to be an association of lower solar adoption with lower prevalence of home ownership (< 30%), the bulk of the data are heavily scattered, similar to those for population density. Like the correlation coefficient, the visual relationship is unchanged by the presence of the imputed data. "
   ]
  },
  {
   "cell_type": "markdown",
   "metadata": {},
   "source": [
    "#### Multivariate model"
   ]
  },
  {
   "cell_type": "markdown",
   "metadata": {},
   "source": [
    "The linear regression model, with percentage of qualified roofs with installations as the dependent variable and per-capita income, population density, and home ownsership as the independent variables, did not show strong explanatory power when assessed on a test dataset comprised of 30% of the data. The model without imputed home ownership (N = 135 training values) had an R-squared of -0.12, indicating no explanatory value. The model using the median-imputed home ownership data (N = 145 training values) was slightly better, with an R-squared of 0.03. This probably has no practical significance, as the latter model still has very little explanatory power."
   ]
  },
  {
   "cell_type": "markdown",
   "metadata": {},
   "source": [
    "#### Question 4: Which counties showed the most and least growth in solar adoption?"
   ]
  },
  {
   "cell_type": "code",
   "execution_count": 301,
   "metadata": {},
   "outputs": [
    {
     "data": {
      "image/png": "[encoded data removed]",
      "text/plain": [
       "<Figure size 864x576 with 1 Axes>"
      ]
     },
     "metadata": {
      "needs_background": "light"
     },
     "output_type": "display_data"
    }
   ],
   "source": [
    "fig5, bar1 = plt.subplots(figsize = (12,8))\n",
    "pct_top10['negpos'] = pct_top10['chg_pct_install'] < 0\n",
    "bar1 = plt.barh(data=pct_top10, y=np.arange(10), width='chg_pct_install', tick_label='CtySt',\\\n",
    "               color=pct_top10['negpos'].map({True:'r', False:'g'}))\n",
    "plt.title('Top 10 Counties by Change in Percent Installs 2017-21')\n",
    "plt.xlabel('Change in Est. % Installs 2017-21')\n",
    "plt.xticks(np.arange(-0.02, 0.14, 0.02));"
   ]
  },
  {
   "cell_type": "code",
   "execution_count": 302,
   "metadata": {},
   "outputs": [
    {
     "data": {
      "image/png": "[encoded data removed]",
      "text/plain": [
       "<Figure size 864x576 with 1 Axes>"
      ]
     },
     "metadata": {
      "needs_background": "light"
     },
     "output_type": "display_data"
    }
   ],
   "source": [
    "fig6, bar2 = plt.subplots(figsize = (12,8))\n",
    "pct_btm10['negpos'] = pct_btm10['chg_pct_install'] < 0\n",
    "bar1 = plt.barh(data=pct_btm10, y=np.arange(10,0,-1), width='chg_pct_install', tick_label='CtySt',\\\n",
    "               color=pct_btm10['negpos'].map({True:'r', False:'g'}))\n",
    "plt.title('Bottom 10 Counties by Change in Percent Installs 2017-21')\n",
    "plt.xlabel('Change in Est. % Installs 2017-21');"
   ]
  },
  {
   "cell_type": "markdown",
   "metadata": {},
   "source": [
    "The Project Sunroof data showed very modest changes from 2017 to 2021 in the percentage of eligible roofs estimated to have solar installations. The median and interquartile range for the difference in percentages was -0.02% [-0.1%, -0.01%]. Of the top 10 counties, only two showed increased installation prevalence, and the maximum value was 0.12%. The bottom 10 counties showed changes ranging from -0.7% to -1.5%. Kentucky had the most counties (2) in the top 10, while Florida had the most (4) in the bottom 10.\n",
    "\n",
    "It is possible the decline in installation prevalence could be due to Project Sunroof having data available on more homes in 2021. However, for the counties analyzed, the median and interquartile range for change in percent of Google Maps coverage from 2017 to 2021 was actually negative: -5.3% [-12.9%, -1.3%].\n",
    "\n",
    "Another possibility might be that more houses are being deemed solar-qualified by Google's algorithm. This did seem to be the case: the median and interquartile range for percent change in number of qualified roofs from 2017 to 2021 was 10.7% [7.3%, 20.6%]. However, when this variable was plotted against the change in percentage of roofs estimated to have installations, there was only a weak negative trend (correlation coefficient -0.24), as shown below."
   ]
  },
  {
   "cell_type": "code",
   "execution_count": 303,
   "metadata": {},
   "outputs": [
    {
     "data": {
      "image/png": "[encoded data removed]",
      "text/plain": [
       "<Figure size 864x576 with 1 Axes>"
      ]
     },
     "metadata": {
      "needs_background": "light"
     },
     "output_type": "display_data"
    }
   ],
   "source": [
    "# visualize relationship between % change in qualified roofs and change in % installs\n",
    "fig7, scat5 = plt.subplots(figsize = (12,8))\n",
    "scat5 = plt.scatter(data=df_solfin, x='chg_qualified_pct', y='chg_pct_install')\n",
    "plt.xlabel('Change in # Roofs Qualified 2017-21 (%)')\n",
    "plt.ylabel('Change in Est. % Installs 2017-21')\n",
    "plt.title('Change in Estimated Installations by Percent Change in Number of Qualified Roofs');"
   ]
  },
  {
   "cell_type": "markdown",
   "metadata": {},
   "source": [
    "## Deployment"
   ]
  },
  {
   "cell_type": "markdown",
   "metadata": {},
   "source": [
    "This analysis did not show a clear relationship between the selected demographic variables (per-capita income, population density, and home ownership) and the percentage of solar-qualified homes estimated to have solar installations by Google Project Sunroof. There was a very slight improvement in the model a slightly larger dataset, with home ownership median-imputed. However, this change did not meaningfully alter the conclusions.\n",
    "\n",
    "This may have been due to the low prevalence of solar installations identified (median 0.2% of qualified roofs) making it hard to clearly define a relationship. It is also possible that other variables, such as state or local incentives (e.g., tax credits and availability of net metering), zoning or homeowner association restrictions, and availability of solar installers and maintainers could have a larger influence than demographics. These variables were not captured in the dataset and would be appropriate subjects for further analysis.\n",
    "\n",
    "Additionally, the data may not be an adequate or representative sample. The data cover 481 counties (449 without imputing home ownership) in 49 states, out of 3142 counties in the 2017 Census data. Only counties with at least 50% of their Google Maps data included in Project Sunroof were included. This may bias the data toward areas where Google was more easily able, or more motivated, to collect aerial footage and to analyze it via Project Sunroof.\n",
    "\n",
    "Furthermore, it is possible that Project Sunroof is not accurately estimating the number of installations. According to the [methodology](https://www.google.com/get/sunroof/data-explorer/data-explorer-methodology.pdf), installations are estimated by a machine-learning algorithm which was trained on human-labeled images of roofs. They admit that this approach is limited by the paucity of imagery of solar installations available. No data are provided on the accuracy of the algorithm, or any effort to validate it, e.g. with sales data from solar panel installers.\n",
    "\n",
    "The analysis of growth in solar adoption using 2021 versus 2017 data showed very little change in the percentage of solar-eligible roofs estimated to have solar installations. In fact, most of the data showed no change or a slight decrease. A decrease in installations due to their removal is unlikely, as good-quality solar panels can last 25-30 years. [Solar energy industry data](https://www.seia.org/solar-industry-research-data) also indicate a steady rise in residential installations between 2017 and 2021. However, the latter data indicate total residential installations in the 2000-3000 homes/year range for that period, representing a very small percentage of homes. Additionally, the accuracy of these numbers depends on the machine-learning algorithm used to identify solar installations, whose accuracy, as discussed above, is unknown.\n",
    "\n",
    "In summary, this analysis was unable to identify a relationship between the studied demographic variables and solar adoption for selected US counties. Other explanatory variables may wield heavier influence. Estimating growth in solar adoption using the Project Sunroof data showed almost no increase in installations as a percentage of roofs identified as eligible. Multiple limitations in the data collection methodology may explain these findings, and further study is warranted."
   ]
  },
  {
   "cell_type": "markdown",
   "metadata": {},
   "source": [
    "#### wrap-up"
   ]
  },
  {
   "cell_type": "code",
   "execution_count": 304,
   "metadata": {},
   "outputs": [],
   "source": [
    "# save the final data\n",
    "df_solfin.to_csv('solar_final.csv')"
   ]
  },
  {
   "cell_type": "code",
   "execution_count": 305,
   "metadata": {},
   "outputs": [
    {
     "name": "stdout",
     "output_type": "stream",
     "text": [
      "<class 'pandas.core.frame.DataFrame'>\n",
      "Int64Index: 481 entries, 0 to 480\n",
      "Data columns (total 24 columns):\n",
      " #   Column                      Non-Null Count  Dtype  \n",
      "---  ------                      --------------  -----  \n",
      " 0   region_name                 481 non-null    object \n",
      " 1   state_name                  481 non-null    object \n",
      " 2   count_qualified_17          481 non-null    int64  \n",
      " 3   percent_covered_17          481 non-null    float64\n",
      " 4   percent_qualified_17        481 non-null    float64\n",
      " 5   existing_installs_count_17  481 non-null    int64  \n",
      " 6   count_qualified_21          481 non-null    float64\n",
      " 7   percent_covered_21          481 non-null    float64\n",
      " 8   percent_qualified_21        481 non-null    float64\n",
      " 9   existing_installs_count_21  481 non-null    float64\n",
      " 10  CtySt                       481 non-null    object \n",
      " 11  TotalPop                    481 non-null    int64  \n",
      " 12  IncomePerCap                481 non-null    int64  \n",
      " 13  StCtyID                     481 non-null    object \n",
      " 14  land_area_sqmi              481 non-null    float64\n",
      " 15  Pct_hmowner                 449 non-null    float64\n",
      " 16  Pct_hmowner_imp             481 non-null    float64\n",
      " 17  PopDens                     481 non-null    float64\n",
      " 18  pct_install_17              481 non-null    float64\n",
      " 19  pct_install_21              481 non-null    float64\n",
      " 20  chg_pct_install             481 non-null    float64\n",
      " 21  chg_pct_covered             481 non-null    float64\n",
      " 22  chg_qualified               481 non-null    float64\n",
      " 23  chg_qualified_pct           481 non-null    float64\n",
      "dtypes: float64(16), int64(4), object(4)\n",
      "memory usage: 93.9+ KB\n"
     ]
    }
   ],
   "source": [
    "df_solfin.info()"
   ]
  }
 ],
 "metadata": {
  "kernelspec": {
   "display_name": "Python 3",
   "language": "python",
   "name": "python3"
  },
  "language_info": {
   "codemirror_mode": {
    "name": "ipython",
    "version": 3
   },
   "file_extension": ".py",
   "mimetype": "text/x-python",
   "name": "python",
   "nbconvert_exporter": "python",
   "pygments_lexer": "ipython3",
   "version": "3.8.5"
  }
 },
 "nbformat": 4,
 "nbformat_minor": 4
}
